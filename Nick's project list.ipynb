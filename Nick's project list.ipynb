{
 "cells": [
  {
   "cell_type": "markdown",
   "metadata": {},
   "source": [
    "# Download, annotate, and clean CIS-PD Videos"
   ]
  },
  {
   "cell_type": "markdown",
   "metadata": {},
   "source": [
    "Project status:\n",
    "- COMPLETE: Download cycle videos for list of subjects\n",
    "- COMPLETE: Annotate videos\n",
    "- IN PROGRESS: Clip videos into activities\n",
    "    - fix dataclean()\n",
    "- Get start times for videos using Python\n",
    "- Use start/stop frame number and convert to UTC\n",
    "- Modify GUI function to use my start/stop times to label data for relevant subjects and cycles below"
   ]
  },
  {
   "cell_type": "markdown",
   "metadata": {},
   "source": [
    "Videos to download, annotate and clip:\n",
    "- 1003 - all cycles\n",
    "- 1005 - skip cycle 5, all cycles\n",
    "- 1007 - cycle 1-4\n",
    "- 1009 - 1, 4, 6\n",
    "- 1019 - 4\n",
    "- 1023 - 2-6\n",
    "- 1024 - 3\n",
    "- 1039 - 1-6\n",
    "- 1043 - 2-6\n",
    "- 1048 - 1-5\n",
    "- 1050 - 1-6"
   ]
  },
  {
   "cell_type": "markdown",
   "metadata": {},
   "source": [
    "## File structure\n",
    "- Each subject's cycle videos are compiled into the 'raw_annotations.csv' file in each subject's folder.\n",
    "- Each cycle video is clipped, dumped into corresponding cycle folder (ie. cycle1), and named by the short name (ie. Wlkg for Walking).\n",
    "- Pertinent notes for each subject are noted below under the corresponding subject heading."
   ]
  },
  {
   "cell_type": "code",
   "execution_count": 1,
   "metadata": {},
   "outputs": [],
   "source": [
    "# Importing the Libraries\n",
    "import os\n",
    "import numpy as np\n",
    "import pandas as pd\n",
    "import seaborn as sns\n",
    "import matplotlib.pyplot as plt\n",
    "import re\n",
    "import datetime as dt\n",
    "from moviepy.video.io.ffmpeg_tools import ffmpeg_extract_subclip"
   ]
  },
  {
   "cell_type": "markdown",
   "metadata": {},
   "source": [
    "## Run Video Annotator in Terminal\n",
    "\n",
    "If pythonvideoannotator is installed,\n",
    "\n",
    "for windows:\n",
    "\n",
    "    activate videoannotator\n",
    "\n",
    "    python -m pythonvideoannotator\n",
    "    \n",
    "for mac:\n",
    "    \n",
    "    source activate videoannotator\n",
    "    \n",
    "    python -m pythonvideoannotator"
   ]
  },
  {
   "cell_type": "markdown",
   "metadata": {},
   "source": [
    "# Check RTO Network Drive and change path(s) as needed\n",
    "- Y: or Z: ?"
   ]
  },
  {
   "cell_type": "markdown",
   "metadata": {},
   "source": [
    "# Create dictionaries to decode id for videos"
   ]
  },
  {
   "cell_type": "code",
   "execution_count": 2,
   "metadata": {},
   "outputs": [
    {
     "name": "stdout",
     "output_type": "stream",
     "text": [
      "   Unnamed: 0  SubjectCode FoxInsightID  Subj ID Athena User Name     Site\n",
      "0           0         1000     cisuaba1        142557.0  cisuaba1  alabama\n",
      "1           1         1001     cisuabb2        142558.0  cisuabb2  alabama\n",
      "2           2         1002     cisuabc3        142559.0  cisuabc3  alabama\n"
     ]
    }
   ],
   "source": [
    "# Dataframe of subject ids to match\n",
    "path = r'Z:\\CIS-PD MUSC\\decoded_forms'\n",
    "filename = os.path.join(path, 'videoID.csv') # ie. file = 'videoID.csv'\n",
    "subjid_df = pd.read_csv(filename)\n",
    "# Change SubjectCode column from type float to int\n",
    "subjid_df.SubjectCode = subjid_df.SubjectCode.astype('int')\n",
    "\n",
    "print(subjid_df.head(3))"
   ]
  },
  {
   "cell_type": "code",
   "execution_count": 3,
   "metadata": {},
   "outputs": [],
   "source": [
    "# Dictionary of SubjecctCode: FoxInsightID\n",
    "id_dict = subjid_df.set_index('SubjectCode').to_dict()['FoxInsightID']\n",
    "reverse_id_dict = subjid_df.set_index('FoxInsightID').to_dict()['SubjectCode']"
   ]
  },
  {
   "cell_type": "code",
   "execution_count": 4,
   "metadata": {},
   "outputs": [
    {
     "name": "stdout",
     "output_type": "stream",
     "text": [
      "ciscij10  is  1043\n"
     ]
    }
   ],
   "source": [
    "# Check id for video downloads\n",
    "# get subject id from dictionary\n",
    "id = reverse_id_dict.get('ciscij10','Unknown')\n",
    "print('ciscij10', ' is ', id)"
   ]
  },
  {
   "cell_type": "markdown",
   "metadata": {},
   "source": [
    "## Ignore since I'm not doing this. \n",
    "Make sure dataclean() starts index at 0 since it's messing up the next func for +1 on stop time loop."
   ]
  },
  {
   "cell_type": "code",
   "execution_count": 7,
   "metadata": {},
   "outputs": [],
   "source": [
    "def dataclean(file, path, id): \n",
    "    \"\"\"Function takes pythonVideoAnnotator file and cleans up into dataframe.\"\"\"\n",
    "    \n",
    "    colnames = ['subject code', '1', 'start frame', 'stop frame', 'activity', '2', 'cycle']\n",
    "    selectedcol= ['subject code','start frame', 'stop frame', 'activity', 'cycle']\n",
    "    #df = pd.read_csv(os.path.join(path, 'cycle1.csv'), names=colnames, usecols=selectedcol)\n",
    "    filename = os.path.join(path, file) # ie. file = 'cycle1.csv'\n",
    "    df = pd.read_csv(filename, names=colnames, usecols=selectedcol)\n",
    "    df = df.dropna()\n",
    "    df['cycle'] += 1\n",
    "    df['start frame'] = pd.to_numeric(df['start frame'], downcast='integer')\n",
    "    df['stop frame'] = pd.to_numeric(df['stop frame'], downcast='integer')\n",
    "    df['cycle'] = pd.to_numeric(df['cycle'], downcast='integer')\n",
    "    df['subject code'] = id\n",
    "    print(df.head(3))\n",
    "    \n",
    "    return df"
   ]
  },
  {
   "cell_type": "code",
   "execution_count": null,
   "metadata": {},
   "outputs": [],
   "source": [
    "# sample code to concatenate dataframes if needed\n",
    "# Majority of raw_annotations should have all relevant data in one dataframe\n",
    "df1 = dataclean('cycle1.csv')\n",
    "df2 = dataclean('cycle2.csv')\n",
    "df3 = dataclean('cycle3incomplete.csv')\n",
    "df4 = dataclean('cycle36.csv')\n",
    "frames = [df1, df2, df3, df4]\n",
    "df = pd.concat(frames, ignore_index=True)"
   ]
  },
  {
   "cell_type": "code",
   "execution_count": null,
   "metadata": {},
   "outputs": [],
   "source": [
    "# save annotated file\n",
    "subj = '1030' # id\n",
    "file = subj + 'annotated.csv'\n",
    "path = r'Y:\\CIS-PD Videos\\Cisnwh8' # change to correct folder\n",
    "filename = os.path.join(path, file)\n",
    "with open(filename,'wb') as f:\n",
    "    df.to_csv(filename, sep=',')"
   ]
  },
  {
   "cell_type": "code",
   "execution_count": 9,
   "metadata": {},
   "outputs": [],
   "source": [
    "def frame_to_sec(frames,fps=30):\n",
    "    \"\"\"Convert frames with fps sampling rate to time in total sec.\"\"\"\n",
    "    seconds = int((frames / (60 * fps) % 60)*60)\n",
    "    return seconds"
   ]
  },
  {
   "cell_type": "code",
   "execution_count": 10,
   "metadata": {},
   "outputs": [],
   "source": [
    "def convert_frame_to_sec(df):\n",
    "    \"\"\"Function takes dataframe converts frames column to seconds to be used later to clip video.\"\"\"\n",
    "    # Example call: convert_frame_to_sec(os.path.join(path, '1030annotated.csv'))\n",
    "\n",
    "    # add column of activity abbreviated name\n",
    "    # Note: omitted 'Shaking' activity\n",
    "    activity = ('Stndg', 'Wlkg', 'WlkgCnt', 'FtnR', 'FtnL', 'RamR', 'RamL', 'SitStand', \n",
    "                  'Drwg', 'Typg', 'NtsBts', 'Drnkg', 'Sheets', 'Fldg', 'Sitng')\n",
    "    df['shortname'] = np.array(activity*6)\n",
    "    \n",
    "    # convert frames to sec\n",
    "    df['start time sec'] = df['start frame'].apply(frame_to_sec)\n",
    "    df['stop time sec'] = df['stop frame'].apply(frame_to_sec)\n",
    "\n",
    "    ###########################\n",
    "    # optional: add 1 sec to stop time except sitting\n",
    "    #for i in range(len(df)-1):\n",
    "    #    df['stop time sec'][i] +=1\n",
    "    \n",
    "    # save updated file\n",
    "    with open(filename,'wb') as f:\n",
    "        df.to_csv(filename, sep=',')"
   ]
  },
  {
   "cell_type": "code",
   "execution_count": 11,
   "metadata": {},
   "outputs": [],
   "source": [
    "def clip_fullvideo(df, video_name):\n",
    "    \"\"\"Takes video with complete activity set and clips them into separate activities.\n",
    "    Args: df = dataframe that has the timestamps for start and stop in sec\n",
    "          video_name = full video name with complete activity set\n",
    "    \"\"\"\n",
    "    # convert to column from int to str type\n",
    "    df['cycle'] = df['cycle'].apply(str)\n",
    "    \n",
    "    # Loop through and clip each activity to corresponding cycle video\n",
    "    for i in range(len(df)):\n",
    "        cycleindex = df['cycle'][i]\n",
    "        video_name = 'Cisnwh8_cycle' + cycleindex + '.mp4' # omit since there's an arg?\n",
    "        video_full = os.path.join(path, video_name)\n",
    "        t1 = df['start time sec'][i]\n",
    "        t2 = df['stop time sec'][i]\n",
    "        activity = df['shortname'][i]\n",
    "        # path_for_target = os.path.join(path,'\\cycle' + cycleindex)\n",
    "        path_for_target = path + '\\cycle' + cycleindex + '\\\\'\n",
    "        targetname = path_for_target + activity + '.mp4'\n",
    "        print(activity, t1, t2, targetname)\n",
    "\n",
    "        # clip activity video\n",
    "        ffmpeg_extract_subclip(video_full, t1, t2, targetname=targetname)"
   ]
  },
  {
   "cell_type": "markdown",
   "metadata": {},
   "source": [
    "Activity List:\n",
    "\n",
    "Shaking (omitted)\n",
    "\n",
    "Standing\n",
    "\n",
    "Walking\n",
    "\n",
    "Walking while counting\n",
    "\n",
    "Finger to nose--right hand\n",
    "\n",
    "Finger to nose--left hand\n",
    "\n",
    "Alternating right hand movements\n",
    "\n",
    "Alternating left hand movements\n",
    "\n",
    "Sit to stand\n",
    "\n",
    "Drawing on a paper\n",
    "\n",
    "Typing on a computer keyboard\n",
    "\n",
    "Assembling nuts and bolts\n",
    "\n",
    "Taking a glass of water\n",
    "\n",
    "Organizing sheets in a folder\n",
    "\n",
    "Folding towels\n",
    "\n",
    "Sitting"
   ]
  },
  {
   "cell_type": "code",
   "execution_count": 22,
   "metadata": {},
   "outputs": [],
   "source": [
    "def dataprocess(id, id_dict=id_dict):#df, video_name):\n",
    "    \"\"\"Input id, then it will execute all functions to clips videos.\"\"\"\n",
    "    # get subject id\n",
    "    id = id_dict.get(1003, 'Unknown')\n",
    "    file = 'raw_annotation.csv'\n",
    "    path = r'Z:\\CIS-PD Videos'\n",
    "    subj_path = os.path.join(path,id)\n",
    "    df = dataclean(file, subj_path, id)\n",
    "    #df['start time sec'] = df['start frame'].apply(frame_to_sec)\n",
    "    #df['stop time sec'] = df['stop frame'].apply(frame_to_sec)\n",
    "    convert_frame_to_sec(df)\n",
    "    \n",
    "    \n",
    "    #clip_fullvideo(df, video_name)\n",
    "    \n",
    "    \n",
    "    print(subj_path)"
   ]
  },
  {
   "cell_type": "code",
   "execution_count": 23,
   "metadata": {},
   "outputs": [
    {
     "name": "stdout",
     "output_type": "stream",
     "text": [
      "Z:\\CIS-PD Videos\\cisuabd4\n"
     ]
    }
   ],
   "source": [
    "# check output\n",
    "dataprocess(1003)"
   ]
  },
  {
   "cell_type": "markdown",
   "metadata": {},
   "source": [
    "# 1003 - all cycles"
   ]
  },
  {
   "cell_type": "code",
   "execution_count": 8,
   "metadata": {},
   "outputs": [
    {
     "name": "stdout",
     "output_type": "stream",
     "text": [
      "cisuabd4\n"
     ]
    }
   ],
   "source": [
    "# get subject id from dictionary\n",
    "id = id_dict.get(1003, 'Unknown')\n",
    "print(id)"
   ]
  },
  {
   "cell_type": "code",
   "execution_count": 12,
   "metadata": {},
   "outputs": [
    {
     "name": "stdout",
     "output_type": "stream",
     "text": [
      "   subject code  start frame  stop frame                activity  cycle\n",
      "1          1003         2379        3146                Standing      1\n",
      "2          1003         4108        5396                 Walking      1\n",
      "3          1003         6509        7732  Walking while counting      1\n"
     ]
    }
   ],
   "source": [
    "file = 'raw_annotation.csv'\n",
    "path = r'Z:\\CIS-PD Videos\\cisuabd4'\n",
    "id = 1003\n",
    "df = dataclean(file, path, id)"
   ]
  },
  {
   "cell_type": "code",
   "execution_count": 13,
   "metadata": {},
   "outputs": [
    {
     "name": "stdout",
     "output_type": "stream",
     "text": [
      "   subject code  start frame  stop frame                activity  cycle  \\\n",
      "1          1003         2379        3146                Standing      1   \n",
      "2          1003         4108        5396                 Walking      1   \n",
      "3          1003         6509        7732  Walking while counting      1   \n",
      "\n",
      "   start time sec  stop time sec  \n",
      "1              79            104  \n",
      "2             136            179  \n",
      "3             216            257  \n"
     ]
    }
   ],
   "source": [
    "df['start time sec'] = df['start frame'].apply(frame_to_sec)\n",
    "df['stop time sec'] = df['stop frame'].apply(frame_to_sec)\n",
    "print(df.head(3))"
   ]
  },
  {
   "cell_type": "code",
   "execution_count": 14,
   "metadata": {},
   "outputs": [
    {
     "data": {
      "text/plain": [
       "104"
      ]
     },
     "execution_count": 14,
     "metadata": {},
     "output_type": "execute_result"
    }
   ],
   "source": [
    "# check contents\n",
    "df['stop time sec'][1]"
   ]
  },
  {
   "cell_type": "code",
   "execution_count": null,
   "metadata": {},
   "outputs": [],
   "source": [
    "df = convert_frame_to_sec(df)"
   ]
  },
  {
   "cell_type": "markdown",
   "metadata": {},
   "source": [
    "# 1005 - skip cycle 5, all cycles\n",
    "- Note: No cycle 6 video"
   ]
  },
  {
   "cell_type": "code",
   "execution_count": null,
   "metadata": {},
   "outputs": [],
   "source": [
    "# get subject id from dictionary\n",
    "id = id_dict.get(1005, 'Unknown')\n",
    "print(id)"
   ]
  },
  {
   "cell_type": "code",
   "execution_count": null,
   "metadata": {},
   "outputs": [],
   "source": []
  },
  {
   "cell_type": "markdown",
   "metadata": {},
   "source": [
    "# 1007 - cycle 1-4"
   ]
  },
  {
   "cell_type": "code",
   "execution_count": null,
   "metadata": {},
   "outputs": [],
   "source": [
    "# get subject id from dictionary\n",
    "id = id_dict.get(1007, 'Unknown')\n",
    "print(id)"
   ]
  },
  {
   "cell_type": "code",
   "execution_count": null,
   "metadata": {},
   "outputs": [],
   "source": []
  },
  {
   "cell_type": "markdown",
   "metadata": {},
   "source": [
    "# 1009 - cycle 1, 4, 6"
   ]
  },
  {
   "cell_type": "code",
   "execution_count": null,
   "metadata": {},
   "outputs": [],
   "source": [
    "# get subject id from dictionary\n",
    "id = id_dict.get(1009, 'Unknown')\n",
    "print(id## annotated video)"
   ]
  },
  {
   "cell_type": "code",
   "execution_count": null,
   "metadata": {},
   "outputs": [],
   "source": []
  },
  {
   "cell_type": "markdown",
   "metadata": {},
   "source": [
    "# 1019 - cycle 4"
   ]
  },
  {
   "cell_type": "code",
   "execution_count": null,
   "metadata": {},
   "outputs": [],
   "source": [
    "# get sub## annotated videoject id from dictionary\n",
    "id = id_dict.get(1019, 'Unknown')\n",
    "print(id)"
   ]
  },
  {
   "cell_type": "code",
   "execution_count": null,
   "metadata": {},
   "outputs": [],
   "source": []
  },
  {
   "cell_type": "markdown",
   "metadata": {},
   "source": [
    "# 1023 - cycle 2-6\n",
    "- Note: these videos cut to each activity, so NO need to add 1sec to end of each activity\n",
    "- Video seems edited given the opening title of each video and the way they're spliced"
   ]
  },
  {
   "cell_type": "code",
   "execution_count": null,
   "metadata": {},
   "outputs": [],
   "source": [
    "# g## annotated videoet subject id from dictionary\n",
    "id = id_dict.get(1023, 'Unknown')\n",
    "print(id)"
   ]
  },
  {
   "cell_type": "code",
   "execution_count": null,
   "metadata": {},
   "outputs": [],
   "source": []
  },
  {
   "cell_type": "markdown",
   "metadata": {},
   "source": [
    "# 1024 - cycle 3\n",
    "- Note: these videos cut to each activity, so NO need to add 1sec to end of each activity\n",
    "- Video seems edited given the opening title of each video and the way they're spliced"
   ]
  },
  {
   "cell_type": "code",
   "execution_count": null,
   "metadata": {},
   "outputs": [],
   "source": [
    "# get subject id from dictionary\n",
    "id ## annotated video= id_dict.get(1024, 'Unknown')\n",
    "print(id)"
   ]
  },
  {
   "cell_type": "code",
   "execution_count": null,
   "metadata": {},
   "outputs": [],
   "source": []
  },
  {
   "cell_type": "markdown",
   "metadata": {},
   "source": [
    "# 1039 - cycle 1-6\n",
    "- Note: these videos cut to each activity, so NO need to add 1sec to end of each activity\n",
    "- Video seems edited given the opening title of each video and the way they're spliced"
   ]
  },
  {
   "cell_type": "code",
   "execution_count": null,
   "metadata": {},
   "outputs": [],
   "source": [
    "# get subject id from dictionary\n",
    "id = id_dict.get(1039, 'Unknown')- Note: these videos cut to each activity, so NO need to add 1sec to end of each activity\n",
    "- Video seems edited given the opening title of each video and the way they're spliced\n",
    "print(id)"
   ]
  },
  {
   "cell_type": "code",
   "execution_count": null,
   "metadata": {},
   "outputs": [],
   "source": []
  },
  {
   "cell_type": "markdown",
   "metadata": {},
   "source": [
    "# 1043 - cycle 2-6\n",
    "- Note: these videos cut to each activity, so NO need to add 1sec to end of each activity\n",
    "- Video seems edited given the opening title of each video and the way they're spliced"
   ]
  },
  {
   "cell_type": "code",
   "execution_count": null,
   "metadata": {},
   "outputs": [],
   "source": [
    "# get subject id from dictionary\n",
    "id = id_dict.get(1043, 'Unknown')\n",
    "print(id)"
   ]
  },
  {
   "cell_type": "code",
   "execution_count": null,
   "metadata": {},
   "outputs": [],
   "source": []
  },
  {
   "cell_type": "markdown",
   "metadata": {},
   "source": [
    "# 1048 - cycle 1-5\n",
    "- raw Video name: added 'cycle' + corresponding number + '_' as prefix to name\n",
    "- cycle1: video names are cycle1_MVI_0032 (towel folding), cycle1_MVI_0033 (towel folding), cycle1_MVI_0034 (sit)\n",
    "- cycle3: only video is watch shaking"
   ]
  },
  {
   "cell_type": "markdown",
   "metadata": {},
   "source": [
    "## Did NOT annotate video as it was already clipped"
   ]
  },
  {
   "cell_type": "markdown",
   "metadata": {},
   "source": [
    "### cycle2 video names:\n",
    "- cycle2_MVI_0035   shaking watch stand\n",
    "- cycle2_MVI_0036   shaking watch sit\n",
    "- cycle2_MVI_0037   Stndg\n",
    "- cycle2_MVI_0038   Wlkg\n",
    "- cycle2_MVI_0039   WlkgCnt\n",
    "- cycle2_MVI_0042   FtnR\n",
    "- cycle2_MVI_0043   FtnL\n",
    "- cycle2_MVI_0044   RamR\n",
    "- cycle2_MVI_0045   RamL\n",
    "- cycle2_MVI_0046   SitStand\n",
    "- cycle2_MVI_0047   Drwg\n",
    "- cycle2_MVI_0048   Typg\n",
    "- cycle2_MVI_0049   NtsBts\n",
    "- cycle2_MVI_0050   ***no activity***\n",
    "- cycle2_MVI_0051   Drnkg\n",
    "- cycle2_MVI_0052   Sheets_trial1\n",
    "- cycle2_MVI_0053   Sheets_trial2\n",
    "- cycle2_MVI_0054   Fldg\n",
    "- cycle2_MVI_0055   Sitng"
   ]
  },
  {
   "cell_type": "markdown",
   "metadata": {},
   "source": [
    "### cycle4 video names:\n",
    "- missing: Wlkg, WlkgCnt, Sheets, Fldg\n",
    "- cycle4_MVI_0075   shaking watch stand\n",
    "- cycle4_MVI_0076   Stndg\n",
    "- cycle4_MVI_0078   FtnR\n",
    "- cycle4_MVI_0079   FtnL\n",
    "- cycle4_MVI_0080   RamR\n",
    "- cycle4_MVI_0081   RamL\n",
    "- cycle4_MVI_0082   SitStand\n",
    "- cycle4_MVI_0083   Drwg\n",
    "- cycle4_MVI_0084   Typg\n",
    "- cycle4_MVI_0085   NtsBts\n",
    "- cycle4_MVI_0086   Drnkg\n",
    "- cycle4_MVI_0089   Sitng"
   ]
  },
  {
   "cell_type": "markdown",
   "metadata": {},
   "source": [
    "### cycle5 video names:\n",
    "- missing: Stndg, Wlkg, WlkgCnt, FtnR, Drnkg, Sheets, Fldg\n",
    "- cycle5_MVI_0095   FtnL\n",
    "- cycle5_MVI_0096   RamR\n",
    "- cycle5_MVI_0097   RamL\n",
    "- cycle5_MVI_0098   SitStand\n",
    "- cycle5_MVI_0100   Drwg\n",
    "- cycle5_MVI_0101   Typg\n",
    "- cycle5_MVI_0102   NtsBts\n",
    "- cycle5_MVI_0106   Sitng"
   ]
  },
  {
   "cell_type": "code",
   "execution_count": null,
   "metadata": {},
   "outputs": [],
   "source": [
    "# get subject id from dictionary\n",
    "id = id_dict.get(1048, 'Unknown')\n",
    "print(id)"
   ]
  },
  {
   "cell_type": "code",
   "execution_count": null,
   "metadata": {},
   "outputs": [],
   "source": []
  },
  {
   "cell_type": "markdown",
   "metadata": {},
   "source": [
    "# 1050 - cycle 1-6\n",
    "- note: There is NO cycle 1 video\n",
    "- Cycle6 is split into 2 parts, so will need to modify function that clips videos\n",
    "- Part1 activities: standing - Nuts and Bolts (part 1)\n",
    "- Part2 activities: Nuts and Bolds (part 2) - sitting\n",
    "- Nuts and Bolts parts 1 and 2 need to be concatenated"
   ]
  },
  {
   "cell_type": "code",
   "execution_count": null,
   "metadata": {},
   "outputs": [],
   "source": [
    "# get subject id from dictionary\n",
    "id = id_dict.get(1050, 'Unknown')\n",
    "print(id)"
   ]
  },
  {
   "cell_type": "code",
   "execution_count": null,
   "metadata": {},
   "outputs": [],
   "source": []
  }
 ],
 "metadata": {
  "kernelspec": {
   "display_name": "Python 3",
   "language": "python",
   "name": "python3"
  },
  "language_info": {
   "codemirror_mode": {
    "name": "ipython",
    "version": 3
   },
   "file_extension": ".py",
   "mimetype": "text/x-python",
   "name": "python",
   "nbconvert_exporter": "python",
   "pygments_lexer": "ipython3",
   "version": "3.6.5"
  }
 },
 "nbformat": 4,
 "nbformat_minor": 2
}

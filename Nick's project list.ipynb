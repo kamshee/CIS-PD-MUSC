<<<<<<< HEAD
{
 "cells": [
  {
   "cell_type": "markdown",
   "metadata": {},
   "source": [
    "# Download, annotate, and clean CIS-PD Videos"
   ]
  },
  {
   "cell_type": "markdown",
   "metadata": {},
   "source": [
    "Project status:\n",
    "- COMPLETE: Download cycle videos for list of subjects\n",
    "- COMPLETE: Annotate videos\n",
    "- COMPLETE: Clip videos into activities\n",
    "- IN PROGRESS: Get start times for videos using Python\n",
    "- IN PROGRESS: Use start/stop frame number and convert to UTC\n",
    "- Modify GUI function to use my start/stop times to label data for relevant subjects and cycles below"
   ]
  },
  {
   "cell_type": "markdown",
   "metadata": {},
   "source": [
    "Videos to download, annotate and clip:\n",
    "- 1003 - all cycles\n",
    "- 1005 - skip cycle 5, all cycles\n",
    "- 1007 - cycle 1-4\n",
    "- 1009 - 1, 4, 6\n",
    "- 1019 - 4\n",
    "- 1023 - 2-6\n",
    "- 1024 - 3\n",
    "- 1039 - 1-6\n",
    "- 1043 - 2-6\n",
    "- 1048 - 1-5\n",
    "- 1050 - 1-6"
   ]
  },
  {
   "cell_type": "markdown",
   "metadata": {},
   "source": [
    "## File structure\n",
    "- Each subject's cycle videos are compiled into the 'raw_annotations.csv' file in each subject's folder.\n",
    "- Each cycle video is clipped, dumped into corresponding cycle folder (ie. cycle1), and named by the short name (ie. Wlkg for Walking).\n",
    "- Pertinent notes for each subject are noted below under the corresponding subject heading."
   ]
  },
  {
   "cell_type": "markdown",
   "metadata": {},
   "source": [
    "Activity List:\n",
    "\n",
    "Shaking (omitted)\n",
    "\n",
    "Standing\n",
    "\n",
    "Walking\n",
    "\n",
    "Walking while counting\n",
    "\n",
    "Finger to nose--right hand\n",
    "\n",
    "Finger to nose--left hand\n",
    "\n",
    "Alternating right hand movements\n",
    "\n",
    "Alternating left hand movements\n",
    "\n",
    "Sit to stand\n",
    "\n",
    "Drawing on a paper\n",
    "\n",
    "Typing on a computer keyboard\n",
    "\n",
    "Assembling nuts and bolts\n",
    "\n",
    "Taking a glass of water\n",
    "\n",
    "Organizing sheets in a folder\n",
    "\n",
    "Folding towels\n",
    "\n",
    "Sitting"
   ]
  },
  {
   "cell_type": "code",
   "execution_count": 1,
   "metadata": {},
   "outputs": [],
   "source": [
    "# Importing the Libraries\n",
    "import os\n",
    "import numpy as np\n",
    "import pandas as pd\n",
    "import seaborn as sns\n",
    "import matplotlib.pyplot as plt\n",
    "import re\n",
    "import datetime as dt\n",
    "from moviepy.video.io.ffmpeg_tools import ffmpeg_extract_subclip"
   ]
  },
  {
   "cell_type": "markdown",
   "metadata": {},
   "source": [
    "## Run Video Annotator in Terminal\n",
    "\n",
    "If pythonvideoannotator is installed,\n",
    "\n",
    "for windows:\n",
    "\n",
    "    activate videoannotator\n",
    "\n",
    "    python -m pythonvideoannotator\n",
    "    \n",
    "for mac:\n",
    "    \n",
    "    source activate videoannotator\n",
    "    \n",
    "    python -m pythonvideoannotator"
   ]
  },
  {
   "cell_type": "markdown",
   "metadata": {},
   "source": [
    "# Check RTO Network Drive and change path(s) as needed\n",
    "- X:, Y: or Z: ?"
   ]
  },
  {
   "cell_type": "markdown",
   "metadata": {},
   "source": [
    "# Create dictionaries to decode id for videos"
   ]
  },
  {
   "cell_type": "code",
   "execution_count": 2,
   "metadata": {},
   "outputs": [],
   "source": [
    "# Dataframe of subject ids to match\n",
    "path = r'X:\\CIS-PD MUSC\\decoded_forms'\n",
    "filename = os.path.join(path, 'videoID.csv') # ie. file = 'videoID.csv'\n",
    "subjid_df = pd.read_csv(filename)\n",
    "# Change SubjectCode column from type float to int\n",
    "subjid_df.SubjectCode = subjid_df.SubjectCode.astype('int')"
   ]
  },
  {
   "cell_type": "code",
   "execution_count": 3,
   "metadata": {},
   "outputs": [],
   "source": [
    "# Dictionary of SubjecctCode: FoxInsightID\n",
    "id_dict = subjid_df.set_index('SubjectCode').to_dict()['FoxInsightID']\n",
    "reverse_id_dict = subjid_df.set_index('FoxInsightID').to_dict()['SubjectCode']"
   ]
  },
  {
   "cell_type": "code",
   "execution_count": null,
   "metadata": {},
   "outputs": [],
   "source": [
    "# Check id for video downloads\n",
    "# get subject id from dictionary\n",
    "id = reverse_id_dict.get('ciscij10','Unknown')\n",
    "print('ciscij10', ' is ', id)"
   ]
  },
  {
   "cell_type": "markdown",
   "metadata": {},
   "source": [
    "## Ignore since I'm not +1 sec this. \n",
    "- Make sure dataclean() starts index at 0 since it's messing up the next func for +1 on stop time loop."
   ]
  },
  {
   "cell_type": "code",
   "execution_count": 4,
   "metadata": {},
   "outputs": [],
   "source": [
    "def dataclean(file, path, id): \n",
    "    \"\"\"Function takes pythonVideoAnnotator file and cleans up into dataframe.\"\"\"\n",
    "    \n",
    "    colnames = ['subject code', '1', 'start frame', 'stop frame', 'activity', '2', 'cycle']\n",
    "    selectedcol= ['subject code','start frame', 'stop frame', 'activity', 'cycle']\n",
    "    #df = pd.read_csv(os.path.join(path, 'cycle1.csv'), names=colnames, usecols=selectedcol)\n",
    "    filename = os.path.join(path, file) # ie. file = 'cycle1.csv'\n",
    "    df = pd.read_csv(filename, names=colnames, usecols=selectedcol)\n",
    "    df = df.dropna()\n",
    "    df['cycle'] += 1\n",
    "    df['start frame'] = pd.to_numeric(df['start frame'], downcast='integer')\n",
    "    df['stop frame'] = pd.to_numeric(df['stop frame'], downcast='integer')\n",
    "    df['cycle'] = pd.to_numeric(df['cycle'], downcast='integer')\n",
    "    df['subject code'] = id\n",
    "    \n",
    "    return df"
   ]
  },
  {
   "cell_type": "code",
   "execution_count": 5,
   "metadata": {},
   "outputs": [],
   "source": [
    "def frame_to_sec(frames,fps=30):\n",
    "    \"\"\"Convert frames with fps sampling rate to time in total sec.\"\"\"\n",
    "    seconds = int((frames / (60 * fps) % 60)*60)\n",
    "    return seconds"
   ]
  },
  {
   "cell_type": "code",
   "execution_count": 19,
   "metadata": {},
   "outputs": [],
   "source": [
    "def convert_frame_to_sec(df, subj_path, cycle_num=6):\n",
    "    \"\"\"Function takes dataframe converts frames column to seconds to be used later to clip video.\"\"\"\n",
    "    # Example call: convert_frame_to_sec(os.path.join(path, '1030annotated.csv'))\n",
    "\n",
    "    # add column of activity abbreviated name\n",
    "    # Note: omitted 'Shaking' activity\n",
    "    activity = ('Stndg', 'Wlkg', 'WlkgCnt', 'FtnR', 'FtnL', 'RamR', 'RamL', 'SitStand', \n",
    "                  'Drwg', 'Typg', 'NtsBts', 'Drnkg', 'Sheets', 'Fldg', 'Sitng')\n",
    "    df['shortname'] = np.array(activity*cycle_num)\n",
    "    \n",
    "    # convert frames to sec\n",
    "    df['start time sec'] = df['start frame'].apply(frame_to_sec)\n",
    "    df['stop time sec'] = df['stop frame'].apply(frame_to_sec)\n",
    "    \n",
    "    # save updated file\n",
    "    fname = 'sec_annotation.csv'\n",
    "    filename = os.path.join(subj_path, fname)\n",
    "    with open(filename,'wb') as f:\n",
    "        df.to_csv(filename, sep=',')\n",
    "        \n",
    "    return df"
   ]
  },
  {
   "cell_type": "code",
   "execution_count": 23,
   "metadata": {},
   "outputs": [],
   "source": [
    "def convert_and_clip(id, id_dict=id_dict, cycle_num=6):\n",
    "    \"\"\"Input 4 digit id, then it will execute all functions to clips videos.\n",
    "    Note: Need to specify id before calling function.\n",
    "    \"\"\"\n",
    "    # get subject id\n",
    "    id = id_dict.get(id, 'Unknown')\n",
    "    file = 'raw_annotation.csv'\n",
    "    path = r'X:\\CIS-PD Videos'\n",
    "    subj_path = os.path.join(path,id)\n",
    "    df = dataclean(file, subj_path, id)\n",
    "    df = df.reset_index(drop=True)\n",
    "\n",
    "    # convert frame to seconds to clip video\n",
    "    df = convert_frame_to_sec(df, subj_path, cycle_num)\n",
    "    \n",
    "    # clip video by activity\n",
    "    clip_fullvideo(df, subj_path)\n",
    "    \n",
    "    return df"
   ]
  },
  {
   "cell_type": "code",
   "execution_count": 25,
   "metadata": {},
   "outputs": [],
   "source": [
    "def clip_fullvideo(df, subj_path):\n",
    "    \"\"\"Takes video with complete activity set and clips them into separate activities.\n",
    "    Args: df = dataframe that has the timestamps for start and stop in sec\n",
    "          video_name = full video name with complete activity set (ie. cisuabd4_cycle1)\n",
    "    \"\"\"\n",
    "    # convert to column from int to str type to use for video names\n",
    "    df['cycle'] = df['cycle'].apply(str)\n",
    "    \n",
    "    # Loop through and clip each activity to corresponding cycle video\n",
    "    for i in range(len(df)):\n",
    "        cycleindex = df['cycle'][i]\n",
    "        video_name = id + '_cycle' + cycleindex + '.mp4' # omit since there's an arg?\n",
    "        video_full = os.path.join(subj_path, video_name)\n",
    "        t1 = df['start time sec'][i]\n",
    "        t2 = df['stop time sec'][i]\n",
    "        activity = df['shortname'][i]\n",
    "        path_for_target = subj_path + '\\cycle' + cycleindex + '\\\\'\n",
    "        targetname = path_for_target + activity + '.mp4'\n",
    "        print(activity, t1, t2, targetname)\n",
    "\n",
    "        # clip activity video\n",
    "        ffmpeg_extract_subclip(video_full, t1, t2, targetname=targetname)"
   ]
  },
  {
   "cell_type": "markdown",
   "metadata": {},
   "source": [
    "# 1003 - all cycles"
   ]
  },
  {
   "cell_type": "code",
   "execution_count": 13,
   "metadata": {},
   "outputs": [
    {
     "name": "stdout",
     "output_type": "stream",
     "text": [
      "cisuabd4\n"
     ]
    }
   ],
   "source": [
    "# get subject id from dictionary\n",
    "id = id_dict.get(1003, 'Unknown')\n",
    "print(id)"
   ]
  },
  {
   "cell_type": "code",
   "execution_count": null,
   "metadata": {},
   "outputs": [],
   "source": [
    "# convert frames to sec to prepare for clipping videos\n",
    "df = convert_and_clip(1003)"
   ]
  },
  {
   "cell_type": "markdown",
   "metadata": {},
   "source": [
    "# 1005 - skip cycle 5, all cycles\n",
    "- Note: No cycle 6 video"
   ]
  },
  {
   "cell_type": "code",
   "execution_count": 15,
   "metadata": {},
   "outputs": [
    {
     "name": "stdout",
     "output_type": "stream",
     "text": [
      "cisuabe5\n"
     ]
    }
   ],
   "source": [
    "# get subject id from dictionary\n",
    "id = id_dict.get(1005, 'Unknown')\n",
    "print(id)"
   ]
  },
  {
   "cell_type": "code",
   "execution_count": null,
   "metadata": {},
   "outputs": [],
   "source": [
    "# convert frames to sec to prepare for clipping videos\n",
    "df = convert_and_clip(1005, cycle_num = 4)"
   ]
  },
  {
   "cell_type": "markdown",
   "metadata": {},
   "source": [
    "# 1007 - cycle 1-4"
   ]
  },
  {
   "cell_type": "code",
   "execution_count": 26,
   "metadata": {},
   "outputs": [
    {
     "name": "stdout",
     "output_type": "stream",
     "text": [
      "cisuabf6\n"
     ]
    }
   ],
   "source": [
    "# get subject id from dictionary\n",
    "id = id_dict.get(1007, 'Unknown')\n",
    "print(id)"
   ]
  },
  {
   "cell_type": "code",
   "execution_count": null,
   "metadata": {},
   "outputs": [],
   "source": [
    "# convert frames to sec to prepare for clipping videos\n",
    "df = convert_and_clip(1007, cycle_num = 4)"
   ]
  },
  {
   "cell_type": "markdown",
   "metadata": {},
   "source": [
    "# 1009 - cycle 1, 4, 6"
   ]
  },
  {
   "cell_type": "code",
   "execution_count": 29,
   "metadata": {},
   "outputs": [
    {
     "name": "stdout",
     "output_type": "stream",
     "text": [
      "cisuabg7\n"
     ]
    }
   ],
   "source": [
    "# get subject id from dictionary\n",
    "id = id_dict.get(1009, 'Unknown')\n",
    "print(id)"
   ]
  },
  {
   "cell_type": "code",
   "execution_count": null,
   "metadata": {},
   "outputs": [],
   "source": [
    "# convert frames to sec to prepare for clipping videos\n",
    "df = convert_and_clip(1009, cycle_num = 3)"
   ]
  },
  {
   "cell_type": "markdown",
   "metadata": {},
   "source": [
    "# 1019 - cycle 4\n",
    "first letter in id is in caps"
   ]
  },
  {
   "cell_type": "code",
   "execution_count": 32,
   "metadata": {},
   "outputs": [
    {
     "name": "stdout",
     "output_type": "stream",
     "text": [
      "cisnwe5\n"
     ]
    }
   ],
   "source": [
    "# get sub## annotated videoject id from dictionary\n",
    "id = id_dict.get(1019, 'Unknown')\n",
    "print(id)"
   ]
  },
  {
   "cell_type": "code",
   "execution_count": null,
   "metadata": {},
   "outputs": [],
   "source": [
    "# convert frames to sec to prepare for clipping videos\n",
    "df = convert_and_clip(1019, cycle_num = 1)"
   ]
  },
  {
   "cell_type": "markdown",
   "metadata": {},
   "source": [
    "# 1023 - cycle 2-6\n",
    "the video names have id in caps, so need to uppercase for function"
   ]
  },
  {
   "cell_type": "code",
   "execution_count": 38,
   "metadata": {},
   "outputs": [
    {
     "name": "stdout",
     "output_type": "stream",
     "text": [
      "ciscid4\n"
     ]
    }
   ],
   "source": [
    "# get subject id from dictionary\n",
    "id = id_dict.get(1023, 'Unknown')\n",
    "print(id)"
   ]
  },
  {
   "cell_type": "code",
   "execution_count": null,
   "metadata": {},
   "outputs": [],
   "source": [
    "# convert frames to sec to prepare for clipping videos\n",
    "df = convert_and_clip(1023, cycle_num = 5)"
   ]
  },
  {
   "cell_type": "markdown",
   "metadata": {},
   "source": [
    "# 1024 - cycle 3\n",
    "videoname: Cisnwf6_cycle1\n",
    "\n",
    "Need to capitalize the first letter"
   ]
  },
  {
   "cell_type": "code",
   "execution_count": 40,
   "metadata": {},
   "outputs": [
    {
     "name": "stdout",
     "output_type": "stream",
     "text": [
      "cisnwf6\n"
     ]
    }
   ],
   "source": [
    "# get subject id from dictionary\n",
    "id = id_dict.get(1024, 'Unknown')\n",
    "print(id)"
   ]
  },
  {
   "cell_type": "code",
   "execution_count": null,
   "metadata": {},
   "outputs": [],
   "source": [
    "# convert frames to sec to prepare for clipping videos\n",
    "df = convert_and_clip(1024, cycle_num = 1)"
   ]
  },
  {
   "cell_type": "markdown",
   "metadata": {},
   "source": [
    "# 1039 - cycle 1-6\n",
    "the video names have id in caps, so need to uppercase for function"
   ]
  },
  {
   "cell_type": "code",
   "execution_count": 42,
   "metadata": {},
   "outputs": [
    {
     "name": "stdout",
     "output_type": "stream",
     "text": [
      "ciscih8\n"
     ]
    }
   ],
   "source": [
    "# get subject id from dictionary\n",
    "id = id_dict.get(1039, 'Unknown')\n",
    "print(id)"
   ]
  },
  {
   "cell_type": "code",
   "execution_count": null,
   "metadata": {},
   "outputs": [],
   "source": [
    "# convert frames to sec to prepare for clipping videos\n",
    "df = convert_and_clip(1039, cycle_num = 6)"
   ]
  },
  {
   "cell_type": "markdown",
   "metadata": {},
   "source": [
    "# 1043 - cycle 2-6"
   ]
  },
  {
   "cell_type": "code",
   "execution_count": 52,
   "metadata": {},
   "outputs": [
    {
     "name": "stdout",
     "output_type": "stream",
     "text": [
      "ciscij10\n"
     ]
    }
   ],
   "source": [
    "# get subject id from dictionary\n",
    "id = id_dict.get(1043, 'Unknown')\n",
    "print(id)"
   ]
  },
  {
   "cell_type": "code",
   "execution_count": null,
   "metadata": {},
   "outputs": [],
   "source": [
    "# convert frames to sec to prepare for clipping videos\n",
    "df = convert_and_clip(1043, cycle_num = 5)"
   ]
  },
  {
   "cell_type": "markdown",
   "metadata": {},
   "source": [
    "# 1048 - cycle 1-5\n",
    "- raw Video name: added 'cycle' + corresponding number + '_' as prefix to name\n",
    "- cycle1: video names are cycle1_MVI_0032 (towel folding), cycle1_MVI_0033 (towel folding), cycle1_MVI_0034 (sit)\n",
    "- cycle3: only video is watch shaking"
   ]
  },
  {
   "cell_type": "code",
   "execution_count": 50,
   "metadata": {},
   "outputs": [
    {
     "name": "stdout",
     "output_type": "stream",
     "text": [
      "cisrol12\n"
     ]
    }
   ],
   "source": [
    "# get subject id from dictionary\n",
    "id = id_dict.get(1048, 'Unknown')\n",
    "print(id)"
   ]
  },
  {
   "cell_type": "markdown",
   "metadata": {},
   "source": [
    "## Did NOT annotate video as it was already clipped"
   ]
  },
  {
   "cell_type": "markdown",
   "metadata": {},
   "source": [
    "### cycle1 video names:\n",
    "- cycle1_MVI_0032   Fldg_trial1\n",
    "- cycle1_MVI_0033   Fldg_trial2\n",
    "- cycle1_MVI_0034   Sitng"
   ]
  },
  {
   "cell_type": "markdown",
   "metadata": {},
   "source": [
    "### cycle2 video names:\n",
    "- cycle2_MVI_0035   shaking watch stand\n",
    "- cycle2_MVI_0036   shaking watch sit\n",
    "- cycle2_MVI_0037   Stndg\n",
    "- cycle2_MVI_0038   Wlkg\n",
    "- cycle2_MVI_0039   WlkgCnt\n",
    "- cycle2_MVI_0042   FtnR\n",
    "- cycle2_MVI_0043   FtnL\n",
    "- cycle2_MVI_0044   RamR\n",
    "- cycle2_MVI_0045   RamL\n",
    "- cycle2_MVI_0046   SitStand\n",
    "- cycle2_MVI_0047   Drwg\n",
    "- cycle2_MVI_0048   Typg\n",
    "- cycle2_MVI_0049   NtsBts\n",
    "- cycle2_MVI_0050   ***no activity***\n",
    "- cycle2_MVI_0051   Drnkg\n",
    "- cycle2_MVI_0052   Sheets_trial1\n",
    "- cycle2_MVI_0053   Sheets_trial2\n",
    "- cycle2_MVI_0054   Fldg\n",
    "- cycle2_MVI_0055   Sitng"
   ]
  },
  {
   "cell_type": "markdown",
   "metadata": {},
   "source": [
    "### cycle4 video names:\n",
    "- missing: Wlkg, WlkgCnt, Sheets, Fldg\n",
    "- cycle4_MVI_0075   shaking watch stand\n",
    "- cycle4_MVI_0076   Stndg\n",
    "- cycle4_MVI_0078   FtnR\n",
    "- cycle4_MVI_0079   FtnL\n",
    "- cycle4_MVI_0080   RamR\n",
    "- cycle4_MVI_0081   RamL\n",
    "- cycle4_MVI_0082   SitStand\n",
    "- cycle4_MVI_0083   Drwg\n",
    "- cycle4_MVI_0084   Typg\n",
    "- cycle4_MVI_0085   NtsBts\n",
    "- cycle4_MVI_0086   Drnkg\n",
    "- cycle4_MVI_0089   Sitng"
   ]
  },
  {
   "cell_type": "markdown",
   "metadata": {},
   "source": [
    "### cycle5 video names:\n",
    "- missing: Stndg, Wlkg, WlkgCnt, FtnR, Drnkg, Sheets, Fldg\n",
    "- cycle5_MVI_0095   FtnL\n",
    "- cycle5_MVI_0096   RamR\n",
    "- cycle5_MVI_0097   RamL\n",
    "- cycle5_MVI_0098   SitStand\n",
    "- cycle5_MVI_0100   Drwg\n",
    "- cycle5_MVI_0101   Typg\n",
    "- cycle5_MVI_0102   NtsBts\n",
    "- cycle5_MVI_0106   Sitng"
   ]
  },
  {
   "cell_type": "code",
   "execution_count": 59,
   "metadata": {},
   "outputs": [],
   "source": [
    "def convert_frame_to_sec_1050(df, subj_path, cycle_num=6):\n",
    "    \"\"\"Function takes dataframe converts frames column to seconds to be used later to clip video.\"\"\"\n",
    "    # Example call: convert_frame_to_sec(os.path.join(path, '1030annotated.csv'))\n",
    "\n",
    "    # add column of activity abbreviated name\n",
    "    # Note: omitted 'Shaking' activity\n",
    "    activity = ('Stndg', 'Wlkg', 'WlkgCnt', 'FtnR', 'FtnL', 'RamR', 'RamL', 'SitStand', \n",
    "                  'Drwg', 'Typg', 'NtsBts', 'Drnkg', 'Sheets', 'Fldg', 'Sitng')\n",
    "    activity6part1 = ('Stndg', 'Wlkg', 'WlkgCnt', 'FtnR', 'FtnL', 'RamR', 'RamL', 'SitStand', \n",
    "                  'Drwg', 'Typg', 'NtsBts')\n",
    "    activity6part2 = ('NtsBts', 'Drnkg', 'Sheets', 'Fldg', 'Sitng')\n",
    "    df['shortname'] = np.array(activity*4 + activity6part1 + activity6part2)\n",
    "    \n",
    "    # convert frames to sec\n",
    "    df['start time sec'] = df['start frame'].apply(frame_to_sec)\n",
    "    df['stop time sec'] = df['stop frame'].apply(frame_to_sec)\n",
    "    \n",
    "    # save updated file\n",
    "    fname = 'sec_annotation.csv'\n",
    "    filename = os.path.join(subj_path, fname)\n",
    "    with open(filename,'wb') as f:\n",
    "        df.to_csv(filename, sep=',')\n",
    "        \n",
    "    return df"
   ]
  },
  {
   "cell_type": "code",
   "execution_count": 65,
   "metadata": {},
   "outputs": [],
   "source": [
    "def convert_and_clip_1050(id, id_dict=id_dict):\n",
    "    \"\"\"Input 4 digit id, then it will execute all functions to clips videos.\n",
    "    Note: Need to specify id before calling function.\n",
    "    \"\"\"\n",
    "    # get subject id\n",
    "    id = id_dict.get(id, 'Unknown')\n",
    "    file = 'raw_annotation.csv'\n",
    "    path = r'X:\\CIS-PD Videos'\n",
    "    subj_path = os.path.join(path,id)\n",
    "    df = dataclean(file, subj_path, id)\n",
    "    df = df.reset_index(drop=True)\n",
    "\n",
    "    # convert frame to seconds to clip video\n",
    "    df = convert_frame_to_sec_1050(df, subj_path)\n",
    "    \n",
    "    # clip video by activity\n",
    "    clip_fullvideo_1050(df, subj_path)\n",
    "    \n",
    "    return df"
   ]
  },
  {
   "cell_type": "code",
   "execution_count": 63,
   "metadata": {},
   "outputs": [],
   "source": [
    "def clip_fullvideo_1050(df, subj_path):\n",
    "    \"\"\"Takes video with activity set for subject 1050 and clips them into separate activities.\n",
    "    Args: df = dataframe that has the timestamps for start and stop in sec\n",
    "          video_name = full video name with complete activity set (ie. cisuabd4_cycle1)\n",
    "    \"\"\"\n",
    "    # convert to column from int to str type to use for video names\n",
    "    df['cycle'] = df['cycle'].apply(str)\n",
    "    \n",
    "    # Loop through and clip each activity to corresponding cycle video\n",
    "    for i in range(len(df)):\n",
    "        cycleindex = df['cycle'][i]\n",
    "        \n",
    "        # specify condition to split video name for cycle 6 into part 1 and 2\n",
    "        if cycleindex == '6':\n",
    "            video_name = id + '_cycle' + '6_part1' + '.mp4'\n",
    "        elif cycleindex == '7':\n",
    "            video_name = id + '_cycle' + '6_part2' + '.mp4'\n",
    "        else:\n",
    "            video_name = id + '_cycle' + cycleindex + '.mp4' # omit since there's an arg?\n",
    "        video_full = os.path.join(subj_path, video_name)\n",
    "        t1 = df['start time sec'][i]\n",
    "        t2 = df['stop time sec'][i]\n",
    "        activity = df['shortname'][i]\n",
    "        \n",
    "        # specify condition to split cycle 6 into part 1 and 2 folders\n",
    "        if cycleindex == '6':\n",
    "            path_for_target = subj_path + '\\cycle' + '6_part1' + '\\\\'\n",
    "        elif cycleindex == '7':\n",
    "            path_for_target = subj_path + '\\cycle' + '6_part2' + '\\\\'\n",
    "        else:\n",
    "            path_for_target = subj_path + '\\cycle' + cycleindex + '\\\\'\n",
    "        targetname = path_for_target + activity + '.mp4'\n",
    "\n",
    "        # clip activity video\n",
    "        ffmpeg_extract_subclip(video_full, t1, t2, targetname=targetname)"
   ]
  },
  {
   "cell_type": "markdown",
   "metadata": {},
   "source": [
    "# 1050 - cycle 1-6\n",
    "- note: There is NO cycle 1 video\n",
    "- Cycle6 is split into 2 parts, so used modified functions to annotate and clip videos\n",
    "- Part1 activities: standing - Nuts and Bolts (part 1)\n",
    "- Part2 activities: Nuts and Bolts (part 2) - sitting\n",
    "- cycle 6 part 1 can be considered as cycle 6 in annotated file\n",
    "- cycle 6 part 2 can be considered as cycle 7 in annotated file\n",
    "- Nuts and Bolts activity have a clip in cycle 6 for part 1 and part 2 separated"
   ]
  },
  {
   "cell_type": "code",
   "execution_count": 54,
   "metadata": {},
   "outputs": [
    {
     "name": "stdout",
     "output_type": "stream",
     "text": [
      "cisuabn14\n"
     ]
    }
   ],
   "source": [
    "# get subject id from dictionary\n",
    "id = id_dict.get(1050, 'Unknown')\n",
    "print(id)"
   ]
  },
  {
   "cell_type": "code",
   "execution_count": null,
   "metadata": {},
   "outputs": [],
   "source": [
    "# convert frames to sec to prepare for clipping videos\n",
    "df = convert_and_clip_1050(1050)"
   ]
  }
 ],
 "metadata": {
  "kernelspec": {
   "display_name": "Python 3",
   "language": "python",
   "name": "python3"
  },
  "language_info": {
   "codemirror_mode": {
    "name": "ipython",
    "version": 3
   },
   "file_extension": ".py",
   "mimetype": "text/x-python",
   "name": "python",
   "nbconvert_exporter": "python",
   "pygments_lexer": "ipython3",
   "version": "3.6.5"
  }
 },
 "nbformat": 4,
 "nbformat_minor": 2
}
=======
{
 "cells": [
  {
   "cell_type": "markdown",
   "metadata": {},
   "source": [
    "# Download, annotate, and clean CIS-PD Videos"
   ]
  },
  {
   "cell_type": "markdown",
   "metadata": {},
   "source": [
    "Project status:\n",
    "- COMPLETE: Download cycle videos for list of subjects\n",
    "- COMPLETE: Annotate videos\n",
    "- IN PROGRESS: Clip videos into activities\n",
<<<<<<< HEAD
    "    - Reannotate 1043\n",
    "    - 1050 - need to deal with cycle6 split into 2 parts\n",
    "- IN PROGRESS: Get start times for videos using Python\n",
=======
    "    - fix dataclean()\n",
    "- Get start times for videos using Python\n",
>>>>>>> 2ed8188c985548791ae5ee54a47e82f56f56d412
    "- Use start/stop frame number and convert to UTC\n",
    "- Modify GUI function to use my start/stop times to label data for relevant subjects and cycles below"
   ]
  },
  {
   "cell_type": "markdown",
   "metadata": {},
   "source": [
    "Videos to download, annotate and clip:\n",
    "- 1003 - all cycles\n",
    "- 1005 - skip cycle 5, all cycles\n",
    "- 1007 - cycle 1-4\n",
    "- 1009 - 1, 4, 6\n",
    "- 1019 - 4\n",
    "- 1023 - 2-6\n",
    "- 1024 - 3\n",
    "- 1039 - 1-6\n",
    "- 1043 - 2-6\n",
    "- 1048 - 1-5\n",
    "- 1050 - 1-6"
   ]
  },
  {
   "cell_type": "markdown",
   "metadata": {},
   "source": [
    "## File structure\n",
    "- Each subject's cycle videos are compiled into the 'raw_annotations.csv' file in each subject's folder.\n",
    "- Each cycle video is clipped, dumped into corresponding cycle folder (ie. cycle1), and named by the short name (ie. Wlkg for Walking).\n",
    "- Pertinent notes for each subject are noted below under the corresponding subject heading."
   ]
  },
  {
   "cell_type": "markdown",
   "metadata": {},
   "source": [
    "Activity List:\n",
    "\n",
    "Shaking (omitted)\n",
    "\n",
    "Standing\n",
    "\n",
    "Walking\n",
    "\n",
    "Walking while counting\n",
    "\n",
    "Finger to nose--right hand\n",
    "\n",
    "Finger to nose--left hand\n",
    "\n",
    "Alternating right hand movements\n",
    "\n",
    "Alternating left hand movements\n",
    "\n",
    "Sit to stand\n",
    "\n",
    "Drawing on a paper\n",
    "\n",
    "Typing on a computer keyboard\n",
    "\n",
    "Assembling nuts and bolts\n",
    "\n",
    "Taking a glass of water\n",
    "\n",
    "Organizing sheets in a folder\n",
    "\n",
    "Folding towels\n",
    "\n",
    "Sitting"
   ]
  },
  {
   "cell_type": "code",
   "execution_count": 1,
   "metadata": {},
   "outputs": [],
   "source": [
    "# Importing the Libraries\n",
    "import os\n",
    "import numpy as np\n",
    "import pandas as pd\n",
    "import seaborn as sns\n",
    "import matplotlib.pyplot as plt\n",
    "import re\n",
    "import datetime as dt\n",
    "from moviepy.video.io.ffmpeg_tools import ffmpeg_extract_subclip"
   ]
  },
  {
   "cell_type": "markdown",
   "metadata": {},
   "source": [
    "## Run Video Annotator in Terminal\n",
    "\n",
    "If pythonvideoannotator is installed,\n",
    "\n",
    "for windows:\n",
    "\n",
    "    activate videoannotator\n",
    "\n",
    "    python -m pythonvideoannotator\n",
    "    \n",
    "for mac:\n",
    "    \n",
    "    source activate videoannotator\n",
    "    \n",
    "    python -m pythonvideoannotator"
   ]
  },
  {
   "cell_type": "markdown",
   "metadata": {},
   "source": [
    "# Check RTO Network Drive and change path(s) as needed\n",
<<<<<<< HEAD
    "- X:, Y: or Z: ?"
=======
    "- Y: or Z: ?"
>>>>>>> 2ed8188c985548791ae5ee54a47e82f56f56d412
   ]
  },
  {
   "cell_type": "markdown",
   "metadata": {},
   "source": [
    "# Create dictionaries to decode id for videos"
   ]
  },
  {
   "cell_type": "code",
   "execution_count": 2,
   "metadata": {},
   "outputs": [],
   "source": [
    "# Dataframe of subject ids to match\n",
<<<<<<< HEAD
    "path = r'X:\\CIS-PD MUSC\\decoded_forms'\n",
=======
    "path = r'Z:\\CIS-PD MUSC\\decoded_forms'\n",
>>>>>>> 2ed8188c985548791ae5ee54a47e82f56f56d412
    "filename = os.path.join(path, 'videoID.csv') # ie. file = 'videoID.csv'\n",
    "subjid_df = pd.read_csv(filename)\n",
    "# Change SubjectCode column from type float to int\n",
    "subjid_df.SubjectCode = subjid_df.SubjectCode.astype('int')"
   ]
  },
  {
   "cell_type": "code",
   "execution_count": 3,
   "metadata": {},
   "outputs": [],
   "source": [
    "# Dictionary of SubjecctCode: FoxInsightID\n",
    "id_dict = subjid_df.set_index('SubjectCode').to_dict()['FoxInsightID']\n",
    "reverse_id_dict = subjid_df.set_index('FoxInsightID').to_dict()['SubjectCode']"
   ]
  },
  {
   "cell_type": "code",
<<<<<<< HEAD
   "execution_count": null,
=======
   "execution_count": 4,
>>>>>>> 2ed8188c985548791ae5ee54a47e82f56f56d412
   "metadata": {},
   "outputs": [],
   "source": [
    "# Check id for video downloads\n",
    "# get subject id from dictionary\n",
    "id = reverse_id_dict.get('ciscij10','Unknown')\n",
    "print('ciscij10', ' is ', id)"
   ]
  },
  {
   "cell_type": "markdown",
   "metadata": {},
   "source": [
<<<<<<< HEAD
    "## Ignore since I'm not +1 sec this. \n",
    "- Make sure dataclean() starts index at 0 since it's messing up the next func for +1 on stop time loop."
=======
    "## Ignore since I'm not doing this. \n",
    "Make sure dataclean() starts index at 0 since it's messing up the next func for +1 on stop time loop."
>>>>>>> 2ed8188c985548791ae5ee54a47e82f56f56d412
   ]
  },
  {
   "cell_type": "code",
<<<<<<< HEAD
   "execution_count": 4,
=======
   "execution_count": 7,
>>>>>>> 2ed8188c985548791ae5ee54a47e82f56f56d412
   "metadata": {},
   "outputs": [],
   "source": [
    "def dataclean(file, path, id): \n",
    "    \"\"\"Function takes pythonVideoAnnotator file and cleans up into dataframe.\"\"\"\n",
    "    \n",
    "    colnames = ['subject code', '1', 'start frame', 'stop frame', 'activity', '2', 'cycle']\n",
    "    selectedcol= ['subject code','start frame', 'stop frame', 'activity', 'cycle']\n",
    "    #df = pd.read_csv(os.path.join(path, 'cycle1.csv'), names=colnames, usecols=selectedcol)\n",
    "    filename = os.path.join(path, file) # ie. file = 'cycle1.csv'\n",
    "    df = pd.read_csv(filename, names=colnames, usecols=selectedcol)\n",
    "    df = df.dropna()\n",
    "    df['cycle'] += 1\n",
    "    df['start frame'] = pd.to_numeric(df['start frame'], downcast='integer')\n",
    "    df['stop frame'] = pd.to_numeric(df['stop frame'], downcast='integer')\n",
    "    df['cycle'] = pd.to_numeric(df['cycle'], downcast='integer')\n",
    "    df['subject code'] = id\n",
    "    \n",
    "    return df"
   ]
  },
  {
   "cell_type": "markdown",
   "metadata": {},
   "source": [
<<<<<<< HEAD
    "### Concatenate dataframes if needed\n",
    "### Majority of raw_annotations should have all relevant data in one dataframe\n",
=======
    "# sample code to concatenate dataframes if needed\n",
    "# Majority of raw_annotations should have all relevant data in one dataframe\n",
>>>>>>> 2ed8188c985548791ae5ee54a47e82f56f56d412
    "df1 = dataclean('cycle1.csv')\n",
    "df2 = dataclean('cycle2.csv')\n",
    "df3 = dataclean('cycle3incomplete.csv')\n",
    "df4 = dataclean('cycle36.csv')\n",
    "frames = [df1, df2, df3, df4]\n",
    "df = pd.concat(frames, ignore_index=True)"
   ]
  },
  {
   "cell_type": "markdown",
   "metadata": {},
   "source": [
    "### save annotated file\n",
    "subj = '1030' # id\n",
    "file = subj + 'annotated.csv'\n",
    "path = r'Y:\\CIS-PD Videos\\Cisnwh8' # change to correct folder\n",
    "filename = os.path.join(path, file)\n",
    "with open(filename,'wb') as f:\n",
    "    df.to_csv(filename, sep=',')"
   ]
  },
  {
   "cell_type": "code",
<<<<<<< HEAD
   "execution_count": 5,
=======
   "execution_count": 9,
>>>>>>> 2ed8188c985548791ae5ee54a47e82f56f56d412
   "metadata": {},
   "outputs": [],
   "source": [
    "def frame_to_sec(frames,fps=30):\n",
    "    \"\"\"Convert frames with fps sampling rate to time in total sec.\"\"\"\n",
    "    seconds = int((frames / (60 * fps) % 60)*60)\n",
    "    return seconds"
   ]
  },
  {
   "cell_type": "code",
<<<<<<< HEAD
   "execution_count": 19,
=======
   "execution_count": 10,
>>>>>>> 2ed8188c985548791ae5ee54a47e82f56f56d412
   "metadata": {},
   "outputs": [],
   "source": [
    "def convert_frame_to_sec(df, subj_path, cycle_num=6):\n",
    "    \"\"\"Function takes dataframe converts frames column to seconds to be used later to clip video.\"\"\"\n",
    "    # Example call: convert_frame_to_sec(os.path.join(path, '1030annotated.csv'))\n",
    "\n",
    "    # add column of activity abbreviated name\n",
    "    # Note: omitted 'Shaking' activity\n",
    "    activity = ('Stndg', 'Wlkg', 'WlkgCnt', 'FtnR', 'FtnL', 'RamR', 'RamL', 'SitStand', \n",
    "                  'Drwg', 'Typg', 'NtsBts', 'Drnkg', 'Sheets', 'Fldg', 'Sitng')\n",
    "    df['shortname'] = np.array(activity*cycle_num)\n",
    "    \n",
    "    # convert frames to sec\n",
    "    df['start time sec'] = df['start frame'].apply(frame_to_sec)\n",
    "    df['stop time sec'] = df['stop frame'].apply(frame_to_sec)\n",
    "\n",
    "    ###########################\n",
    "    # optional: add 1 sec to stop time except sitting\n",
    "    #for i in range(len(df)-1):\n",
    "    #    df['stop time sec'][i] +=1\n",
    "    \n",
    "    # save updated file\n",
    "    fname = 'sec_annotation.csv'\n",
    "    filename = os.path.join(subj_path, fname)\n",
    "    with open(filename,'wb') as f:\n",
    "        df.to_csv(filename, sep=',')\n",
    "        \n",
    "    return df"
   ]
  },
  {
   "cell_type": "code",
<<<<<<< HEAD
   "execution_count": 23,
   "metadata": {},
   "outputs": [],
   "source": [
    "def convert_and_clip(id, id_dict=id_dict, cycle_num=6):\n",
    "    \"\"\"Input 4 digit id, then it will execute all functions to clips videos.\n",
    "    Note: Need to specify id before calling function.\n",
    "    \"\"\"\n",
    "    # get subject id\n",
    "    id = id_dict.get(id, 'Unknown')\n",
    "    file = 'raw_annotation.csv'\n",
    "    path = r'X:\\CIS-PD Videos'\n",
    "    subj_path = os.path.join(path,id)\n",
    "    df = dataclean(file, subj_path, id)\n",
    "    df = df.reset_index(drop=True)\n",
    "\n",
    "    # convert frame to seconds to clip video\n",
    "    df = convert_frame_to_sec(df, subj_path, cycle_num)\n",
    "    \n",
    "    # clip video by activity\n",
    "    clip_fullvideo(df, subj_path)\n",
    "    \n",
    "    return df"
   ]
  },
  {
   "cell_type": "code",
   "execution_count": 25,
=======
   "execution_count": 11,
>>>>>>> 2ed8188c985548791ae5ee54a47e82f56f56d412
   "metadata": {},
   "outputs": [],
   "source": [
    "def clip_fullvideo(df, subj_path):\n",
    "    \"\"\"Takes video with complete activity set and clips them into separate activities.\n",
    "    Args: df = dataframe that has the timestamps for start and stop in sec\n",
    "          video_name = full video name with complete activity set (ie. cisuabd4_cycle1)\n",
    "    \"\"\"\n",
    "    # convert to column from int to str type to use for video names\n",
    "    df['cycle'] = df['cycle'].apply(str)\n",
    "    \n",
    "    # Loop through and clip each activity to corresponding cycle video\n",
    "    for i in range(len(df)):\n",
    "        cycleindex = df['cycle'][i]\n",
    "        video_name = id + '_cycle' + cycleindex + '.mp4' # omit since there's an arg?\n",
    "        video_full = os.path.join(subj_path, video_name)\n",
    "        t1 = df['start time sec'][i]\n",
    "        t2 = df['stop time sec'][i]\n",
    "        activity = df['shortname'][i]\n",
    "        # path_for_target = os.path.join(path,'\\cycle' + cycleindex)\n",
    "        # path = r'X:\\CIS-PD Videos'\n",
    "        # subj_path = r'X:\\CIS-PD Videos\\id'\n",
    "        #temp_foldername = 'cycle' + cycleindex\n",
    "        #path_for_target = os.path.join(path, temp_foldername)\n",
    "        path_for_target = subj_path + '\\cycle' + cycleindex + '\\\\'\n",
    "        targetname = path_for_target + activity + '.mp4'\n",
    "        print(activity, t1, t2, targetname)\n",
    "\n",
    "        # clip activity video\n",
    "        ffmpeg_extract_subclip(video_full, t1, t2, targetname=targetname)"
   ]
  },
  {
   "cell_type": "markdown",
   "metadata": {},
   "source": [
<<<<<<< HEAD
=======
    "Activity List:\n",
    "\n",
    "Shaking (omitted)\n",
    "\n",
    "Standing\n",
    "\n",
    "Walking\n",
    "\n",
    "Walking while counting\n",
    "\n",
    "Finger to nose--right hand\n",
    "\n",
    "Finger to nose--left hand\n",
    "\n",
    "Alternating right hand movements\n",
    "\n",
    "Alternating left hand movements\n",
    "\n",
    "Sit to stand\n",
    "\n",
    "Drawing on a paper\n",
    "\n",
    "Typing on a computer keyboard\n",
    "\n",
    "Assembling nuts and bolts\n",
    "\n",
    "Taking a glass of water\n",
    "\n",
    "Organizing sheets in a folder\n",
    "\n",
    "Folding towels\n",
    "\n",
    "Sitting"
   ]
  },
  {
   "cell_type": "code",
   "execution_count": 22,
   "metadata": {},
   "outputs": [],
   "source": [
    "def dataprocess(id, id_dict=id_dict):#df, video_name):\n",
    "    \"\"\"Input id, then it will execute all functions to clips videos.\"\"\"\n",
    "    # get subject id\n",
    "    id = id_dict.get(1003, 'Unknown')\n",
    "    file = 'raw_annotation.csv'\n",
    "    path = r'Z:\\CIS-PD Videos'\n",
    "    subj_path = os.path.join(path,id)\n",
    "    df = dataclean(file, subj_path, id)\n",
    "    #df['start time sec'] = df['start frame'].apply(frame_to_sec)\n",
    "    #df['stop time sec'] = df['stop frame'].apply(frame_to_sec)\n",
    "    convert_frame_to_sec(df)\n",
    "    \n",
    "    \n",
    "    #clip_fullvideo(df, video_name)\n",
    "    \n",
    "    \n",
    "    print(subj_path)"
   ]
  },
  {
   "cell_type": "code",
   "execution_count": 23,
   "metadata": {},
   "outputs": [
    {
     "name": "stdout",
     "output_type": "stream",
     "text": [
      "Z:\\CIS-PD Videos\\cisuabd4\n"
     ]
    }
   ],
   "source": [
    "# check output\n",
    "dataprocess(1003)"
   ]
  },
  {
   "cell_type": "markdown",
   "metadata": {},
   "source": [
>>>>>>> 2ed8188c985548791ae5ee54a47e82f56f56d412
    "# 1003 - all cycles"
   ]
  },
  {
   "cell_type": "code",
<<<<<<< HEAD
   "execution_count": 13,
=======
   "execution_count": 8,
>>>>>>> 2ed8188c985548791ae5ee54a47e82f56f56d412
   "metadata": {},
   "outputs": [
    {
     "name": "stdout",
     "output_type": "stream",
     "text": [
      "cisuabd4\n"
     ]
    }
   ],
   "source": [
    "# get subject id from dictionary\n",
    "id = id_dict.get(1003, 'Unknown')\n",
    "print(id)"
   ]
  },
  {
   "cell_type": "code",
<<<<<<< HEAD
=======
   "execution_count": 12,
   "metadata": {},
   "outputs": [
    {
     "name": "stdout",
     "output_type": "stream",
     "text": [
      "   subject code  start frame  stop frame                activity  cycle\n",
      "1          1003         2379        3146                Standing      1\n",
      "2          1003         4108        5396                 Walking      1\n",
      "3          1003         6509        7732  Walking while counting      1\n"
     ]
    }
   ],
   "source": [
    "file = 'raw_annotation.csv'\n",
    "path = r'Z:\\CIS-PD Videos\\cisuabd4'\n",
    "id = 1003\n",
    "df = dataclean(file, path, id)"
   ]
  },
  {
   "cell_type": "code",
   "execution_count": 13,
   "metadata": {},
   "outputs": [
    {
     "name": "stdout",
     "output_type": "stream",
     "text": [
      "   subject code  start frame  stop frame                activity  cycle  \\\n",
      "1          1003         2379        3146                Standing      1   \n",
      "2          1003         4108        5396                 Walking      1   \n",
      "3          1003         6509        7732  Walking while counting      1   \n",
      "\n",
      "   start time sec  stop time sec  \n",
      "1              79            104  \n",
      "2             136            179  \n",
      "3             216            257  \n"
     ]
    }
   ],
   "source": [
    "df['start time sec'] = df['start frame'].apply(frame_to_sec)\n",
    "df['stop time sec'] = df['stop frame'].apply(frame_to_sec)\n",
    "print(df.head(3))"
   ]
  },
  {
   "cell_type": "code",
   "execution_count": 14,
   "metadata": {},
   "outputs": [
    {
     "data": {
      "text/plain": [
       "104"
      ]
     },
     "execution_count": 14,
     "metadata": {},
     "output_type": "execute_result"
    }
   ],
   "source": [
    "# check contents\n",
    "df['stop time sec'][1]"
   ]
  },
  {
   "cell_type": "code",
>>>>>>> 2ed8188c985548791ae5ee54a47e82f56f56d412
   "execution_count": null,
   "metadata": {},
   "outputs": [],
   "source": [
    "# convert frames to sec to prepare for clipping videos\n",
    "df = convert_and_clip(1003)\n",
    "# check the df activity labels"
   ]
  },
  {
   "cell_type": "markdown",
   "metadata": {},
   "source": [
    "# 1005 - skip cycle 5, all cycles\n",
    "- Note: No cycle 6 video"
   ]
  },
  {
   "cell_type": "code",
<<<<<<< HEAD
   "execution_count": 15,
=======
   "execution_count": null,
>>>>>>> 2ed8188c985548791ae5ee54a47e82f56f56d412
   "metadata": {},
   "outputs": [],
   "source": [
    "# get subject id from dictionary\n",
    "id = id_dict.get(1005, 'Unknown')\n",
    "print(id)"
   ]
  },
  {
   "cell_type": "code",
   "execution_count": null,
   "metadata": {},
   "outputs": [],
   "source": [
    "# convert frames to sec to prepare for clipping videos\n",
    "df = convert_and_clip(1005, cycle_num = 4)\n",
    "# check the df activity labels"
   ]
  },
  {
<<<<<<< HEAD
   "cell_type": "markdown",
   "metadata": {},
   "source": [
    "# 1007 - cycle 1-4"
   ]
  },
  {
   "cell_type": "code",
   "execution_count": 26,
=======
   "cell_type": "code",
   "execution_count": null,
>>>>>>> 2ed8188c985548791ae5ee54a47e82f56f56d412
   "metadata": {},
   "outputs": [],
   "source": [
    "# get subject id from dictionary\n",
    "id = id_dict.get(1007, 'Unknown')\n",
    "print(id)"
   ]
  },
  {
   "cell_type": "code",
   "execution_count": null,
   "metadata": {},
   "outputs": [],
   "source": [
    "# convert frames to sec to prepare for clipping videos\n",
    "df = convert_and_clip(1007, cycle_num = 4)\n",
    "# check the df activity labels"
   ]
  },
  {
<<<<<<< HEAD
   "cell_type": "markdown",
   "metadata": {},
   "source": [
    "# 1009 - cycle 1, 4, 6"
   ]
  },
  {
   "cell_type": "code",
   "execution_count": 29,
=======
   "cell_type": "code",
   "execution_count": null,
>>>>>>> 2ed8188c985548791ae5ee54a47e82f56f56d412
   "metadata": {},
   "outputs": [],
   "source": [
    "# get subject id from dictionary\n",
    "id = id_dict.get(1009, 'Unknown')\n",
    "print(id)"
   ]
  },
  {
   "cell_type": "code",
   "execution_count": null,
   "metadata": {},
   "outputs": [],
   "source": [
    "# convert frames to sec to prepare for clipping videos\n",
    "df = convert_and_clip(1009, cycle_num = 3)\n",
    "# check the df activity labels"
   ]
  },
  {
<<<<<<< HEAD
   "cell_type": "markdown",
   "metadata": {},
   "source": [
    "# 1019 - cycle 4\n",
    "first letter in id is in caps"
   ]
  },
  {
   "cell_type": "code",
   "execution_count": 32,
=======
   "cell_type": "code",
   "execution_count": null,
>>>>>>> 2ed8188c985548791ae5ee54a47e82f56f56d412
   "metadata": {},
   "outputs": [],
   "source": [
    "# get sub## annotated videoject id from dictionary\n",
    "id = id_dict.get(1019, 'Unknown')\n",
    "print(id)"
   ]
  },
  {
   "cell_type": "code",
   "execution_count": null,
   "metadata": {},
   "outputs": [],
   "source": [
    "# convert frames to sec to prepare for clipping videos\n",
    "df = convert_and_clip(1019, cycle_num = 1)\n",
    "# check the df activity labels"
   ]
  },
  {
<<<<<<< HEAD
   "cell_type": "markdown",
   "metadata": {},
   "source": [
    "# 1023 - cycle 2-6\n",
    "the video names have id in caps, so need to uppercase for function"
   ]
  },
  {
   "cell_type": "code",
   "execution_count": 38,
=======
   "cell_type": "code",
   "execution_count": null,
>>>>>>> 2ed8188c985548791ae5ee54a47e82f56f56d412
   "metadata": {},
   "outputs": [],
   "source": [
    "# get subject id from dictionary\n",
    "id = id_dict.get(1023, 'Unknown')\n",
    "print(id)"
   ]
  },
  {
   "cell_type": "code",
   "execution_count": null,
   "metadata": {},
   "outputs": [],
   "source": [
    "# convert frames to sec to prepare for clipping videos\n",
    "df = convert_and_clip(1023, cycle_num = 5)\n",
    "# check the df activity labels"
   ]
  },
  {
<<<<<<< HEAD
   "cell_type": "markdown",
   "metadata": {},
   "source": [
    "# 1024 - cycle 3\n",
    "videoname: Cisnwf6_cycle1\n",
    "\n",
    "Need to capitalize the first letter"
   ]
  },
  {
   "cell_type": "code",
   "execution_count": 40,
=======
   "cell_type": "code",
   "execution_count": null,
>>>>>>> 2ed8188c985548791ae5ee54a47e82f56f56d412
   "metadata": {},
   "outputs": [],
   "source": [
    "# get subject id from dictionary\n",
    "id = id_dict.get(1024, 'Unknown')\n",
    "print(id)"
   ]
  },
  {
   "cell_type": "code",
   "execution_count": null,
   "metadata": {},
   "outputs": [],
   "source": [
    "# convert frames to sec to prepare for clipping videos\n",
    "df = convert_and_clip(1024, cycle_num = 1)\n",
    "# check the df activity labels"
   ]
  },
  {
<<<<<<< HEAD
   "cell_type": "markdown",
   "metadata": {},
   "source": [
    "# 1039 - cycle 1-6\n",
    "the video names have id in caps, so need to uppercase for function"
   ]
  },
  {
   "cell_type": "code",
   "execution_count": 42,
=======
   "cell_type": "code",
   "execution_count": null,
>>>>>>> 2ed8188c985548791ae5ee54a47e82f56f56d412
   "metadata": {},
   "outputs": [],
   "source": [
    "# get subject id from dictionary\n",
    "id = id_dict.get(1039, 'Unknown')\n",
    "print(id)"
   ]
  },
  {
   "cell_type": "code",
   "execution_count": null,
   "metadata": {},
   "outputs": [],
   "source": [
    "# convert frames to sec to prepare for clipping videos\n",
    "df = convert_and_clip(1039, cycle_num = 6)\n",
    "# check the df activity labels"
   ]
  },
  {
   "cell_type": "markdown",
   "metadata": {},
   "source": [
    "# Reannotate 1043, times are all off"
   ]
  },
  {
<<<<<<< HEAD
   "cell_type": "markdown",
   "metadata": {},
   "source": [
    "# 1043 - cycle 2-6"
   ]
  },
  {
   "cell_type": "code",
   "execution_count": 44,
=======
   "cell_type": "code",
   "execution_count": null,
>>>>>>> 2ed8188c985548791ae5ee54a47e82f56f56d412
   "metadata": {},
   "outputs": [],
   "source": [
    "# get subject id from dictionary\n",
    "id = id_dict.get(1043, 'Unknown')\n",
    "print(id)"
   ]
  },
  {
   "cell_type": "code",
   "execution_count": 49,
   "metadata": {},
   "outputs": [
    {
     "name": "stdout",
     "output_type": "stream",
     "text": [
      "Stndg 8 36 X:\\CIS-PD Videos\\ciscij10\\cycle2\\Stndg.mp4\n",
      "\n",
      "[MoviePy] Running:\n",
      ">>> C:\\ProgramData\\anaconda3\\Library\\bin\\ffmpeg.exe -y -i X:\\CIS-PD Videos\\ciscij10\\ciscij10_cycle2.mp4 -ss 8.00 -t 28.00 -vcodec copy -acodec copy X:\\CIS-PD Videos\\ciscij10\\cycle2\\Stndg.mp4\n",
      "... command successful.\n",
      "Wlkg 37 70 X:\\CIS-PD Videos\\ciscij10\\cycle2\\Wlkg.mp4\n",
      "\n",
      "[MoviePy] Running:\n",
      ">>> C:\\ProgramData\\anaconda3\\Library\\bin\\ffmpeg.exe -y -i X:\\CIS-PD Videos\\ciscij10\\ciscij10_cycle2.mp4 -ss 37.00 -t 33.00 -vcodec copy -acodec copy X:\\CIS-PD Videos\\ciscij10\\cycle2\\Wlkg.mp4\n",
      "... command successful.\n",
      "WlkgCnt 70 103 X:\\CIS-PD Videos\\ciscij10\\cycle2\\WlkgCnt.mp4\n",
      "\n",
      "[MoviePy] Running:\n",
      ">>> C:\\ProgramData\\anaconda3\\Library\\bin\\ffmpeg.exe -y -i X:\\CIS-PD Videos\\ciscij10\\ciscij10_cycle2.mp4 -ss 70.00 -t 33.00 -vcodec copy -acodec copy X:\\CIS-PD Videos\\ciscij10\\cycle2\\WlkgCnt.mp4\n",
      "... command successful.\n",
      "FtnR 104 121 X:\\CIS-PD Videos\\ciscij10\\cycle2\\FtnR.mp4\n",
      "\n",
      "[MoviePy] Running:\n",
      ">>> C:\\ProgramData\\anaconda3\\Library\\bin\\ffmpeg.exe -y -i X:\\CIS-PD Videos\\ciscij10\\ciscij10_cycle2.mp4 -ss 104.00 -t 17.00 -vcodec copy -acodec copy X:\\CIS-PD Videos\\ciscij10\\cycle2\\FtnR.mp4\n",
      "... command successful.\n",
      "FtnL 121 136 X:\\CIS-PD Videos\\ciscij10\\cycle2\\FtnL.mp4\n",
      "\n",
      "[MoviePy] Running:\n",
      ">>> C:\\ProgramData\\anaconda3\\Library\\bin\\ffmpeg.exe -y -i X:\\CIS-PD Videos\\ciscij10\\ciscij10_cycle2.mp4 -ss 121.00 -t 15.00 -vcodec copy -acodec copy X:\\CIS-PD Videos\\ciscij10\\cycle2\\FtnL.mp4\n",
      "... command successful.\n",
      "RamR 137 155 X:\\CIS-PD Videos\\ciscij10\\cycle2\\RamR.mp4\n",
      "\n",
      "[MoviePy] Running:\n",
      ">>> C:\\ProgramData\\anaconda3\\Library\\bin\\ffmpeg.exe -y -i X:\\CIS-PD Videos\\ciscij10\\ciscij10_cycle2.mp4 -ss 137.00 -t 18.00 -vcodec copy -acodec copy X:\\CIS-PD Videos\\ciscij10\\cycle2\\RamR.mp4\n",
      "... command successful.\n",
      "RamL 155 168 X:\\CIS-PD Videos\\ciscij10\\cycle2\\RamL.mp4\n",
      "\n",
      "[MoviePy] Running:\n",
      ">>> C:\\ProgramData\\anaconda3\\Library\\bin\\ffmpeg.exe -y -i X:\\CIS-PD Videos\\ciscij10\\ciscij10_cycle2.mp4 -ss 155.00 -t 13.00 -vcodec copy -acodec copy X:\\CIS-PD Videos\\ciscij10\\cycle2\\RamL.mp4\n",
      "... command successful.\n",
      "SitStand 169 185 X:\\CIS-PD Videos\\ciscij10\\cycle2\\SitStand.mp4\n",
      "\n",
      "[MoviePy] Running:\n",
      ">>> C:\\ProgramData\\anaconda3\\Library\\bin\\ffmpeg.exe -y -i X:\\CIS-PD Videos\\ciscij10\\ciscij10_cycle2.mp4 -ss 169.00 -t 16.00 -vcodec copy -acodec copy X:\\CIS-PD Videos\\ciscij10\\cycle2\\SitStand.mp4\n",
      "... command successful.\n",
      "Drwg 190 218 X:\\CIS-PD Videos\\ciscij10\\cycle2\\Drwg.mp4\n",
      "\n",
      "[MoviePy] Running:\n",
      ">>> C:\\ProgramData\\anaconda3\\Library\\bin\\ffmpeg.exe -y -i X:\\CIS-PD Videos\\ciscij10\\ciscij10_cycle2.mp4 -ss 190.00 -t 28.00 -vcodec copy -acodec copy X:\\CIS-PD Videos\\ciscij10\\cycle2\\Drwg.mp4\n",
      "... command successful.\n",
      "Typg 219 251 X:\\CIS-PD Videos\\ciscij10\\cycle2\\Typg.mp4\n",
      "\n",
      "[MoviePy] Running:\n",
      ">>> C:\\ProgramData\\anaconda3\\Library\\bin\\ffmpeg.exe -y -i X:\\CIS-PD Videos\\ciscij10\\ciscij10_cycle2.mp4 -ss 219.00 -t 32.00 -vcodec copy -acodec copy X:\\CIS-PD Videos\\ciscij10\\cycle2\\Typg.mp4\n",
      "... command successful.\n",
      "NtsBts 251 285 X:\\CIS-PD Videos\\ciscij10\\cycle2\\NtsBts.mp4\n",
      "\n",
      "[MoviePy] Running:\n",
      ">>> C:\\ProgramData\\anaconda3\\Library\\bin\\ffmpeg.exe -y -i X:\\CIS-PD Videos\\ciscij10\\ciscij10_cycle2.mp4 -ss 251.00 -t 34.00 -vcodec copy -acodec copy X:\\CIS-PD Videos\\ciscij10\\cycle2\\NtsBts.mp4\n",
      "... command successful.\n",
      "Drnkg 286 309 X:\\CIS-PD Videos\\ciscij10\\cycle2\\Drnkg.mp4\n",
      "\n",
      "[MoviePy] Running:\n",
      ">>> C:\\ProgramData\\anaconda3\\Library\\bin\\ffmpeg.exe -y -i X:\\CIS-PD Videos\\ciscij10\\ciscij10_cycle2.mp4 -ss 286.00 -t 23.00 -vcodec copy -acodec copy X:\\CIS-PD Videos\\ciscij10\\cycle2\\Drnkg.mp4\n",
      "... command successful.\n",
      "Sheets 310 337 X:\\CIS-PD Videos\\ciscij10\\cycle2\\Sheets.mp4\n",
      "\n",
      "[MoviePy] Running:\n",
      ">>> C:\\ProgramData\\anaconda3\\Library\\bin\\ffmpeg.exe -y -i X:\\CIS-PD Videos\\ciscij10\\ciscij10_cycle2.mp4 -ss 310.00 -t 27.00 -vcodec copy -acodec copy X:\\CIS-PD Videos\\ciscij10\\cycle2\\Sheets.mp4\n",
      "... command successful.\n",
      "Fldg 339 375 X:\\CIS-PD Videos\\ciscij10\\cycle2\\Fldg.mp4\n",
      "\n",
      "[MoviePy] Running:\n",
      ">>> C:\\ProgramData\\anaconda3\\Library\\bin\\ffmpeg.exe -y -i X:\\CIS-PD Videos\\ciscij10\\ciscij10_cycle2.mp4 -ss 339.00 -t 36.00 -vcodec copy -acodec copy X:\\CIS-PD Videos\\ciscij10\\cycle2\\Fldg.mp4\n",
      "... command successful.\n",
      "Sitng 379 407 X:\\CIS-PD Videos\\ciscij10\\cycle2\\Sitng.mp4\n",
      "\n",
      "[MoviePy] Running:\n",
      ">>> C:\\ProgramData\\anaconda3\\Library\\bin\\ffmpeg.exe -y -i X:\\CIS-PD Videos\\ciscij10\\ciscij10_cycle2.mp4 -ss 379.00 -t 28.00 -vcodec copy -acodec copy X:\\CIS-PD Videos\\ciscij10\\cycle2\\Sitng.mp4\n",
      "... command successful.\n",
      "Stndg 6 35 X:\\CIS-PD Videos\\ciscij10\\cycle3\\Stndg.mp4\n",
      "\n",
      "[MoviePy] Running:\n",
      ">>> C:\\ProgramData\\anaconda3\\Library\\bin\\ffmpeg.exe -y -i X:\\CIS-PD Videos\\ciscij10\\ciscij10_cycle3.mp4 -ss 6.00 -t 29.00 -vcodec copy -acodec copy X:\\CIS-PD Videos\\ciscij10\\cycle3\\Stndg.mp4\n",
      "... command successful.\n",
      "Wlkg 36 68 X:\\CIS-PD Videos\\ciscij10\\cycle3\\Wlkg.mp4\n",
      "\n",
      "[MoviePy] Running:\n",
      ">>> C:\\ProgramData\\anaconda3\\Library\\bin\\ffmpeg.exe -y -i X:\\CIS-PD Videos\\ciscij10\\ciscij10_cycle3.mp4 -ss 36.00 -t 32.00 -vcodec copy -acodec copy X:\\CIS-PD Videos\\ciscij10\\cycle3\\Wlkg.mp4\n",
      "... command successful.\n",
      "WlkgCnt 68 106 X:\\CIS-PD Videos\\ciscij10\\cycle3\\WlkgCnt.mp4\n",
      "\n",
      "[MoviePy] Running:\n",
      ">>> C:\\ProgramData\\anaconda3\\Library\\bin\\ffmpeg.exe -y -i X:\\CIS-PD Videos\\ciscij10\\ciscij10_cycle3.mp4 -ss 68.00 -t 38.00 -vcodec copy -acodec copy X:\\CIS-PD Videos\\ciscij10\\cycle3\\WlkgCnt.mp4\n",
      "... command successful.\n",
      "FtnR 107 124 X:\\CIS-PD Videos\\ciscij10\\cycle3\\FtnR.mp4\n",
      "\n",
      "[MoviePy] Running:\n",
      ">>> C:\\ProgramData\\anaconda3\\Library\\bin\\ffmpeg.exe -y -i X:\\CIS-PD Videos\\ciscij10\\ciscij10_cycle3.mp4 -ss 107.00 -t 17.00 -vcodec copy -acodec copy X:\\CIS-PD Videos\\ciscij10\\cycle3\\FtnR.mp4\n",
      "... command successful.\n",
      "FtnL 123 140 X:\\CIS-PD Videos\\ciscij10\\cycle3\\FtnL.mp4\n",
      "\n",
      "[MoviePy] Running:\n",
      ">>> C:\\ProgramData\\anaconda3\\Library\\bin\\ffmpeg.exe -y -i X:\\CIS-PD Videos\\ciscij10\\ciscij10_cycle3.mp4 -ss 123.00 -t 17.00 -vcodec copy -acodec copy X:\\CIS-PD Videos\\ciscij10\\cycle3\\FtnL.mp4\n",
      "... command successful.\n",
      "RamR 140 158 X:\\CIS-PD Videos\\ciscij10\\cycle3\\RamR.mp4\n",
      "\n",
      "[MoviePy] Running:\n",
      ">>> C:\\ProgramData\\anaconda3\\Library\\bin\\ffmpeg.exe -y -i X:\\CIS-PD Videos\\ciscij10\\ciscij10_cycle3.mp4 -ss 140.00 -t 18.00 -vcodec copy -acodec copy X:\\CIS-PD Videos\\ciscij10\\cycle3\\RamR.mp4\n",
      "... command successful.\n",
      "RamL 158 173 X:\\CIS-PD Videos\\ciscij10\\cycle3\\RamL.mp4\n",
      "\n",
      "[MoviePy] Running:\n",
      ">>> C:\\ProgramData\\anaconda3\\Library\\bin\\ffmpeg.exe -y -i X:\\CIS-PD Videos\\ciscij10\\ciscij10_cycle3.mp4 -ss 158.00 -t 15.00 -vcodec copy -acodec copy X:\\CIS-PD Videos\\ciscij10\\cycle3\\RamL.mp4\n",
      "... command successful.\n",
      "SitStand 173 188 X:\\CIS-PD Videos\\ciscij10\\cycle3\\SitStand.mp4\n",
      "\n",
      "[MoviePy] Running:\n",
      ">>> C:\\ProgramData\\anaconda3\\Library\\bin\\ffmpeg.exe -y -i X:\\CIS-PD Videos\\ciscij10\\ciscij10_cycle3.mp4 -ss 173.00 -t 15.00 -vcodec copy -acodec copy X:\\CIS-PD Videos\\ciscij10\\cycle3\\SitStand.mp4\n",
      "... command successful.\n",
      "Drwg 189 221 X:\\CIS-PD Videos\\ciscij10\\cycle3\\Drwg.mp4\n",
      "\n",
      "[MoviePy] Running:\n",
      ">>> C:\\ProgramData\\anaconda3\\Library\\bin\\ffmpeg.exe -y -i X:\\CIS-PD Videos\\ciscij10\\ciscij10_cycle3.mp4 -ss 189.00 -t 32.00 -vcodec copy -acodec copy X:\\CIS-PD Videos\\ciscij10\\cycle3\\Drwg.mp4\n",
      "... command successful.\n",
      "Typg 222 253 X:\\CIS-PD Videos\\ciscij10\\cycle3\\Typg.mp4\n",
      "\n",
      "[MoviePy] Running:\n",
      ">>> C:\\ProgramData\\anaconda3\\Library\\bin\\ffmpeg.exe -y -i X:\\CIS-PD Videos\\ciscij10\\ciscij10_cycle3.mp4 -ss 222.00 -t 31.00 -vcodec copy -acodec copy X:\\CIS-PD Videos\\ciscij10\\cycle3\\Typg.mp4\n",
      "... command successful.\n",
      "NtsBts 254 288 X:\\CIS-PD Videos\\ciscij10\\cycle3\\NtsBts.mp4\n",
      "\n",
      "[MoviePy] Running:\n",
      ">>> C:\\ProgramData\\anaconda3\\Library\\bin\\ffmpeg.exe -y -i X:\\CIS-PD Videos\\ciscij10\\ciscij10_cycle3.mp4 -ss 254.00 -t 34.00 -vcodec copy -acodec copy X:\\CIS-PD Videos\\ciscij10\\cycle3\\NtsBts.mp4\n",
      "... command successful.\n",
      "Drnkg 288 312 X:\\CIS-PD Videos\\ciscij10\\cycle3\\Drnkg.mp4\n",
      "\n",
      "[MoviePy] Running:\n",
      ">>> C:\\ProgramData\\anaconda3\\Library\\bin\\ffmpeg.exe -y -i X:\\CIS-PD Videos\\ciscij10\\ciscij10_cycle3.mp4 -ss 288.00 -t 24.00 -vcodec copy -acodec copy X:\\CIS-PD Videos\\ciscij10\\cycle3\\Drnkg.mp4\n",
      "... command successful.\n",
      "Sheets 312 340 X:\\CIS-PD Videos\\ciscij10\\cycle3\\Sheets.mp4\n",
      "\n",
      "[MoviePy] Running:\n",
      ">>> C:\\ProgramData\\anaconda3\\Library\\bin\\ffmpeg.exe -y -i X:\\CIS-PD Videos\\ciscij10\\ciscij10_cycle3.mp4 -ss 312.00 -t 28.00 -vcodec copy -acodec copy X:\\CIS-PD Videos\\ciscij10\\cycle3\\Sheets.mp4\n",
      "... command successful.\n"
     ]
    },
    {
     "name": "stdout",
     "output_type": "stream",
     "text": [
      "Fldg 341 382 X:\\CIS-PD Videos\\ciscij10\\cycle3\\Fldg.mp4\n",
      "\n",
      "[MoviePy] Running:\n",
      ">>> C:\\ProgramData\\anaconda3\\Library\\bin\\ffmpeg.exe -y -i X:\\CIS-PD Videos\\ciscij10\\ciscij10_cycle3.mp4 -ss 341.00 -t 41.00 -vcodec copy -acodec copy X:\\CIS-PD Videos\\ciscij10\\cycle3\\Fldg.mp4\n",
      "... command successful.\n",
      "Sitng 389 415 X:\\CIS-PD Videos\\ciscij10\\cycle3\\Sitng.mp4\n",
      "\n",
      "[MoviePy] Running:\n",
      ">>> C:\\ProgramData\\anaconda3\\Library\\bin\\ffmpeg.exe -y -i X:\\CIS-PD Videos\\ciscij10\\ciscij10_cycle3.mp4 -ss 389.00 -t 26.00 -vcodec copy -acodec copy X:\\CIS-PD Videos\\ciscij10\\cycle3\\Sitng.mp4\n",
      "... command successful.\n",
      "Stndg 4 35 X:\\CIS-PD Videos\\ciscij10\\cycle4\\Stndg.mp4\n",
      "\n",
      "[MoviePy] Running:\n",
      ">>> C:\\ProgramData\\anaconda3\\Library\\bin\\ffmpeg.exe -y -i X:\\CIS-PD Videos\\ciscij10\\ciscij10_cycle4.mp4 -ss 4.00 -t 31.00 -vcodec copy -acodec copy X:\\CIS-PD Videos\\ciscij10\\cycle4\\Stndg.mp4\n",
      "... command successful.\n",
      "Wlkg 36 72 X:\\CIS-PD Videos\\ciscij10\\cycle4\\Wlkg.mp4\n",
      "\n",
      "[MoviePy] Running:\n",
      ">>> C:\\ProgramData\\anaconda3\\Library\\bin\\ffmpeg.exe -y -i X:\\CIS-PD Videos\\ciscij10\\ciscij10_cycle4.mp4 -ss 36.00 -t 36.00 -vcodec copy -acodec copy X:\\CIS-PD Videos\\ciscij10\\cycle4\\Wlkg.mp4\n",
      "... command successful.\n",
      "WlkgCnt 73 107 X:\\CIS-PD Videos\\ciscij10\\cycle4\\WlkgCnt.mp4\n",
      "\n",
      "[MoviePy] Running:\n",
      ">>> C:\\ProgramData\\anaconda3\\Library\\bin\\ffmpeg.exe -y -i X:\\CIS-PD Videos\\ciscij10\\ciscij10_cycle4.mp4 -ss 73.00 -t 34.00 -vcodec copy -acodec copy X:\\CIS-PD Videos\\ciscij10\\cycle4\\WlkgCnt.mp4\n",
      "... command successful.\n",
      "FtnR 107 125 X:\\CIS-PD Videos\\ciscij10\\cycle4\\FtnR.mp4\n",
      "\n",
      "[MoviePy] Running:\n",
      ">>> C:\\ProgramData\\anaconda3\\Library\\bin\\ffmpeg.exe -y -i X:\\CIS-PD Videos\\ciscij10\\ciscij10_cycle4.mp4 -ss 107.00 -t 18.00 -vcodec copy -acodec copy X:\\CIS-PD Videos\\ciscij10\\cycle4\\FtnR.mp4\n",
      "... command successful.\n",
      "FtnL 125 139 X:\\CIS-PD Videos\\ciscij10\\cycle4\\FtnL.mp4\n",
      "\n",
      "[MoviePy] Running:\n",
      ">>> C:\\ProgramData\\anaconda3\\Library\\bin\\ffmpeg.exe -y -i X:\\CIS-PD Videos\\ciscij10\\ciscij10_cycle4.mp4 -ss 125.00 -t 14.00 -vcodec copy -acodec copy X:\\CIS-PD Videos\\ciscij10\\cycle4\\FtnL.mp4\n",
      "... command successful.\n",
      "RamR 139 157 X:\\CIS-PD Videos\\ciscij10\\cycle4\\RamR.mp4\n",
      "\n",
      "[MoviePy] Running:\n",
      ">>> C:\\ProgramData\\anaconda3\\Library\\bin\\ffmpeg.exe -y -i X:\\CIS-PD Videos\\ciscij10\\ciscij10_cycle4.mp4 -ss 139.00 -t 18.00 -vcodec copy -acodec copy X:\\CIS-PD Videos\\ciscij10\\cycle4\\RamR.mp4\n",
      "... command successful.\n",
      "RamL 157 172 X:\\CIS-PD Videos\\ciscij10\\cycle4\\RamL.mp4\n",
      "\n",
      "[MoviePy] Running:\n",
      ">>> C:\\ProgramData\\anaconda3\\Library\\bin\\ffmpeg.exe -y -i X:\\CIS-PD Videos\\ciscij10\\ciscij10_cycle4.mp4 -ss 157.00 -t 15.00 -vcodec copy -acodec copy X:\\CIS-PD Videos\\ciscij10\\cycle4\\RamL.mp4\n",
      "... command successful.\n",
      "SitStand 172 187 X:\\CIS-PD Videos\\ciscij10\\cycle4\\SitStand.mp4\n",
      "\n",
      "[MoviePy] Running:\n",
      ">>> C:\\ProgramData\\anaconda3\\Library\\bin\\ffmpeg.exe -y -i X:\\CIS-PD Videos\\ciscij10\\ciscij10_cycle4.mp4 -ss 172.00 -t 15.00 -vcodec copy -acodec copy X:\\CIS-PD Videos\\ciscij10\\cycle4\\SitStand.mp4\n",
      "... command successful.\n",
      "Drwg 187 220 X:\\CIS-PD Videos\\ciscij10\\cycle4\\Drwg.mp4\n",
      "\n",
      "[MoviePy] Running:\n",
      ">>> C:\\ProgramData\\anaconda3\\Library\\bin\\ffmpeg.exe -y -i X:\\CIS-PD Videos\\ciscij10\\ciscij10_cycle4.mp4 -ss 187.00 -t 33.00 -vcodec copy -acodec copy X:\\CIS-PD Videos\\ciscij10\\cycle4\\Drwg.mp4\n",
      "... command successful.\n",
      "Typg 220 253 X:\\CIS-PD Videos\\ciscij10\\cycle4\\Typg.mp4\n",
      "\n",
      "[MoviePy] Running:\n",
      ">>> C:\\ProgramData\\anaconda3\\Library\\bin\\ffmpeg.exe -y -i X:\\CIS-PD Videos\\ciscij10\\ciscij10_cycle4.mp4 -ss 220.00 -t 33.00 -vcodec copy -acodec copy X:\\CIS-PD Videos\\ciscij10\\cycle4\\Typg.mp4\n",
      "... command successful.\n",
      "NtsBts 253 288 X:\\CIS-PD Videos\\ciscij10\\cycle4\\NtsBts.mp4\n",
      "\n",
      "[MoviePy] Running:\n",
      ">>> C:\\ProgramData\\anaconda3\\Library\\bin\\ffmpeg.exe -y -i X:\\CIS-PD Videos\\ciscij10\\ciscij10_cycle4.mp4 -ss 253.00 -t 35.00 -vcodec copy -acodec copy X:\\CIS-PD Videos\\ciscij10\\cycle4\\NtsBts.mp4\n",
      "... command successful.\n",
      "Drnkg 289 311 X:\\CIS-PD Videos\\ciscij10\\cycle4\\Drnkg.mp4\n",
      "\n",
      "[MoviePy] Running:\n",
      ">>> C:\\ProgramData\\anaconda3\\Library\\bin\\ffmpeg.exe -y -i X:\\CIS-PD Videos\\ciscij10\\ciscij10_cycle4.mp4 -ss 289.00 -t 22.00 -vcodec copy -acodec copy X:\\CIS-PD Videos\\ciscij10\\cycle4\\Drnkg.mp4\n",
      "... command successful.\n",
      "Sheets 312 336 X:\\CIS-PD Videos\\ciscij10\\cycle4\\Sheets.mp4\n",
      "\n",
      "[MoviePy] Running:\n",
      ">>> C:\\ProgramData\\anaconda3\\Library\\bin\\ffmpeg.exe -y -i X:\\CIS-PD Videos\\ciscij10\\ciscij10_cycle4.mp4 -ss 312.00 -t 24.00 -vcodec copy -acodec copy X:\\CIS-PD Videos\\ciscij10\\cycle4\\Sheets.mp4\n",
      "... command successful.\n",
      "Fldg 337 375 X:\\CIS-PD Videos\\ciscij10\\cycle4\\Fldg.mp4\n",
      "\n",
      "[MoviePy] Running:\n",
      ">>> C:\\ProgramData\\anaconda3\\Library\\bin\\ffmpeg.exe -y -i X:\\CIS-PD Videos\\ciscij10\\ciscij10_cycle4.mp4 -ss 337.00 -t 38.00 -vcodec copy -acodec copy X:\\CIS-PD Videos\\ciscij10\\cycle4\\Fldg.mp4\n",
      "... command successful.\n",
      "Sitng 380 407 X:\\CIS-PD Videos\\ciscij10\\cycle4\\Sitng.mp4\n",
      "\n",
      "[MoviePy] Running:\n",
      ">>> C:\\ProgramData\\anaconda3\\Library\\bin\\ffmpeg.exe -y -i X:\\CIS-PD Videos\\ciscij10\\ciscij10_cycle4.mp4 -ss 380.00 -t 27.00 -vcodec copy -acodec copy X:\\CIS-PD Videos\\ciscij10\\cycle4\\Sitng.mp4\n",
      "... command successful.\n",
      "Stndg 7 35 X:\\CIS-PD Videos\\ciscij10\\cycle5\\Stndg.mp4\n",
      "\n",
      "[MoviePy] Running:\n",
      ">>> C:\\ProgramData\\anaconda3\\Library\\bin\\ffmpeg.exe -y -i X:\\CIS-PD Videos\\ciscij10\\ciscij10_cycle5.mp4 -ss 7.00 -t 28.00 -vcodec copy -acodec copy X:\\CIS-PD Videos\\ciscij10\\cycle5\\Stndg.mp4\n",
      "... command successful.\n",
      "Wlkg 36 74 X:\\CIS-PD Videos\\ciscij10\\cycle5\\Wlkg.mp4\n",
      "\n",
      "[MoviePy] Running:\n",
      ">>> C:\\ProgramData\\anaconda3\\Library\\bin\\ffmpeg.exe -y -i X:\\CIS-PD Videos\\ciscij10\\ciscij10_cycle5.mp4 -ss 36.00 -t 38.00 -vcodec copy -acodec copy X:\\CIS-PD Videos\\ciscij10\\cycle5\\Wlkg.mp4\n",
      "... command successful.\n",
      "WlkgCnt 74 106 X:\\CIS-PD Videos\\ciscij10\\cycle5\\WlkgCnt.mp4\n",
      "\n",
      "[MoviePy] Running:\n",
      ">>> C:\\ProgramData\\anaconda3\\Library\\bin\\ffmpeg.exe -y -i X:\\CIS-PD Videos\\ciscij10\\ciscij10_cycle5.mp4 -ss 74.00 -t 32.00 -vcodec copy -acodec copy X:\\CIS-PD Videos\\ciscij10\\cycle5\\WlkgCnt.mp4\n",
      "... command successful.\n",
      "FtnR 106 124 X:\\CIS-PD Videos\\ciscij10\\cycle5\\FtnR.mp4\n",
      "\n",
      "[MoviePy] Running:\n",
      ">>> C:\\ProgramData\\anaconda3\\Library\\bin\\ffmpeg.exe -y -i X:\\CIS-PD Videos\\ciscij10\\ciscij10_cycle5.mp4 -ss 106.00 -t 18.00 -vcodec copy -acodec copy X:\\CIS-PD Videos\\ciscij10\\cycle5\\FtnR.mp4\n",
      "... command successful.\n",
      "FtnL 124 139 X:\\CIS-PD Videos\\ciscij10\\cycle5\\FtnL.mp4\n",
      "\n",
      "[MoviePy] Running:\n",
      ">>> C:\\ProgramData\\anaconda3\\Library\\bin\\ffmpeg.exe -y -i X:\\CIS-PD Videos\\ciscij10\\ciscij10_cycle5.mp4 -ss 124.00 -t 15.00 -vcodec copy -acodec copy X:\\CIS-PD Videos\\ciscij10\\cycle5\\FtnL.mp4\n",
      "... command successful.\n",
      "RamR 139 156 X:\\CIS-PD Videos\\ciscij10\\cycle5\\RamR.mp4\n",
      "\n",
      "[MoviePy] Running:\n",
      ">>> C:\\ProgramData\\anaconda3\\Library\\bin\\ffmpeg.exe -y -i X:\\CIS-PD Videos\\ciscij10\\ciscij10_cycle5.mp4 -ss 139.00 -t 17.00 -vcodec copy -acodec copy X:\\CIS-PD Videos\\ciscij10\\cycle5\\RamR.mp4\n",
      "... command successful.\n",
      "RamL 155 171 X:\\CIS-PD Videos\\ciscij10\\cycle5\\RamL.mp4\n",
      "\n",
      "[MoviePy] Running:\n",
      ">>> C:\\ProgramData\\anaconda3\\Library\\bin\\ffmpeg.exe -y -i X:\\CIS-PD Videos\\ciscij10\\ciscij10_cycle5.mp4 -ss 155.00 -t 16.00 -vcodec copy -acodec copy X:\\CIS-PD Videos\\ciscij10\\cycle5\\RamL.mp4\n",
      "... command successful.\n",
      "SitStand 173 188 X:\\CIS-PD Videos\\ciscij10\\cycle5\\SitStand.mp4\n",
      "\n",
      "[MoviePy] Running:\n",
      ">>> C:\\ProgramData\\anaconda3\\Library\\bin\\ffmpeg.exe -y -i X:\\CIS-PD Videos\\ciscij10\\ciscij10_cycle5.mp4 -ss 173.00 -t 15.00 -vcodec copy -acodec copy X:\\CIS-PD Videos\\ciscij10\\cycle5\\SitStand.mp4\n",
      "... command successful.\n",
      "Drwg 189 220 X:\\CIS-PD Videos\\ciscij10\\cycle5\\Drwg.mp4\n",
      "\n",
      "[MoviePy] Running:\n",
      ">>> C:\\ProgramData\\anaconda3\\Library\\bin\\ffmpeg.exe -y -i X:\\CIS-PD Videos\\ciscij10\\ciscij10_cycle5.mp4 -ss 189.00 -t 31.00 -vcodec copy -acodec copy X:\\CIS-PD Videos\\ciscij10\\cycle5\\Drwg.mp4\n",
      "... command successful.\n",
      "Typg 221 254 X:\\CIS-PD Videos\\ciscij10\\cycle5\\Typg.mp4\n",
      "\n",
      "[MoviePy] Running:\n",
      ">>> C:\\ProgramData\\anaconda3\\Library\\bin\\ffmpeg.exe -y -i X:\\CIS-PD Videos\\ciscij10\\ciscij10_cycle5.mp4 -ss 221.00 -t 33.00 -vcodec copy -acodec copy X:\\CIS-PD Videos\\ciscij10\\cycle5\\Typg.mp4\n",
      "... command successful.\n",
      "NtsBts 254 287 X:\\CIS-PD Videos\\ciscij10\\cycle5\\NtsBts.mp4\n",
      "\n",
      "[MoviePy] Running:\n",
      ">>> C:\\ProgramData\\anaconda3\\Library\\bin\\ffmpeg.exe -y -i X:\\CIS-PD Videos\\ciscij10\\ciscij10_cycle5.mp4 -ss 254.00 -t 33.00 -vcodec copy -acodec copy X:\\CIS-PD Videos\\ciscij10\\cycle5\\NtsBts.mp4\n",
      "... command successful.\n"
     ]
    },
    {
     "name": "stdout",
     "output_type": "stream",
     "text": [
      "Drnkg 288 309 X:\\CIS-PD Videos\\ciscij10\\cycle5\\Drnkg.mp4\n",
      "\n",
      "[MoviePy] Running:\n",
      ">>> C:\\ProgramData\\anaconda3\\Library\\bin\\ffmpeg.exe -y -i X:\\CIS-PD Videos\\ciscij10\\ciscij10_cycle5.mp4 -ss 288.00 -t 21.00 -vcodec copy -acodec copy X:\\CIS-PD Videos\\ciscij10\\cycle5\\Drnkg.mp4\n",
      "... command successful.\n",
      "Sheets 311 338 X:\\CIS-PD Videos\\ciscij10\\cycle5\\Sheets.mp4\n",
      "\n",
      "[MoviePy] Running:\n",
      ">>> C:\\ProgramData\\anaconda3\\Library\\bin\\ffmpeg.exe -y -i X:\\CIS-PD Videos\\ciscij10\\ciscij10_cycle5.mp4 -ss 311.00 -t 27.00 -vcodec copy -acodec copy X:\\CIS-PD Videos\\ciscij10\\cycle5\\Sheets.mp4\n",
      "... command successful.\n",
      "Fldg 340 380 X:\\CIS-PD Videos\\ciscij10\\cycle5\\Fldg.mp4\n",
      "\n",
      "[MoviePy] Running:\n",
      ">>> C:\\ProgramData\\anaconda3\\Library\\bin\\ffmpeg.exe -y -i X:\\CIS-PD Videos\\ciscij10\\ciscij10_cycle5.mp4 -ss 340.00 -t 40.00 -vcodec copy -acodec copy X:\\CIS-PD Videos\\ciscij10\\cycle5\\Fldg.mp4\n",
      "... command successful.\n",
      "Sitng 385 412 X:\\CIS-PD Videos\\ciscij10\\cycle5\\Sitng.mp4\n",
      "\n",
      "[MoviePy] Running:\n",
      ">>> C:\\ProgramData\\anaconda3\\Library\\bin\\ffmpeg.exe -y -i X:\\CIS-PD Videos\\ciscij10\\ciscij10_cycle5.mp4 -ss 385.00 -t 27.00 -vcodec copy -acodec copy X:\\CIS-PD Videos\\ciscij10\\cycle5\\Sitng.mp4\n",
      "... command successful.\n",
      "Stndg 8 36 X:\\CIS-PD Videos\\ciscij10\\cycle6\\Stndg.mp4\n",
      "\n",
      "[MoviePy] Running:\n",
      ">>> C:\\ProgramData\\anaconda3\\Library\\bin\\ffmpeg.exe -y -i X:\\CIS-PD Videos\\ciscij10\\ciscij10_cycle6.mp4 -ss 8.00 -t 28.00 -vcodec copy -acodec copy X:\\CIS-PD Videos\\ciscij10\\cycle6\\Stndg.mp4\n",
      "... command successful.\n",
      "Wlkg 37 70 X:\\CIS-PD Videos\\ciscij10\\cycle6\\Wlkg.mp4\n",
      "\n",
      "[MoviePy] Running:\n",
      ">>> C:\\ProgramData\\anaconda3\\Library\\bin\\ffmpeg.exe -y -i X:\\CIS-PD Videos\\ciscij10\\ciscij10_cycle6.mp4 -ss 37.00 -t 33.00 -vcodec copy -acodec copy X:\\CIS-PD Videos\\ciscij10\\cycle6\\Wlkg.mp4\n",
      "... command successful.\n",
      "WlkgCnt 70 103 X:\\CIS-PD Videos\\ciscij10\\cycle6\\WlkgCnt.mp4\n",
      "\n",
      "[MoviePy] Running:\n",
      ">>> C:\\ProgramData\\anaconda3\\Library\\bin\\ffmpeg.exe -y -i X:\\CIS-PD Videos\\ciscij10\\ciscij10_cycle6.mp4 -ss 70.00 -t 33.00 -vcodec copy -acodec copy X:\\CIS-PD Videos\\ciscij10\\cycle6\\WlkgCnt.mp4\n",
      "... command successful.\n",
      "FtnR 104 121 X:\\CIS-PD Videos\\ciscij10\\cycle6\\FtnR.mp4\n",
      "\n",
      "[MoviePy] Running:\n",
      ">>> C:\\ProgramData\\anaconda3\\Library\\bin\\ffmpeg.exe -y -i X:\\CIS-PD Videos\\ciscij10\\ciscij10_cycle6.mp4 -ss 104.00 -t 17.00 -vcodec copy -acodec copy X:\\CIS-PD Videos\\ciscij10\\cycle6\\FtnR.mp4\n",
      "... command successful.\n",
      "FtnL 121 136 X:\\CIS-PD Videos\\ciscij10\\cycle6\\FtnL.mp4\n",
      "\n",
      "[MoviePy] Running:\n",
      ">>> C:\\ProgramData\\anaconda3\\Library\\bin\\ffmpeg.exe -y -i X:\\CIS-PD Videos\\ciscij10\\ciscij10_cycle6.mp4 -ss 121.00 -t 15.00 -vcodec copy -acodec copy X:\\CIS-PD Videos\\ciscij10\\cycle6\\FtnL.mp4\n",
      "... command successful.\n",
      "RamR 137 155 X:\\CIS-PD Videos\\ciscij10\\cycle6\\RamR.mp4\n",
      "\n",
      "[MoviePy] Running:\n",
      ">>> C:\\ProgramData\\anaconda3\\Library\\bin\\ffmpeg.exe -y -i X:\\CIS-PD Videos\\ciscij10\\ciscij10_cycle6.mp4 -ss 137.00 -t 18.00 -vcodec copy -acodec copy X:\\CIS-PD Videos\\ciscij10\\cycle6\\RamR.mp4\n",
      "... command successful.\n",
      "RamL 155 168 X:\\CIS-PD Videos\\ciscij10\\cycle6\\RamL.mp4\n",
      "\n",
      "[MoviePy] Running:\n",
      ">>> C:\\ProgramData\\anaconda3\\Library\\bin\\ffmpeg.exe -y -i X:\\CIS-PD Videos\\ciscij10\\ciscij10_cycle6.mp4 -ss 155.00 -t 13.00 -vcodec copy -acodec copy X:\\CIS-PD Videos\\ciscij10\\cycle6\\RamL.mp4\n",
      "... command successful.\n",
      "SitStand 169 185 X:\\CIS-PD Videos\\ciscij10\\cycle6\\SitStand.mp4\n",
      "\n",
      "[MoviePy] Running:\n",
      ">>> C:\\ProgramData\\anaconda3\\Library\\bin\\ffmpeg.exe -y -i X:\\CIS-PD Videos\\ciscij10\\ciscij10_cycle6.mp4 -ss 169.00 -t 16.00 -vcodec copy -acodec copy X:\\CIS-PD Videos\\ciscij10\\cycle6\\SitStand.mp4\n",
      "... command successful.\n",
      "Drwg 186 218 X:\\CIS-PD Videos\\ciscij10\\cycle6\\Drwg.mp4\n",
      "\n",
      "[MoviePy] Running:\n",
      ">>> C:\\ProgramData\\anaconda3\\Library\\bin\\ffmpeg.exe -y -i X:\\CIS-PD Videos\\ciscij10\\ciscij10_cycle6.mp4 -ss 186.00 -t 32.00 -vcodec copy -acodec copy X:\\CIS-PD Videos\\ciscij10\\cycle6\\Drwg.mp4\n",
      "... command successful.\n",
      "Typg 219 251 X:\\CIS-PD Videos\\ciscij10\\cycle6\\Typg.mp4\n",
      "\n",
      "[MoviePy] Running:\n",
      ">>> C:\\ProgramData\\anaconda3\\Library\\bin\\ffmpeg.exe -y -i X:\\CIS-PD Videos\\ciscij10\\ciscij10_cycle6.mp4 -ss 219.00 -t 32.00 -vcodec copy -acodec copy X:\\CIS-PD Videos\\ciscij10\\cycle6\\Typg.mp4\n",
      "... command successful.\n",
      "NtsBts 251 285 X:\\CIS-PD Videos\\ciscij10\\cycle6\\NtsBts.mp4\n",
      "\n",
      "[MoviePy] Running:\n",
      ">>> C:\\ProgramData\\anaconda3\\Library\\bin\\ffmpeg.exe -y -i X:\\CIS-PD Videos\\ciscij10\\ciscij10_cycle6.mp4 -ss 251.00 -t 34.00 -vcodec copy -acodec copy X:\\CIS-PD Videos\\ciscij10\\cycle6\\NtsBts.mp4\n",
      "... command successful.\n",
      "Drnkg 286 309 X:\\CIS-PD Videos\\ciscij10\\cycle6\\Drnkg.mp4\n",
      "\n",
      "[MoviePy] Running:\n",
      ">>> C:\\ProgramData\\anaconda3\\Library\\bin\\ffmpeg.exe -y -i X:\\CIS-PD Videos\\ciscij10\\ciscij10_cycle6.mp4 -ss 286.00 -t 23.00 -vcodec copy -acodec copy X:\\CIS-PD Videos\\ciscij10\\cycle6\\Drnkg.mp4\n",
      "... command successful.\n",
      "Sheets 310 337 X:\\CIS-PD Videos\\ciscij10\\cycle6\\Sheets.mp4\n",
      "\n",
      "[MoviePy] Running:\n",
      ">>> C:\\ProgramData\\anaconda3\\Library\\bin\\ffmpeg.exe -y -i X:\\CIS-PD Videos\\ciscij10\\ciscij10_cycle6.mp4 -ss 310.00 -t 27.00 -vcodec copy -acodec copy X:\\CIS-PD Videos\\ciscij10\\cycle6\\Sheets.mp4\n",
      "... command successful.\n",
      "Fldg 339 375 X:\\CIS-PD Videos\\ciscij10\\cycle6\\Fldg.mp4\n",
      "\n",
      "[MoviePy] Running:\n",
      ">>> C:\\ProgramData\\anaconda3\\Library\\bin\\ffmpeg.exe -y -i X:\\CIS-PD Videos\\ciscij10\\ciscij10_cycle6.mp4 -ss 339.00 -t 36.00 -vcodec copy -acodec copy X:\\CIS-PD Videos\\ciscij10\\cycle6\\Fldg.mp4\n",
      "... command successful.\n",
      "Sitng 379 407 X:\\CIS-PD Videos\\ciscij10\\cycle6\\Sitng.mp4\n",
      "\n",
      "[MoviePy] Running:\n",
      ">>> C:\\ProgramData\\anaconda3\\Library\\bin\\ffmpeg.exe -y -i X:\\CIS-PD Videos\\ciscij10\\ciscij10_cycle6.mp4 -ss 379.00 -t 28.00 -vcodec copy -acodec copy X:\\CIS-PD Videos\\ciscij10\\cycle6\\Sitng.mp4\n",
      "... command successful.\n"
     ]
    }
   ],
   "source": [
    "# convert frames to sec to prepare for clipping videos\n",
    "df = convert_and_clip(1043, cycle_num = 5)\n",
    "# check the df activity labels"
   ]
  },
  {
   "cell_type": "markdown",
   "metadata": {},
   "source": [
    "# 1048 - cycle 1-5\n",
    "- raw Video name: added 'cycle' + corresponding number + '_' as prefix to name\n",
    "- cycle1: video names are cycle1_MVI_0032 (towel folding), cycle1_MVI_0033 (towel folding), cycle1_MVI_0034 (sit)\n",
    "- cycle3: only video is watch shaking"
   ]
  },
  {
   "cell_type": "code",
   "execution_count": 50,
   "metadata": {},
   "outputs": [
    {
     "name": "stdout",
     "output_type": "stream",
     "text": [
      "cisrol12\n"
     ]
    }
   ],
   "source": [
    "# get subject id from dictionary\n",
    "id = id_dict.get(1048, 'Unknown')\n",
    "print(id)"
   ]
  },
  {
   "cell_type": "markdown",
   "metadata": {},
   "source": [
    "## Did NOT annotate video as it was already clipped"
   ]
  },
  {
   "cell_type": "markdown",
   "metadata": {},
   "source": [
    "### cycle1 video names:\n",
    "- cycle1_MVI_0032   Fldg_trial1\n",
    "- cycle1_MVI_0033   Fldg_trial2\n",
    "- cycle1_MVI_0034   Sitng"
   ]
  },
  {
   "cell_type": "markdown",
   "metadata": {},
   "source": [
    "### cycle2 video names:\n",
    "- cycle2_MVI_0035   shaking watch stand\n",
    "- cycle2_MVI_0036   shaking watch sit\n",
    "- cycle2_MVI_0037   Stndg\n",
    "- cycle2_MVI_0038   Wlkg\n",
    "- cycle2_MVI_0039   WlkgCnt\n",
    "- cycle2_MVI_0042   FtnR\n",
    "- cycle2_MVI_0043   FtnL\n",
    "- cycle2_MVI_0044   RamR\n",
    "- cycle2_MVI_0045   RamL\n",
    "- cycle2_MVI_0046   SitStand\n",
    "- cycle2_MVI_0047   Drwg\n",
    "- cycle2_MVI_0048   Typg\n",
    "- cycle2_MVI_0049   NtsBts\n",
    "- cycle2_MVI_0050   ***no activity***\n",
    "- cycle2_MVI_0051   Drnkg\n",
    "- cycle2_MVI_0052   Sheets_trial1\n",
    "- cycle2_MVI_0053   Sheets_trial2\n",
    "- cycle2_MVI_0054   Fldg\n",
    "- cycle2_MVI_0055   Sitng"
   ]
  },
  {
   "cell_type": "markdown",
   "metadata": {},
   "source": [
    "### cycle4 video names:\n",
    "- missing: Wlkg, WlkgCnt, Sheets, Fldg\n",
    "- cycle4_MVI_0075   shaking watch stand\n",
    "- cycle4_MVI_0076   Stndg\n",
    "- cycle4_MVI_0078   FtnR\n",
    "- cycle4_MVI_0079   FtnL\n",
    "- cycle4_MVI_0080   RamR\n",
    "- cycle4_MVI_0081   RamL\n",
    "- cycle4_MVI_0082   SitStand\n",
    "- cycle4_MVI_0083   Drwg\n",
    "- cycle4_MVI_0084   Typg\n",
    "- cycle4_MVI_0085   NtsBts\n",
    "- cycle4_MVI_0086   Drnkg\n",
    "- cycle4_MVI_0089   Sitng"
   ]
  },
  {
   "cell_type": "markdown",
   "metadata": {},
   "source": [
    "### cycle5 video names:\n",
    "- missing: Stndg, Wlkg, WlkgCnt, FtnR, Drnkg, Sheets, Fldg\n",
    "- cycle5_MVI_0095   FtnL\n",
    "- cycle5_MVI_0096   RamR\n",
    "- cycle5_MVI_0097   RamL\n",
    "- cycle5_MVI_0098   SitStand\n",
    "- cycle5_MVI_0100   Drwg\n",
    "- cycle5_MVI_0101   Typg\n",
    "- cycle5_MVI_0102   NtsBts\n",
    "- cycle5_MVI_0106   Sitng"
   ]
  },
  {
<<<<<<< HEAD
=======
   "cell_type": "code",
   "execution_count": null,
   "metadata": {},
   "outputs": [],
   "source": [
    "# get subject id from dictionary\n",
    "id = id_dict.get(1048, 'Unknown')\n",
    "print(id)"
   ]
  },
  {
   "cell_type": "code",
   "execution_count": null,
   "metadata": {},
   "outputs": [],
   "source": []
  },
  {
>>>>>>> 2ed8188c985548791ae5ee54a47e82f56f56d412
   "cell_type": "markdown",
   "metadata": {},
   "source": [
    "# 1050 - cycle 1-6\n",
<<<<<<< HEAD
    "- note: There is NO cycle 1 or 5 video\n",
=======
    "- note: There is NO cycle 1 video\n",
>>>>>>> 2ed8188c985548791ae5ee54a47e82f56f56d412
    "- Cycle6 is split into 2 parts, so will need to modify function that clips videos\n",
    "- Part1 activities: standing - Nuts and Bolts (part 1)\n",
    "- Part2 activities: Nuts and Bolds (part 2) - sitting\n",
    "- Nuts and Bolts parts 1 and 2 need to be concatenated"
   ]
  },
  {
   "cell_type": "code",
<<<<<<< HEAD
   "execution_count": 51,
=======
   "execution_count": null,
>>>>>>> 2ed8188c985548791ae5ee54a47e82f56f56d412
   "metadata": {},
   "outputs": [],
   "source": [
    "# get subject id from dictionary\n",
    "id = id_dict.get(1050, 'Unknown')\n",
    "print(id)"
   ]
  },
  {
   "cell_type": "markdown",
   "metadata": {},
   "source": [
    "## Next action\n",
    "- Modify code to get cycle 6 part 1 and 2 clipped correctly\n",
    "- Concatenate NtsBts for cycle 6 since it's split into two parts"
   ]
  },
  {
   "cell_type": "code",
   "execution_count": null,
   "metadata": {},
   "outputs": [],
   "source": [
    "# convert frames to sec to prepare for clipping videos\n",
    "# cycle_num 5 for cycle 2, 3, 4, 6 part 1, 6 part 2\n",
    "# cycle 6 part 1 can be considered as cycle 6 in annotated file\n",
    "# cycle 6 part 2 can be considered as cycle 7 in annotated file\n",
    "df = convert_and_clip(1043, cycle_num = 5)\n",
    "# check the df activity labels"
   ]
  }
 ],
 "metadata": {
  "kernelspec": {
   "display_name": "Python 3",
   "language": "python",
   "name": "python3"
  },
  "language_info": {
   "codemirror_mode": {
    "name": "ipython",
    "version": 3
   },
   "file_extension": ".py",
   "mimetype": "text/x-python",
   "name": "python",
   "nbconvert_exporter": "python",
   "pygments_lexer": "ipython3",
   "version": "3.6.5"
  }
 },
 "nbformat": 4,
 "nbformat_minor": 2
}
>>>>>>> 5d7a49db4980a2232eff0d0a82becc6cc8dbd136

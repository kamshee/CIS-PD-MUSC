{
 "cells": [
  {
   "cell_type": "markdown",
   "metadata": {},
   "source": [
    "# Clean data from video annotator"
   ]
  },
  {
   "cell_type": "markdown",
   "metadata": {},
   "source": [
    "Create a script to clean data from video annotator\n",
    "\n",
    "install python video annotator: http://pythonvideoannotator.readthedocs.io/en/master/"
   ]
  },
  {
   "cell_type": "markdown",
   "metadata": {},
   "source": [
    "## Run Video Annotator in Terminal\n",
    "\n",
    "### for windows:\n",
    "- activate videoannotator\n",
    "- python -m pythonvideoannotator\n",
    "\n",
    "### for mac:\n",
    "- source activate videoannotator\n",
    "- python -m pythonvideoannotator"
   ]
  },
  {
   "cell_type": "markdown",
   "metadata": {},
   "source": [
    "## List of tasks\n",
    "self.taskList = np.array(['Shaking', 'Standing', 'Walking', 'Walking while counting', 'Finger to nose--right hand', \n",
    "                          'Finger to nose--left hand', 'Alternating right hand movements', \n",
    "                          'Alternating left hand movements', 'Sit to stand', 'Drawing on a paper', \n",
    "                          'Typing on a computer keyboard', 'Assembling nuts and bolts', 'Taking a glass of water',\n",
    "                          'Organizing sheets in a folder', 'Folding towels', 'Sitting'])"
   ]
  },
  {
   "cell_type": "markdown",
   "metadata": {},
   "source": [
    "Shaking\n",
    "Standing\n",
    "Walking\n",
    "Walking while counting\n",
    "Finger to nose--right hand\n",
    "Finger to nose--left hand\n",
    "Alternating right hand movements\n",
    "Alternating left hand movements\n",
    "Sit to stand\n",
    "Drawing on a paper\n",
    "Typing on a computer keyboard\n",
    "Assembling nuts and bolts\n",
    "Taking a glass of water\n",
    "Organizing sheets in a folder\n",
    "Folding towels\n",
    "Sitting"
   ]
  },
  {
   "cell_type": "code",
   "execution_count": null,
   "metadata": {},
   "outputs": [],
   "source": [
    "# For Joe's computer\n",
    "# cd Y:"
   ]
  },
  {
   "cell_type": "code",
   "execution_count": 1,
   "metadata": {},
   "outputs": [],
   "source": [
    "# Importing the Libraries\n",
    "import os\n",
    "import numpy as np\n",
    "import pandas as pd\n",
    "import seaborn as sns\n",
    "import matplotlib.pyplot as plt\n",
    "import re\n",
    "\n",
    "#import datetime as dt\n",
    "#import pathlib\n",
    "#import pickle\n",
    "#from itertools import product\n",
    "#from scipy.stats import skew, kurtosis, pearsonr\n",
    "#from scipy.signal import butter, welch, filtfilt, resample\n",
    "#import time\n",
    "#import copy"
   ]
  },
  {
   "cell_type": "code",
   "execution_count": 2,
   "metadata": {},
   "outputs": [],
   "source": [
    "# specify path\n",
    "#path = r'C:\\Users\\lu-rt&o\\Documents\\GitHub\\CIS-PD MUSC\\CIS-PD-MUSC'\n",
    "#path = r'C:\\Users\\lu-rt&o\\pythonVideoAnnotator'\n",
    "path = r'Y:\\CIS-PD Videos\\Cisnwh8'"
   ]
  },
  {
   "cell_type": "markdown",
   "metadata": {},
   "source": [
    "## Videoannotator rows correspond to video cycle number"
   ]
  },
  {
   "cell_type": "code",
   "execution_count": null,
   "metadata": {},
   "outputs": [],
   "source": [
    "# add subject id column"
   ]
  },
  {
   "cell_type": "code",
   "execution_count": 12,
   "metadata": {},
   "outputs": [
    {
     "name": "stdout",
     "output_type": "stream",
     "text": [
      "   start time  stop time                              activity  cycle\n",
      "1        1118       2145                              Standing      1\n",
      "2        2315       3333                               Walking      1\n",
      "3        3608       4800                Walking while counting      1\n",
      "4        5832       6518            Finger to nose--right hand      1\n",
      "5        6518       7121             Finger to nose--left hand      1\n",
      "6        7435       8029      Alternating right hand movements      1\n",
      "7        8030       8688       Alternating left hand movements      1\n",
      "8        9077       9343                          Sit to stand      1\n",
      "9        9880      10973                    Drawing on a paper      1\n",
      "10      11871      12990         Typing on a computer keyboard      1\n",
      "12      13164      14391             Assembling nuts and bolts      1\n",
      "13      15039      15950  Taking a glass of water and drinking      1\n",
      "14      17075      18503         Organizing sheets in a folder      1\n",
      "15      19059      20180                        Folding towels      1\n",
      "16      20359      21813                               Sitting      1\n"
     ]
    }
   ],
   "source": [
    "def dataclean:    \n",
    "    colnames = ['0', '1', 'start time', 'stop time', 'activity', '2', 'cycle']\n",
    "    selectedcol= ['start time', 'stop time', 'activity', 'cycle']\n",
    "    df = pd.read_csv(os.path.join(path, 'cycle1.csv'), names=colnames, usecols=selectedcol)\n",
    "    df = df.dropna()\n",
    "    df['cycle'] += 1\n",
    "    df['stop time'] = pd.to_numeric(df['stop time'], downcast='integer')\n",
    "    df['cycle'] = pd.to_numeric(df['cycle'], downcast='integer')\n",
    "    print(df.head(3))\n",
    "    \n",
    "    return df"
   ]
  },
  {
   "cell_type": "code",
   "execution_count": null,
   "metadata": {},
   "outputs": [],
   "source": [
    "# List based on Value data of Activity Recognition\n",
    "activitylist= list(['Shaking', 'Standing', 'Walking', 'Walking while counting', 'Finger to nose--right hand', \n",
    "                'Finger to nose--left hand', 'Alternating right hand movements', 'Alternating left hand movements', \n",
    "                'Sit to stand', 'Drawing on a paper', 'Typing on a computer keyboard', 'Assembling nuts and bolts', \n",
    "                'Taking a glass of water', 'Organizing sheets in a folder', 'Folding towels', 'Sitting'])"
   ]
  },
  {
   "cell_type": "markdown",
   "metadata": {},
   "source": [
    "Shaking\n",
    "Standing\n",
    "Walking\n",
    "Walking while counting\n",
    "Finger to nose--right hand\n",
    "Finger to nose--left hand\n",
    "Alternating right hand movements\n",
    "Alternating left hand movements\n",
    "Sit to stand\n",
    "Drawing on a paper\n",
    "Typing on a computer keyboard\n",
    "Assembling nuts and bolts\n",
    "Taking a glass of water\n",
    "Organizing sheets in a folder\n",
    "Folding towels\n",
    "Sitting"
   ]
  },
  {
   "cell_type": "markdown",
   "metadata": {},
   "source": [
    "1 Shaking\n",
    "2 Standing\n",
    "3 Walking\n",
    "4 Walking while counting\n",
    "5 Finger to nose--right hand\n",
    "6 Finger to nose--left hand\n",
    "7 Alternating right hand movements\n",
    "8 Alternating left hand movements\n",
    "9 Sit to stand\n",
    "10 Drawing on a paper\n",
    "11 Typing on a computer keyboard\n",
    "12 Assembling nuts and bolts\n",
    "13 Taking a glass of water\n",
    "14 Organizing sheets in a folder\n",
    "15 Folding towels\n",
    "16 Sitting"
   ]
  },
  {
   "cell_type": "code",
   "execution_count": 20,
   "metadata": {},
   "outputs": [
    {
     "name": "stdout",
     "output_type": "stream",
     "text": [
      " Volume in drive C is OS\n",
      " Volume Serial Number is 0616-B8C9\n",
      "\n",
      " Directory of C:\\Users\\lu-rt&o\\Documents\\GitHub\\CIS-PD MUSC\\CIS-PD-MUSC\n",
      "\n",
      "06/26/2018  04:48 PM    <DIR>          .\n",
      "06/26/2018  04:48 PM    <DIR>          ..\n",
      "06/26/2018  01:30 PM    <DIR>          .ipynb_checkpoints\n",
      "06/26/2018  07:44 AM            21,653 cleanforms.ipynb\n",
      "05/23/2018  10:20 AM               153 export file.csv\n",
      "05/23/2018  09:49 AM               154 export file2.csv\n",
      "06/21/2018  02:45 PM            65,860 form data clean.ipynb\n",
      "06/21/2018  02:45 PM            29,481 formdata.ipynb\n",
      "06/26/2018  03:18 PM             2,113 install video annotator.ipynb\n",
      "05/17/2018  12:40 PM        18,333,657 MVI_0011.MP4\n",
      "05/16/2018  10:19 AM               214 pythonvideoannotator.py\n",
      "06/21/2018  02:45 PM                13 README.md\n",
      "06/26/2018  02:27 PM             3,801 run videoannotator.ipynb\n",
      "06/26/2018  04:48 PM             9,386 videoannotator clean.ipynb\n",
      "              11 File(s)     18,466,485 bytes\n",
      "               3 Dir(s)  40,480,792,576 bytes free\n"
     ]
    }
   ],
   "source": [
    "ls"
   ]
  },
  {
   "cell_type": "code",
   "execution_count": null,
   "metadata": {},
   "outputs": [],
   "source": []
  },
  {
   "cell_type": "code",
   "execution_count": null,
   "metadata": {},
   "outputs": [],
   "source": []
  },
  {
   "cell_type": "code",
   "execution_count": null,
   "metadata": {},
   "outputs": [],
   "source": []
  },
  {
   "cell_type": "code",
   "execution_count": null,
   "metadata": {},
   "outputs": [],
   "source": []
  },
  {
   "cell_type": "code",
   "execution_count": null,
   "metadata": {},
   "outputs": [],
   "source": []
  },
  {
   "cell_type": "code",
   "execution_count": null,
   "metadata": {},
   "outputs": [],
   "source": [
    "def process_videoannotator(path):\n",
    "    \"\"\"Processes videoannotator .csv files in directory and removes unnecessary data.\"\"\"\n",
    "    for filenames in files:\n",
    "            if filenames.startswith('video'):\n",
    "                #p = pathlib.Path(os.path.join(root, filenames))\n",
    "                #location = str(p.relative_to(path)).split(\"\\\\\")[0]\n",
    "                #temp_df = pd.read_csv(p).set_index('Timestamp (ms)')\n",
    "                #accel[location] = accel[location].append(temp_df)\n",
    "  \n",
    "                temp_df = pd.read_csv(os.path.join(path, 'export file.csv'))\n",
    "                temp_df.columns = ['start', 'stop', 'activity', 'unnamed']\n",
    "                temp_df = temp_df.dropna()\n",
    "                # .append(temp_df)\n",
    "                \n",
    "                # save file\n",
    "                #filename = os.path.join(dict_path, SubID + 'dict.pkl')\n",
    "                with open(filename,'wb') as f:\n",
    "                    subjid.to_csv(filename, sep=',')\n",
    "                print(filename + ' ' + 'File Saved\\n')"
   ]
  },
  {
   "cell_type": "code",
   "execution_count": null,
   "metadata": {},
   "outputs": [],
   "source": [
    "## modify this\n",
    "\n",
    "#all subj data files in repository\n",
    "d = os.listdir(path)\n",
    "f = [filename[0:4] for filename in d if filename.startswith('HC')]\n",
    "#skip existing data dictionary files in ../biostamp_data/Data_dict\n",
    "fd = os.listdir(dict_path)\n",
    "fd = [x[:4] for x in fd]\n",
    "print(list(set(f) - set(fd)))\n",
    "\n",
    "\n",
    "#create data dict for remaining subjects\n",
    "# Note: saves files to Github folder directory\n",
    "data_all = []\n",
    "\n",
    "for SubID in list(set(f) - set(fd)):\n",
    "    print('Loading Subject ' + SubID + ' Data...')\n",
    "    act_dict, timestamps = extract_data(SubID, os.path.join(path, SubID))\n",
    "    print('Extract data complete.')\n",
    "    \n",
    "    #save dict to Pickle file\n",
    "    filename = os.path.join(dict_path, SubID + 'dict.pkl')\n",
    "    #filename = SubID + 'dict.pkl' # will need to move to Y: drive\n",
    "    with open(filename,'wb') as f:\n",
    "        pickle.dump(act_dict,f)\n",
    "    print(filename + ' ' + 'File Saved\\n')"
   ]
  },
  {
   "cell_type": "code",
   "execution_count": null,
   "metadata": {},
   "outputs": [],
   "source": []
  },
  {
   "cell_type": "code",
   "execution_count": null,
   "metadata": {},
   "outputs": [],
   "source": []
  },
  {
   "cell_type": "code",
   "execution_count": null,
   "metadata": {},
   "outputs": [],
   "source": []
  },
  {
   "cell_type": "code",
   "execution_count": null,
   "metadata": {},
   "outputs": [],
   "source": []
  },
  {
   "cell_type": "code",
   "execution_count": null,
   "metadata": {},
   "outputs": [],
   "source": []
  },
  {
   "cell_type": "code",
   "execution_count": null,
   "metadata": {},
   "outputs": [],
   "source": []
  },
  {
   "cell_type": "code",
   "execution_count": null,
   "metadata": {},
   "outputs": [],
   "source": []
  },
  {
   "cell_type": "code",
   "execution_count": null,
   "metadata": {},
   "outputs": [],
   "source": []
  }
 ],
 "metadata": {
  "kernelspec": {
   "display_name": "Python 3",
   "language": "python",
   "name": "python3"
  },
  "language_info": {
   "codemirror_mode": {
    "name": "ipython",
    "version": 3
   },
   "file_extension": ".py",
   "mimetype": "text/x-python",
   "name": "python",
   "nbconvert_exporter": "python",
   "pygments_lexer": "ipython3",
   "version": "3.6.5"
  }
 },
 "nbformat": 4,
 "nbformat_minor": 2
}

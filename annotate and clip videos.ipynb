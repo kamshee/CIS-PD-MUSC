{
 "cells": [
  {
   "cell_type": "markdown",
   "metadata": {},
   "source": [
    "# Download, annotate, and clip CIS-PD Videos"
   ]
  },
  {
   "cell_type": "markdown",
   "metadata": {},
   "source": [
    "Project status:\n",
    "- COMPLETE: Download cycle videos for list of subjects\n",
    "- COMPLETE: Annotate videos\n",
    "- COMPLETE: Clip videos into activities\n",
    "Using 'mp4 metadata extract.ipynb' in temp-notebooks repo\n",
    "- COMPLETE: Get start times for videos using Python\n",
    "- COMPLETE: Use start/stop frame number and convert to UTC\n",
    "- COMPLETE: Modify GUI function to use my start/stop times to label data for relevant subjects and cycles below"
   ]
  },
  {
   "cell_type": "markdown",
   "metadata": {},
   "source": [
    "Videos to download, annotate and clip:\n",
    "- 1003 - all cycles\n",
    "- 1005 - skip cycle 5, all cycles\n",
    "- 1007 - cycle 1-4\n",
    "- 1009 - 1, 4, 6\n",
    "- 1019 - 4\n",
    "- 1023 - 2-6\n",
    "- 1024 - 3\n",
    "- 1039 - 1-6\n",
    "- 1043 - 2-6\n",
    "- 1048 - 1-5\n",
    "- 1050 - 1-6"
   ]
  },
  {
   "cell_type": "markdown",
   "metadata": {},
   "source": [
    "## File structure\n",
    "- Each subject's cycle videos are compiled into the 'raw_annotations.csv' file in each subject's folder.\n",
    "- Each cycle video is clipped, dumped into corresponding cycle folder (ie. cycle1), and named by the short name (ie. Wlkg for Walking).\n",
    "- Pertinent notes for each subject are noted below under the corresponding subject heading."
   ]
  },
  {
   "cell_type": "markdown",
   "metadata": {},
   "source": [
    "Activity List:\n",
    "\n",
    "Shaking (omitted)\n",
    "\n",
    "Standing\n",
    "\n",
    "Walking\n",
    "\n",
    "Walking while counting\n",
    "\n",
    "Finger to nose--right hand\n",
    "\n",
    "Finger to nose--left hand\n",
    "\n",
    "Alternating right hand movements\n",
    "\n",
    "Alternating left hand movements\n",
    "\n",
    "Sit to stand\n",
    "\n",
    "Drawing on a paper\n",
    "\n",
    "Typing on a computer keyboard\n",
    "\n",
    "Assembling nuts and bolts\n",
    "\n",
    "Taking a glass of water\n",
    "\n",
    "Organizing sheets in a folder\n",
    "\n",
    "Folding towels\n",
    "\n",
    "Sitting"
   ]
  },
  {
   "cell_type": "code",
   "execution_count": 2,
   "metadata": {},
   "outputs": [],
   "source": [
    "# Importing the Libraries\n",
    "import os\n",
    "import numpy as np\n",
    "import pandas as pd\n",
    "import seaborn as sns\n",
    "import matplotlib.pyplot as plt\n",
    "import re\n",
    "import datetime as dt\n",
    "from moviepy.video.io.ffmpeg_tools import ffmpeg_extract_subclip"
   ]
  },
  {
   "cell_type": "markdown",
   "metadata": {},
   "source": [
    "## Run Video Annotator in Terminal\n",
    "\n",
    "If pythonvideoannotator is installed,\n",
    "\n",
    "for windows:\n",
    "\n",
    "    activate videoannotator\n",
    "\n",
    "    python -m pythonvideoannotator\n",
    "    \n",
    "for mac:\n",
    "    \n",
    "    source activate videoannotator\n",
    "    \n",
    "    python -m pythonvideoannotator"
   ]
  },
  {
   "cell_type": "markdown",
   "metadata": {},
   "source": [
    "# Check RTO Network Drive and change path(s) as needed\n",
    "- X:, Y: or Z: ?"
   ]
  },
  {
   "cell_type": "markdown",
   "metadata": {},
   "source": [
    "# Create dictionaries to decode id for videos"
   ]
  },
  {
   "cell_type": "code",
   "execution_count": 3,
   "metadata": {},
   "outputs": [],
   "source": [
    "# Dataframe of subject ids to match\n",
    "path = r'X:\\CIS-PD MUSC\\decoded_forms'\n",
    "filename = os.path.join(path, 'videoID.csv') # ie. file = 'videoID.csv'\n",
    "subjid_df = pd.read_csv(filename)\n",
    "# Change SubjectCode column from type float to int\n",
    "subjid_df.SubjectCode = subjid_df.SubjectCode.astype('int')"
   ]
  },
  {
   "cell_type": "code",
   "execution_count": 4,
   "metadata": {},
   "outputs": [],
   "source": [
    "# Dictionary of SubjecctCode: FoxInsightID\n",
    "id_dict = subjid_df.set_index('SubjectCode').to_dict()['FoxInsightID']\n",
    "reverse_id_dict = subjid_df.set_index('FoxInsightID').to_dict()['SubjectCode']"
   ]
  },
  {
   "cell_type": "code",
   "execution_count": 5,
   "metadata": {},
   "outputs": [
    {
     "name": "stdout",
     "output_type": "stream",
     "text": [
      "ciscij10  is  1043\n"
     ]
    }
   ],
   "source": [
    "# Check id for video downloads\n",
    "# get subject id from dictionary\n",
    "id = reverse_id_dict.get('ciscij10','Unknown')\n",
    "print('ciscij10', ' is ', id)"
   ]
  },
  {
   "cell_type": "code",
   "execution_count": 4,
   "metadata": {},
   "outputs": [],
   "source": [
    "def dataclean(file, path, id): \n",
    "    \"\"\"Function takes pythonVideoAnnotator file and cleans up into dataframe.\"\"\"\n",
    "    \n",
    "    colnames = ['subject code', '1', 'start frame', 'stop frame', 'activity', '2', 'cycle']\n",
    "    selectedcol= ['subject code','start frame', 'stop frame', 'activity', 'cycle']\n",
    "    #df = pd.read_csv(os.path.join(path, 'cycle1.csv'), names=colnames, usecols=selectedcol)\n",
    "    filename = os.path.join(path, file) # ie. file = 'cycle1.csv'\n",
    "    df = pd.read_csv(filename, names=colnames, usecols=selectedcol)\n",
    "    df = df.dropna()\n",
    "    df['cycle'] += 1\n",
    "    df['start frame'] = pd.to_numeric(df['start frame'], downcast='integer')\n",
    "    df['stop frame'] = pd.to_numeric(df['stop frame'], downcast='integer')\n",
    "    df['cycle'] = pd.to_numeric(df['cycle'], downcast='integer')\n",
    "    df['subject code'] = id\n",
    "    \n",
    "    return df"
   ]
  },
  {
   "cell_type": "code",
   "execution_count": 5,
   "metadata": {},
   "outputs": [],
   "source": [
    "def frame_to_sec(frames,fps=30):\n",
    "    \"\"\"Convert frames with fps sampling rate to time in total sec.\"\"\"\n",
    "    seconds = int((frames / (60 * fps) % 60)*60)\n",
    "    return seconds"
   ]
  },
  {
   "cell_type": "code",
   "execution_count": 19,
   "metadata": {},
   "outputs": [],
   "source": [
    "def convert_frame_to_sec(df, subj_path, cycle_num=6):\n",
    "    \"\"\"Function takes dataframe converts frames column to seconds to be used later to clip video.\"\"\"\n",
    "    # Example call: convert_frame_to_sec(os.path.join(path, '1030annotated.csv'))\n",
    "\n",
    "    # add column of activity abbreviated name\n",
    "    # Note: omitted 'Shaking' activity\n",
    "    activity = ('Stndg', 'Wlkg', 'WlkgCnt', 'FtnR', 'FtnL', 'RamR', 'RamL', 'SitStand', \n",
    "                  'Drwg', 'Typg', 'NtsBts', 'Drnkg', 'Sheets', 'Fldg', 'Sitng')\n",
    "    df['shortname'] = np.array(activity*cycle_num)\n",
    "    \n",
    "    # convert frames to sec\n",
    "    df['start time sec'] = df['start frame'].apply(frame_to_sec)\n",
    "    df['stop time sec'] = df['stop frame'].apply(frame_to_sec)\n",
    "    \n",
    "    # save updated file\n",
    "    fname = 'sec_annotation.csv'\n",
    "    filename = os.path.join(subj_path, fname)\n",
    "    with open(filename,'wb') as f:\n",
    "        df.to_csv(filename, sep=',')\n",
    "        \n",
    "    return df"
   ]
  },
  {
   "cell_type": "code",
   "execution_count": 23,
   "metadata": {},
   "outputs": [],
   "source": [
    "def convert_and_clip(id, id_dict=id_dict, cycle_num=6):\n",
    "    \"\"\"Input 4 digit id, then it will execute all functions to clips videos.\n",
    "    Note: Need to specify id before calling function.\n",
    "    \"\"\"\n",
    "    # get subject id\n",
    "    id = id_dict.get(id, 'Unknown')\n",
    "    file = 'raw_annotation.csv'\n",
    "    path = r'X:\\CIS-PD Videos'\n",
    "    subj_path = os.path.join(path,id)\n",
    "    df = dataclean(file, subj_path, id)\n",
    "    df = df.reset_index(drop=True)\n",
    "\n",
    "    # convert frame to seconds to clip video\n",
    "    df = convert_frame_to_sec(df, subj_path, cycle_num)\n",
    "    \n",
    "    # clip video by activity\n",
    "    clip_fullvideo(df, subj_path)\n",
    "    \n",
    "    return df"
   ]
  },
  {
   "cell_type": "code",
   "execution_count": 25,
   "metadata": {},
   "outputs": [],
   "source": [
    "def clip_fullvideo(df, subj_path):\n",
    "    \"\"\"Takes video with complete activity set and clips them into separate activities.\n",
    "    Args: df = dataframe that has the timestamps for start and stop in sec\n",
    "          video_name = full video name with complete activity set (ie. cisuabd4_cycle1)\n",
    "    \"\"\"\n",
    "    # convert to column from int to str type to use for video names\n",
    "    df['cycle'] = df['cycle'].apply(str)\n",
    "    \n",
    "    # Loop through and clip each activity to corresponding cycle video\n",
    "    for i in range(len(df)):\n",
    "        cycleindex = df['cycle'][i]\n",
    "        video_name = id + '_cycle' + cycleindex + '.mp4' # omit since there's an arg?\n",
    "        video_full = os.path.join(subj_path, video_name)\n",
    "        t1 = df['start time sec'][i]\n",
    "        t2 = df['stop time sec'][i]\n",
    "        activity = df['shortname'][i]\n",
    "        path_for_target = subj_path + '\\cycle' + cycleindex + '\\\\'\n",
    "        targetname = path_for_target + activity + '.mp4'\n",
    "        print(activity, t1, t2, targetname)\n",
    "\n",
    "        # clip activity video\n",
    "        ffmpeg_extract_subclip(video_full, t1, t2, targetname=targetname)"
   ]
  },
  {
   "cell_type": "markdown",
   "metadata": {},
   "source": [
    "# 1003 - all cycles"
   ]
  },
  {
   "cell_type": "code",
   "execution_count": 13,
   "metadata": {},
   "outputs": [
    {
     "name": "stdout",
     "output_type": "stream",
     "text": [
      "cisuabd4\n"
     ]
    }
   ],
   "source": [
    "# get subject id from dictionary\n",
    "id = id_dict.get(1003, 'Unknown')\n",
    "print(id)"
   ]
  },
  {
   "cell_type": "code",
   "execution_count": null,
   "metadata": {},
   "outputs": [],
   "source": [
    "# convert frames to sec to prepare for clipping videos\n",
    "df = convert_and_clip(1003)"
   ]
  },
  {
   "cell_type": "markdown",
   "metadata": {},
   "source": [
    "# 1005 - skip cycle 5, all cycles\n",
    "- Note: No cycle 6 video"
   ]
  },
  {
   "cell_type": "code",
   "execution_count": 15,
   "metadata": {},
   "outputs": [
    {
     "name": "stdout",
     "output_type": "stream",
     "text": [
      "cisuabe5\n"
     ]
    }
   ],
   "source": [
    "# get subject id from dictionary\n",
    "id = id_dict.get(1005, 'Unknown')\n",
    "print(id)"
   ]
  },
  {
   "cell_type": "code",
   "execution_count": null,
   "metadata": {},
   "outputs": [],
   "source": [
    "# convert frames to sec to prepare for clipping videos\n",
    "df = convert_and_clip(1005, cycle_num = 4)"
   ]
  },
  {
   "cell_type": "markdown",
   "metadata": {},
   "source": [
    "# 1007 - cycle 1-4"
   ]
  },
  {
   "cell_type": "code",
   "execution_count": 26,
   "metadata": {},
   "outputs": [
    {
     "name": "stdout",
     "output_type": "stream",
     "text": [
      "cisuabf6\n"
     ]
    }
   ],
   "source": [
    "# get subject id from dictionary\n",
    "id = id_dict.get(1007, 'Unknown')\n",
    "print(id)"
   ]
  },
  {
   "cell_type": "code",
   "execution_count": null,
   "metadata": {},
   "outputs": [],
   "source": [
    "# convert frames to sec to prepare for clipping videos\n",
    "df = convert_and_clip(1007, cycle_num = 4)"
   ]
  },
  {
   "cell_type": "markdown",
   "metadata": {},
   "source": [
    "# 1009 - cycle 1, 4, 6"
   ]
  },
  {
   "cell_type": "code",
   "execution_count": 29,
   "metadata": {},
   "outputs": [
    {
     "name": "stdout",
     "output_type": "stream",
     "text": [
      "cisuabg7\n"
     ]
    }
   ],
   "source": [
    "# get subject id from dictionary\n",
    "id = id_dict.get(1009, 'Unknown')\n",
    "print(id)"
   ]
  },
  {
   "cell_type": "code",
   "execution_count": null,
   "metadata": {},
   "outputs": [],
   "source": [
    "# convert frames to sec to prepare for clipping videos\n",
    "df = convert_and_clip(1009, cycle_num = 3)"
   ]
  },
  {
   "cell_type": "markdown",
   "metadata": {},
   "source": [
    "# 1019 - cycle 4"
   ]
  },
  {
   "cell_type": "code",
   "execution_count": 32,
   "metadata": {},
   "outputs": [
    {
     "name": "stdout",
     "output_type": "stream",
     "text": [
      "cisnwe5\n"
     ]
    }
   ],
   "source": [
    "# get sub## annotated videoject id from dictionary\n",
    "id = id_dict.get(1019, 'Unknown')\n",
    "print(id)"
   ]
  },
  {
   "cell_type": "code",
   "execution_count": null,
   "metadata": {},
   "outputs": [],
   "source": [
    "# convert frames to sec to prepare for clipping videos\n",
    "df = convert_and_clip(1019, cycle_num = 1)"
   ]
  },
  {
   "cell_type": "markdown",
   "metadata": {},
   "source": [
    "# 1023 - cycle 2-6"
   ]
  },
  {
   "cell_type": "code",
   "execution_count": 38,
   "metadata": {},
   "outputs": [
    {
     "name": "stdout",
     "output_type": "stream",
     "text": [
      "ciscid4\n"
     ]
    }
   ],
   "source": [
    "# get subject id from dictionary\n",
    "id = id_dict.get(1023, 'Unknown')\n",
    "print(id)"
   ]
  },
  {
   "cell_type": "code",
   "execution_count": null,
   "metadata": {},
   "outputs": [],
   "source": [
    "# convert frames to sec to prepare for clipping videos\n",
    "df = convert_and_clip(1023, cycle_num = 5)"
   ]
  },
  {
   "cell_type": "markdown",
   "metadata": {},
   "source": [
    "# 1024 - cycle 3"
   ]
  },
  {
   "cell_type": "code",
   "execution_count": 40,
   "metadata": {},
   "outputs": [
    {
     "name": "stdout",
     "output_type": "stream",
     "text": [
      "cisnwf6\n"
     ]
    }
   ],
   "source": [
    "# get subject id from dictionary\n",
    "id = id_dict.get(1024, 'Unknown')\n",
    "print(id)"
   ]
  },
  {
   "cell_type": "code",
   "execution_count": null,
   "metadata": {},
   "outputs": [],
   "source": [
    "# convert frames to sec to prepare for clipping videos\n",
    "df = convert_and_clip(1024, cycle_num = 1)"
   ]
  },
  {
   "cell_type": "markdown",
   "metadata": {},
   "source": [
    "# 1039 - cycle 1-6"
   ]
  },
  {
   "cell_type": "code",
   "execution_count": 42,
   "metadata": {},
   "outputs": [
    {
     "name": "stdout",
     "output_type": "stream",
     "text": [
      "ciscih8\n"
     ]
    }
   ],
   "source": [
    "# get subject id from dictionary\n",
    "id = id_dict.get(1039, 'Unknown')\n",
    "print(id)"
   ]
  },
  {
   "cell_type": "code",
   "execution_count": null,
   "metadata": {},
   "outputs": [],
   "source": [
    "# convert frames to sec to prepare for clipping videos\n",
    "df = convert_and_clip(1039, cycle_num = 6)"
   ]
  },
  {
   "cell_type": "markdown",
   "metadata": {},
   "source": [
    "# 1043 - cycle 2-6"
   ]
  },
  {
   "cell_type": "code",
   "execution_count": 52,
   "metadata": {},
   "outputs": [
    {
     "name": "stdout",
     "output_type": "stream",
     "text": [
      "ciscij10\n"
     ]
    }
   ],
   "source": [
    "# get subject id from dictionary\n",
    "id = id_dict.get(1043, 'Unknown')\n",
    "print(id)"
   ]
  },
  {
   "cell_type": "code",
   "execution_count": null,
   "metadata": {},
   "outputs": [],
   "source": [
    "# convert frames to sec to prepare for clipping videos\n",
    "df = convert_and_clip(1043, cycle_num = 5)"
   ]
  },
  {
   "cell_type": "markdown",
   "metadata": {},
   "source": [
    "# 1048 - cycle 1-5\n",
    "- raw Video name: added 'cycle' + corresponding number + '_' as prefix to name\n",
    "- cycle1: video names are cycle1_MVI_0032 (towel folding), cycle1_MVI_0033 (towel folding), cycle1_MVI_0034 (sit)\n",
    "- cycle3: only video is watch shaking"
   ]
  },
  {
   "cell_type": "code",
   "execution_count": 50,
   "metadata": {},
   "outputs": [
    {
     "name": "stdout",
     "output_type": "stream",
     "text": [
      "cisrol12\n"
     ]
    }
   ],
   "source": [
    "# get subject id from dictionary\n",
    "id = id_dict.get(1048, 'Unknown')\n",
    "print(id)"
   ]
  },
  {
   "cell_type": "markdown",
   "metadata": {},
   "source": [
    "## Did NOT annotate video as it was already clipped"
   ]
  },
  {
   "cell_type": "markdown",
   "metadata": {},
   "source": [
    "### cycle1 video names:\n",
    "- cycle1_MVI_0032   Fldg_trial1\n",
    "- cycle1_MVI_0033   Fldg_trial2\n",
    "- cycle1_MVI_0034   Sitng"
   ]
  },
  {
   "cell_type": "markdown",
   "metadata": {},
   "source": [
    "### cycle2 video names:\n",
    "- cycle2_MVI_0035   shaking watch stand\n",
    "- cycle2_MVI_0036   shaking watch sit\n",
    "- cycle2_MVI_0037   Stndg\n",
    "- cycle2_MVI_0038   Wlkg\n",
    "- cycle2_MVI_0039   WlkgCnt\n",
    "- cycle2_MVI_0042   FtnR\n",
    "- cycle2_MVI_0043   FtnL\n",
    "- cycle2_MVI_0044   RamR\n",
    "- cycle2_MVI_0045   RamL\n",
    "- cycle2_MVI_0046   SitStand\n",
    "- cycle2_MVI_0047   Drwg\n",
    "- cycle2_MVI_0048   Typg\n",
    "- cycle2_MVI_0049   NtsBts\n",
    "- cycle2_MVI_0050   ***no activity***\n",
    "- cycle2_MVI_0051   Drnkg\n",
    "- cycle2_MVI_0052   Sheets_trial1\n",
    "- cycle2_MVI_0053   Sheets_trial2\n",
    "- cycle2_MVI_0054   Fldg\n",
    "- cycle2_MVI_0055   Sitng"
   ]
  },
  {
   "cell_type": "markdown",
   "metadata": {},
   "source": [
    "### cycle4 video names:\n",
    "- missing: Wlkg, WlkgCnt, Sheets, Fldg\n",
    "- cycle4_MVI_0075   shaking watch stand\n",
    "- cycle4_MVI_0076   Stndg\n",
    "- cycle4_MVI_0078   FtnR\n",
    "- cycle4_MVI_0079   FtnL\n",
    "- cycle4_MVI_0080   RamR\n",
    "- cycle4_MVI_0081   RamL\n",
    "- cycle4_MVI_0082   SitStand\n",
    "- cycle4_MVI_0083   Drwg\n",
    "- cycle4_MVI_0084   Typg\n",
    "- cycle4_MVI_0085   NtsBts\n",
    "- cycle4_MVI_0086   Drnkg\n",
    "- cycle4_MVI_0089   Sitng"
   ]
  },
  {
   "cell_type": "markdown",
   "metadata": {},
   "source": [
    "### cycle5 video names:\n",
    "- missing: Stndg, Wlkg, WlkgCnt, FtnR, Drnkg, Sheets, Fldg\n",
    "- cycle5_MVI_0095   FtnL\n",
    "- cycle5_MVI_0096   RamR\n",
    "- cycle5_MVI_0097   RamL\n",
    "- cycle5_MVI_0098   SitStand\n",
    "- cycle5_MVI_0100   Drwg\n",
    "- cycle5_MVI_0101   Typg\n",
    "- cycle5_MVI_0102   NtsBts\n",
    "- cycle5_MVI_0106   Sitng"
   ]
  },
  {
   "cell_type": "markdown",
   "metadata": {},
   "source": [
    "# 1050 - cycle 1-6\n",
    "- note: There is NO cycle 1 video\n",
    "- Cycle6 is split into 2 parts, so used modified functions to annotate and clip videos\n",
    "- Part1 activities: standing - Nuts and Bolts (part 1)\n",
    "- Part2 activities: Nuts and Bolts (part 2) - sitting\n",
    "- cycle 6 part 1 can be considered as cycle 6 in annotated file\n",
    "- cycle 6 part 2 can be considered as cycle 7 in annotated file\n",
    "- Nuts and Bolts activity have a clip in cycle 6 for part 1 and part 2 separated"
   ]
  },
  {
   "cell_type": "code",
   "execution_count": 54,
   "metadata": {},
   "outputs": [
    {
     "name": "stdout",
     "output_type": "stream",
     "text": [
      "cisuabn14\n"
     ]
    }
   ],
   "source": [
    "# get subject id from dictionary\n",
    "id = id_dict.get(1050, 'Unknown')\n",
    "print(id)"
   ]
  },
  {
   "cell_type": "code",
   "execution_count": 63,
   "metadata": {},
   "outputs": [],
   "source": [
    "def clip_fullvideo_1050(df, subj_path):\n",
    "    \"\"\"Takes video with activity set for subject 1050 and clips them into separate activities.\n",
    "    Args: df = dataframe that has the timestamps for start and stop in sec\n",
    "          video_name = full video name with complete activity set (ie. cisuabd4_cycle1)\n",
    "    \"\"\"\n",
    "    # convert to column from int to str type to use for video names\n",
    "    df['cycle'] = df['cycle'].apply(str)\n",
    "    \n",
    "    # Loop through and clip each activity to corresponding cycle video\n",
    "    for i in range(len(df)):\n",
    "        cycleindex = df['cycle'][i]\n",
    "        \n",
    "        # specify condition to split video name for cycle 6 into part 1 and 2\n",
    "        if cycleindex == '6':\n",
    "            video_name = id + '_cycle' + '6_part1' + '.mp4'\n",
    "        elif cycleindex == '7':\n",
    "            video_name = id + '_cycle' + '6_part2' + '.mp4'\n",
    "        else:\n",
    "            video_name = id + '_cycle' + cycleindex + '.mp4' # omit since there's an arg?\n",
    "        video_full = os.path.join(subj_path, video_name)\n",
    "        t1 = df['start time sec'][i]\n",
    "        t2 = df['stop time sec'][i]\n",
    "        activity = df['shortname'][i]\n",
    "        \n",
    "        # specify condition to split cycle 6 into part 1 and 2 folders\n",
    "        if cycleindex == '6':\n",
    "            path_for_target = subj_path + '\\cycle' + '6_part1' + '\\\\'\n",
    "        elif cycleindex == '7':\n",
    "            path_for_target = subj_path + '\\cycle' + '6_part2' + '\\\\'\n",
    "        else:\n",
    "            path_for_target = subj_path + '\\cycle' + cycleindex + '\\\\'\n",
    "        targetname = path_for_target + activity + '.mp4'\n",
    "\n",
    "        # clip activity video\n",
    "        ffmpeg_extract_subclip(video_full, t1, t2, targetname=targetname)"
   ]
  },
  {
   "cell_type": "code",
   "execution_count": 59,
   "metadata": {},
   "outputs": [],
   "source": [
    "def convert_frame_to_sec_1050(df, subj_path, cycle_num=6):\n",
    "    \"\"\"Function takes dataframe converts frames column to seconds to be used later to clip video.\"\"\"\n",
    "    # Example call: convert_frame_to_sec(os.path.join(path, '1030annotated.csv'))\n",
    "\n",
    "    # add column of activity abbreviated name\n",
    "    # Note: omitted 'Shaking' activity\n",
    "    activity = ('Stndg', 'Wlkg', 'WlkgCnt', 'FtnR', 'FtnL', 'RamR', 'RamL', 'SitStand', \n",
    "                  'Drwg', 'Typg', 'NtsBts', 'Drnkg', 'Sheets', 'Fldg', 'Sitng')\n",
    "    activity6part1 = ('Stndg', 'Wlkg', 'WlkgCnt', 'FtnR', 'FtnL', 'RamR', 'RamL', 'SitStand', \n",
    "                  'Drwg', 'Typg', 'NtsBts')\n",
    "    activity6part2 = ('NtsBts', 'Drnkg', 'Sheets', 'Fldg', 'Sitng')\n",
    "    df['shortname'] = np.array(activity*4 + activity6part1 + activity6part2)\n",
    "    \n",
    "    # convert frames to sec\n",
    "    df['start time sec'] = df['start frame'].apply(frame_to_sec)\n",
    "    df['stop time sec'] = df['stop frame'].apply(frame_to_sec)\n",
    "    \n",
    "    # save updated file\n",
    "    fname = 'sec_annotation.csv'\n",
    "    filename = os.path.join(subj_path, fname)\n",
    "    with open(filename,'wb') as f:\n",
    "        df.to_csv(filename, sep=',')\n",
    "        \n",
    "    return df"
   ]
  },
  {
   "cell_type": "code",
   "execution_count": 65,
   "metadata": {},
   "outputs": [],
   "source": [
    "def convert_and_clip_1050(id, id_dict=id_dict):\n",
    "    \"\"\"Input 4 digit id, then it will execute all functions to clips videos.\n",
    "    Note: Need to specify id before calling function.\n",
    "    \"\"\"\n",
    "    # get subject id\n",
    "    id = id_dict.get(id, 'Unknown')\n",
    "    file = 'raw_annotation.csv'\n",
    "    path = r'X:\\CIS-PD Videos'\n",
    "    subj_path = os.path.join(path,id)\n",
    "    df = dataclean(file, subj_path, id)\n",
    "    df = df.reset_index(drop=True)\n",
    "\n",
    "    # convert frame to seconds to clip video\n",
    "    df = convert_frame_to_sec_1050(df, subj_path)\n",
    "    \n",
    "    # clip video by activity\n",
    "    clip_fullvideo_1050(df, subj_path)\n",
    "    \n",
    "    return df"
   ]
  },
  {
   "cell_type": "code",
   "execution_count": null,
   "metadata": {},
   "outputs": [],
   "source": [
    "# convert frames to sec to prepare for clipping videos\n",
    "df = convert_and_clip_1050(1050)"
   ]
  },
  {
   "cell_type": "markdown",
   "metadata": {},
   "source": [
    "# Create sec_annotation.csv for cisnwh8 from existing file\n",
    "- videos were already clipped into each cycle\n",
    "- annotation file in different format, needs to be converted to match rest of subjects"
   ]
  },
  {
   "cell_type": "code",
   "execution_count": 7,
   "metadata": {},
   "outputs": [
    {
     "name": "stdout",
     "output_type": "stream",
     "text": [
      "cisnwh8\n"
     ]
    }
   ],
   "source": [
    "# get subject id from dictionary\n",
    "id = id_dict.get(1030, 'Unknown')\n",
    "print(id)"
   ]
  },
  {
   "cell_type": "code",
   "execution_count": 33,
   "metadata": {},
   "outputs": [],
   "source": [
    "# read in file\n",
    "path = r'X:\\CIS-PD Videos\\cisnwh8'\n",
    "filename = os.path.join(path, '1030_time_in_sec.csv') # ie. file = 'videoID.csv'\n",
    "temp = pd.read_csv(filename)\n"
   ]
  },
  {
   "cell_type": "code",
   "execution_count": 34,
   "metadata": {},
   "outputs": [],
   "source": [
    "# make changes to create sec_annotation.csv file consistent with other subjects\n",
    "\n",
    "# remove columns\n",
    "temp = temp.drop(columns=['Unnamed: 0', 'subject code'])\n",
    "# change column names\n",
    "temp = temp.rename(index=str, columns={'start time min':'start time sec', 'stop time min':'stop time sec',\n",
    "                                      'start time':'start frame', 'stop time':'stop frame'})\n",
    "# add 'subject code' column with value set to id\n",
    "temp['subject code']=id\n",
    "# change column order\n",
    "temp = temp[['subject code','start frame','stop frame','activity','cycle','shortname','start time sec','stop time sec']]"
   ]
  },
  {
   "cell_type": "code",
   "execution_count": 48,
   "metadata": {},
   "outputs": [],
   "source": [
    "# save updated file\n",
    "path = r'X:\\CIS-PD Videos'\n",
    "subj_path = os.path.join(path,id)\n",
    "fname = 'sec_annotation.csv'\n",
    "filename = os.path.join(subj_path, fname)\n",
    "with open(filename,'wb') as f:\n",
    "    temp.to_csv(filename, sep=',')"
   ]
  }
 ],
 "metadata": {
  "kernelspec": {
   "display_name": "Python 3",
   "language": "python",
   "name": "python3"
  },
  "language_info": {
   "codemirror_mode": {
    "name": "ipython",
    "version": 3
   },
   "file_extension": ".py",
   "mimetype": "text/x-python",
   "name": "python",
   "nbconvert_exporter": "python",
   "pygments_lexer": "ipython3",
   "version": "3.6.5"
  }
 },
 "nbformat": 4,
 "nbformat_minor": 2
}

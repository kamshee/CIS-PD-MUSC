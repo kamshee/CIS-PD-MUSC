{
 "cells": [
  {
   "cell_type": "markdown",
   "metadata": {},
   "source": [
    "# CIS-PD Form Data\n",
    "\n",
    "Use datadictionary and codelist to convert the scores on each form. Save each file in a pickle format."
   ]
  },
  {
   "cell_type": "code",
   "execution_count": 130,
   "metadata": {},
   "outputs": [],
   "source": [
    "import os\n",
    "import platform\n",
    "import pandas as pd\n",
    "import pickle #to save files\n",
    "import re\n",
    "import h5py #save hdf5\n",
    "import numpy as np"
   ]
  },
  {
   "cell_type": "markdown",
   "metadata": {},
   "source": [
    "## Clean up data dictionary and codelist"
   ]
  },
  {
   "cell_type": "code",
   "execution_count": 57,
   "metadata": {},
   "outputs": [],
   "source": [
    "dd = pd.read_sas('Y:\\CIS-PD MUSC\\datadictionary.sas7bdat')\n",
    "dd.columns = dd.columns.str.replace('z', '')\n",
    "del dd['CRFNb']\n",
    "del dd['FieldNm']\n",
    "del dd['SASNm']\n",
    "del dd['SASLabel']\n",
    "del dd['FieldTypeNm']\n",
    "del dd['Length']\n",
    "del dd['Unit']\n",
    "del dd['Required']\n",
    "dd = dd.dropna()\n",
    "dd = dd.applymap(lambda x: x.decode() if isinstance(x, bytes) else x)"
   ]
  },
  {
   "cell_type": "code",
   "execution_count": 58,
   "metadata": {},
   "outputs": [],
   "source": [
    "codelist = pd.read_sas('Y:\\CIS-PD MUSC\\codelist.sas7bdat')\n",
    "codelist.columns = codelist.columns.str.replace('z', '')\n",
    "codelist = codelist.rename(columns={'GroupID': 'CodeGroup'})\n",
    "codelist = codelist.applymap(lambda x: x.decode() if isinstance(x, bytes) else x)"
   ]
  },
  {
   "cell_type": "code",
   "execution_count": 60,
   "metadata": {},
   "outputs": [],
   "source": [
    "# Merge data dictionary and codelist\n",
    "result = dd.merge(codelist, left_on='CodeGroup', right_on='CodeGroup', how='left')\n",
    "result.FieldNb = result.FieldNb.str.replace('z', '')\n",
    "#print(result.head(5))\n",
    "#print(result[(result.FormID == 240.0)].head(2))"
   ]
  },
  {
   "cell_type": "markdown",
   "metadata": {},
   "source": [
    "## path loop to load form files"
   ]
  },
  {
   "cell_type": "code",
   "execution_count": null,
   "metadata": {},
   "outputs": [],
   "source": [
    "path = r'Y:\\CIS-PD MUSC'\n",
    "for files in os.walk(path, topdown=True):\n",
    "        for filenames in files:\n",
    "            if filenames.startswith('form') & not filenames.endswith('ats.sas7bdcat'):\n",
    "                p = pathlib.Path(os.path.join(root, filenames))\n",
    "                location = str(p.relative_to(path)).split(\"\\\\\")[0]\n",
    "                temp_df = pd.read_csv(p).set_index('Timestamp (ms)')\n",
    "                form[location] = form[location].append(temp_df)\n",
    "                print(form[location])\n"
   ]
  },
  {
   "cell_type": "code",
   "execution_count": 51,
   "metadata": {},
   "outputs": [],
   "source": [
    "temp = pd.read_sas('Y:\\CIS-PD MUSC\\\\form101.sas7bdat')"
   ]
  },
  {
   "cell_type": "code",
   "execution_count": 52,
   "metadata": {},
   "outputs": [
    {
     "data": {
      "text/html": [
       "<div>\n",
       "<style scoped>\n",
       "    .dataframe tbody tr th:only-of-type {\n",
       "        vertical-align: middle;\n",
       "    }\n",
       "\n",
       "    .dataframe tbody tr th {\n",
       "        vertical-align: top;\n",
       "    }\n",
       "\n",
       "    .dataframe thead th {\n",
       "        text-align: right;\n",
       "    }\n",
       "</style>\n",
       "<table border=\"1\" class=\"dataframe\">\n",
       "  <thead>\n",
       "    <tr style=\"text-align: right;\">\n",
       "      <th></th>\n",
       "      <th>zSubjectCode</th>\n",
       "      <th>SiteID</th>\n",
       "      <th>zVisitNm</th>\n",
       "      <th>F101Q11</th>\n",
       "      <th>F101Q12</th>\n",
       "      <th>F101zConsentDate</th>\n",
       "      <th>F101zAge</th>\n",
       "      <th>F101Q03</th>\n",
       "      <th>F101Q04</th>\n",
       "      <th>F101Q05</th>\n",
       "      <th>F101Q06</th>\n",
       "      <th>F101Q07</th>\n",
       "      <th>F101Q08</th>\n",
       "      <th>F101Q09</th>\n",
       "      <th>F101Q10</th>\n",
       "    </tr>\n",
       "  </thead>\n",
       "  <tbody>\n",
       "    <tr>\n",
       "      <th>0</th>\n",
       "      <td>1000.0</td>\n",
       "      <td>1313.0</td>\n",
       "      <td>b'Baseline'</td>\n",
       "      <td>b'A1784'</td>\n",
       "      <td>b'10.3.2'</td>\n",
       "      <td>2017-06-15</td>\n",
       "      <td>63.0</td>\n",
       "      <td>1.0</td>\n",
       "      <td>1.0</td>\n",
       "      <td>1.0</td>\n",
       "      <td>1.0</td>\n",
       "      <td>1.0</td>\n",
       "      <td>1.0</td>\n",
       "      <td>0.0</td>\n",
       "      <td>0.0</td>\n",
       "    </tr>\n",
       "    <tr>\n",
       "      <th>1</th>\n",
       "      <td>1001.0</td>\n",
       "      <td>1313.0</td>\n",
       "      <td>b'Baseline'</td>\n",
       "      <td>b'A1778'</td>\n",
       "      <td>b'10.3.2'</td>\n",
       "      <td>2017-06-15</td>\n",
       "      <td>64.0</td>\n",
       "      <td>0.0</td>\n",
       "      <td>1.0</td>\n",
       "      <td>1.0</td>\n",
       "      <td>1.0</td>\n",
       "      <td>1.0</td>\n",
       "      <td>1.0</td>\n",
       "      <td>0.0</td>\n",
       "      <td>0.0</td>\n",
       "    </tr>\n",
       "  </tbody>\n",
       "</table>\n",
       "</div>"
      ],
      "text/plain": [
       "   zSubjectCode  SiteID     zVisitNm   F101Q11    F101Q12 F101zConsentDate  \\\n",
       "0        1000.0  1313.0  b'Baseline'  b'A1784'  b'10.3.2'       2017-06-15   \n",
       "1        1001.0  1313.0  b'Baseline'  b'A1778'  b'10.3.2'       2017-06-15   \n",
       "\n",
       "   F101zAge  F101Q03  F101Q04  F101Q05  F101Q06  F101Q07  F101Q08  F101Q09  \\\n",
       "0      63.0      1.0      1.0      1.0      1.0      1.0      1.0      0.0   \n",
       "1      64.0      0.0      1.0      1.0      1.0      1.0      1.0      0.0   \n",
       "\n",
       "   F101Q10  \n",
       "0      0.0  \n",
       "1      0.0  "
      ]
     },
     "execution_count": 52,
     "metadata": {},
     "output_type": "execute_result"
    }
   ],
   "source": [
    "temp.head(2)"
   ]
  },
  {
   "cell_type": "code",
   "execution_count": 50,
   "metadata": {},
   "outputs": [],
   "source": [
    "path = r'Y:\\CIS-PD MUSC'"
   ]
  },
  {
   "cell_type": "markdown",
   "metadata": {},
   "source": [
    "## Load form files"
   ]
  },
  {
   "cell_type": "code",
   "execution_count": 5,
   "metadata": {},
   "outputs": [],
   "source": [
    "form101 = pd.read_sas('Y:\\CIS-PD MUSC\\\\form101.sas7bdat')\n",
    "form126 = pd.read_sas('Y:\\CIS-PD MUSC\\\\form126.sas7bdat')\n",
    "form238 = pd.read_sas('Y:\\CIS-PD MUSC\\\\form238.sas7bdat')\n",
    "form239 = pd.read_sas('Y:\\CIS-PD MUSC\\\\form239.sas7bdat')\n",
    "form240 = pd.read_sas('Y:\\CIS-PD MUSC\\\\form240.sas7bdat')\n",
    "form241 = pd.read_sas('Y:\\CIS-PD MUSC\\\\form241.sas7bdat')\n",
    "form242 = pd.read_sas('Y:\\CIS-PD MUSC\\\\form242.sas7bdat')\n",
    "form243 = pd.read_sas('Y:\\CIS-PD MUSC\\\\form243.sas7bdat')\n",
    "form501 = pd.read_sas('Y:\\CIS-PD MUSC\\\\form501.sas7bdat')\n",
    "form502 = pd.read_sas('Y:\\CIS-PD MUSC\\\\form502.sas7bdat')\n",
    "form503 = pd.read_sas('Y:\\CIS-PD MUSC\\\\form503.sas7bdat')\n",
    "form504 = pd.read_sas('Y:\\CIS-PD MUSC\\\\form504.sas7bdat')\n",
    "form505 = pd.read_sas('Y:\\CIS-PD MUSC\\\\form505.sas7bdat')\n",
    "form506 = pd.read_sas('Y:\\CIS-PD MUSC\\\\form506.sas7bdat')\n",
    "form508 = pd.read_sas('Y:\\CIS-PD MUSC\\\\form508.sas7bdat')\n",
    "form509 = pd.read_sas('Y:\\CIS-PD MUSC\\\\form509.sas7bdat')\n",
    "form510 = pd.read_sas('Y:\\CIS-PD MUSC\\\\form510.sas7bdat')\n",
    "form515 = pd.read_sas('Y:\\CIS-PD MUSC\\\\form515.sas7bdat')\n",
    "form518 = pd.read_sas('Y:\\CIS-PD MUSC\\\\form518.sas7bdat')"
   ]
  },
  {
   "cell_type": "code",
   "execution_count": 61,
   "metadata": {},
   "outputs": [],
   "source": [
    "formlist = list('form101') #= list(['form101','form126','form238','form239','form240','form241','form242','form243',\n",
    "#               'form501','form502','form503','form504','form505','form506','form508','form509',\n",
    "#               'form510','form515','form518'])"
   ]
  },
  {
   "cell_type": "code",
   "execution_count": 210,
   "metadata": {},
   "outputs": [
    {
     "name": "stdout",
     "output_type": "stream",
     "text": [
      "   FormID FieldNb  CodeGroup  ItemNb ItemNm\n",
      "0   101.0     Q03       51.0     0.0     No\n",
      "1   101.0     Q03       51.0     1.0    Yes\n"
     ]
    }
   ],
   "source": [
    "test = result[(result.FormID == 101.0)]\n",
    "print(test.head(2))"
   ]
  },
  {
   "cell_type": "markdown",
   "metadata": {},
   "source": [
    "## Transform form101 (automated)"
   ]
  },
  {
   "cell_type": "markdown",
   "metadata": {},
   "source": [
    "### Need to take 'result' df (using 'test' df to test)\n",
    "In form, match test:FieldNb (question#) to form:column name\n",
    "Change form value using key as test:ItemNb and replace with ItemNm value"
   ]
  },
  {
   "cell_type": "code",
   "execution_count": 211,
   "metadata": {},
   "outputs": [],
   "source": [
    "form = pd.read_sas('Y:\\CIS-PD MUSC\\\\form101.sas7bdat')\n",
    "form.columns = form.columns.str.replace('z|F101', '')"
   ]
  },
  {
   "cell_type": "code",
   "execution_count": null,
   "metadata": {},
   "outputs": [],
   "source": [
    "formlist = list(['form101'])\n",
    "## work on coding this\n",
    "For loop on formlist\n",
    "for x in formlist:\n",
    "    if \n",
    "FormID #form101 using 'test' df\n",
    "select FormID\n",
    "for each test.FieldNb #Q03, this is a column name\n",
    "    replace ItemNb with ItemNm #0.0 with 'No'\n"
   ]
  },
  {
   "cell_type": "code",
   "execution_count": 212,
   "metadata": {},
   "outputs": [
    {
     "name": "stdout",
     "output_type": "stream",
     "text": [
      "   SubjectCode  SiteID      VisitNm       Q11        Q12 ConsentDate   Age  \\\n",
      "0       1000.0  1313.0  b'Baseline'  b'A1784'  b'10.3.2'  2017-06-15  63.0   \n",
      "1       1001.0  1313.0  b'Baseline'  b'A1778'  b'10.3.2'  2017-06-15  64.0   \n",
      "\n",
      "   Q03  Q04  Q05  Q06  Q07  Q08  Q09  Q10  \n",
      "0  1.0  1.0  1.0  1.0  1.0  1.0  0.0  0.0  \n",
      "1  0.0  1.0  1.0  1.0  1.0  1.0  0.0  0.0  \n"
     ]
    }
   ],
   "source": [
    "print(form.head(2))"
   ]
  },
  {
   "cell_type": "code",
   "execution_count": null,
   "metadata": {},
   "outputs": [],
   "source": []
  },
  {
   "cell_type": "code",
   "execution_count": null,
   "metadata": {},
   "outputs": [],
   "source": []
  },
  {
   "cell_type": "code",
   "execution_count": null,
   "metadata": {},
   "outputs": [],
   "source": []
  },
  {
   "cell_type": "code",
   "execution_count": null,
   "metadata": {},
   "outputs": [],
   "source": []
  },
  {
   "cell_type": "code",
   "execution_count": null,
   "metadata": {},
   "outputs": [],
   "source": []
  },
  {
   "cell_type": "code",
   "execution_count": null,
   "metadata": {},
   "outputs": [],
   "source": [
    "remove 'z' from result.FieldNb values"
   ]
  },
  {
   "cell_type": "markdown",
   "metadata": {},
   "source": [
    "Use Data Dictionary to match zFormID to corresponding form file\n",
    "Match question from Data Dictionary: zFieldNb to form column name\n",
    "Match DataDictionary: zCodeGroup to Codelist: zGroupID\n",
    "Replace answer value to each question in Form with Codelist: zItemNm"
   ]
  },
  {
   "cell_type": "markdown",
   "metadata": {},
   "source": [
    "## Transform form101 (manually)"
   ]
  },
  {
   "cell_type": "code",
   "execution_count": 34,
   "metadata": {},
   "outputs": [],
   "source": [
    "form101 = pd.read_sas('Y:\\CIS-PD MUSC\\\\form101.sas7bdat')\n",
    "form101.columns = form101.columns.str.replace('z|F101', '')"
   ]
  },
  {
   "cell_type": "code",
   "execution_count": 6,
   "metadata": {},
   "outputs": [],
   "source": [
    "# Clean up column names and convert bytes data\n",
    "form101 = pd.read_sas('Y:\\CIS-PD MUSC\\\\form101.sas7bdat')\n",
    "form101.columns = form101.columns.str.replace('z|F101', '')\n",
    "# Form101 uses code 51 (DataDictionary zCodeGroup). 0.0=No, 1.0=Yes\n",
    "form101['Q03'] = form101['Q03'].map({0.0:'no', 1.0:'yes'})\n",
    "form101['Q04'] = form101['Q04'].map({0.0:'no', 1.0:'yes'})\n",
    "form101['Q05'] = form101['Q05'].map({0.0:'no', 1.0:'yes'})\n",
    "form101['Q06'] = form101['Q06'].map({0.0:'no', 1.0:'yes'})\n",
    "form101['Q07'] = form101['Q07'].map({0.0:'no', 1.0:'yes'})\n",
    "form101['Q08'] = form101['Q08'].map({0.0:'no', 1.0:'yes'})\n",
    "form101['Q09'] = form101['Q09'].map({0.0:'no', 1.0:'yes'})\n",
    "form101['Q10'] = form101['Q10'].map({0.0:'no', 1.0:'yes'})\n",
    "form101 = form101.applymap(lambda x: x.decode() if isinstance(x, bytes) else x)"
   ]
  },
  {
   "cell_type": "code",
   "execution_count": 12,
   "metadata": {},
   "outputs": [
    {
     "data": {
      "text/html": [
       "<div>\n",
       "<style scoped>\n",
       "    .dataframe tbody tr th:only-of-type {\n",
       "        vertical-align: middle;\n",
       "    }\n",
       "\n",
       "    .dataframe tbody tr th {\n",
       "        vertical-align: top;\n",
       "    }\n",
       "\n",
       "    .dataframe thead th {\n",
       "        text-align: right;\n",
       "    }\n",
       "</style>\n",
       "<table border=\"1\" class=\"dataframe\">\n",
       "  <thead>\n",
       "    <tr style=\"text-align: right;\">\n",
       "      <th></th>\n",
       "      <th>SubjectCode</th>\n",
       "      <th>SiteID</th>\n",
       "      <th>VisitNm</th>\n",
       "      <th>Q11</th>\n",
       "      <th>Q12</th>\n",
       "      <th>ConsentDate</th>\n",
       "      <th>Age</th>\n",
       "      <th>Q03</th>\n",
       "      <th>Q04</th>\n",
       "      <th>Q05</th>\n",
       "      <th>Q06</th>\n",
       "      <th>Q07</th>\n",
       "      <th>Q08</th>\n",
       "      <th>Q09</th>\n",
       "      <th>Q10</th>\n",
       "    </tr>\n",
       "  </thead>\n",
       "  <tbody>\n",
       "    <tr>\n",
       "      <th>0</th>\n",
       "      <td>1000.0</td>\n",
       "      <td>1313.0</td>\n",
       "      <td>Baseline</td>\n",
       "      <td>A1784</td>\n",
       "      <td>10.3.2</td>\n",
       "      <td>2017-06-15</td>\n",
       "      <td>63.0</td>\n",
       "      <td>yes</td>\n",
       "      <td>yes</td>\n",
       "      <td>yes</td>\n",
       "      <td>yes</td>\n",
       "      <td>yes</td>\n",
       "      <td>yes</td>\n",
       "      <td>no</td>\n",
       "      <td>no</td>\n",
       "    </tr>\n",
       "    <tr>\n",
       "      <th>1</th>\n",
       "      <td>1001.0</td>\n",
       "      <td>1313.0</td>\n",
       "      <td>Baseline</td>\n",
       "      <td>A1778</td>\n",
       "      <td>10.3.2</td>\n",
       "      <td>2017-06-15</td>\n",
       "      <td>64.0</td>\n",
       "      <td>no</td>\n",
       "      <td>yes</td>\n",
       "      <td>yes</td>\n",
       "      <td>yes</td>\n",
       "      <td>yes</td>\n",
       "      <td>yes</td>\n",
       "      <td>no</td>\n",
       "      <td>no</td>\n",
       "    </tr>\n",
       "    <tr>\n",
       "      <th>2</th>\n",
       "      <td>1002.0</td>\n",
       "      <td>1313.0</td>\n",
       "      <td>Baseline</td>\n",
       "      <td>A1586</td>\n",
       "      <td>10.3.2</td>\n",
       "      <td>2017-06-16</td>\n",
       "      <td>51.0</td>\n",
       "      <td>no</td>\n",
       "      <td>yes</td>\n",
       "      <td>yes</td>\n",
       "      <td>yes</td>\n",
       "      <td>yes</td>\n",
       "      <td>yes</td>\n",
       "      <td>no</td>\n",
       "      <td>no</td>\n",
       "    </tr>\n",
       "    <tr>\n",
       "      <th>3</th>\n",
       "      <td>1003.0</td>\n",
       "      <td>1313.0</td>\n",
       "      <td>Baseline</td>\n",
       "      <td>A1522</td>\n",
       "      <td>10.3.2</td>\n",
       "      <td>2017-06-19</td>\n",
       "      <td>60.0</td>\n",
       "      <td>yes</td>\n",
       "      <td>yes</td>\n",
       "      <td>yes</td>\n",
       "      <td>yes</td>\n",
       "      <td>yes</td>\n",
       "      <td>yes</td>\n",
       "      <td>no</td>\n",
       "      <td>no</td>\n",
       "    </tr>\n",
       "    <tr>\n",
       "      <th>4</th>\n",
       "      <td>1004.0</td>\n",
       "      <td>1332.0</td>\n",
       "      <td>Baseline</td>\n",
       "      <td>A1660</td>\n",
       "      <td>10.3.2</td>\n",
       "      <td>2017-06-21</td>\n",
       "      <td>52.0</td>\n",
       "      <td>yes</td>\n",
       "      <td>yes</td>\n",
       "      <td>yes</td>\n",
       "      <td>yes</td>\n",
       "      <td>yes</td>\n",
       "      <td>yes</td>\n",
       "      <td>no</td>\n",
       "      <td>no</td>\n",
       "    </tr>\n",
       "  </tbody>\n",
       "</table>\n",
       "</div>"
      ],
      "text/plain": [
       "   SubjectCode  SiteID   VisitNm    Q11     Q12 ConsentDate   Age  Q03  Q04  \\\n",
       "0       1000.0  1313.0  Baseline  A1784  10.3.2  2017-06-15  63.0  yes  yes   \n",
       "1       1001.0  1313.0  Baseline  A1778  10.3.2  2017-06-15  64.0   no  yes   \n",
       "2       1002.0  1313.0  Baseline  A1586  10.3.2  2017-06-16  51.0   no  yes   \n",
       "3       1003.0  1313.0  Baseline  A1522  10.3.2  2017-06-19  60.0  yes  yes   \n",
       "4       1004.0  1332.0  Baseline  A1660  10.3.2  2017-06-21  52.0  yes  yes   \n",
       "\n",
       "   Q05  Q06  Q07  Q08 Q09 Q10  \n",
       "0  yes  yes  yes  yes  no  no  \n",
       "1  yes  yes  yes  yes  no  no  \n",
       "2  yes  yes  yes  yes  no  no  \n",
       "3  yes  yes  yes  yes  no  no  \n",
       "4  yes  yes  yes  yes  no  no  "
      ]
     },
     "execution_count": 12,
     "metadata": {},
     "output_type": "execute_result"
    }
   ],
   "source": [
    "form101.head(5)"
   ]
  },
  {
   "cell_type": "code",
   "execution_count": null,
   "metadata": {},
   "outputs": [],
   "source": []
  },
  {
   "cell_type": "code",
   "execution_count": null,
   "metadata": {},
   "outputs": [],
   "source": []
  },
  {
   "cell_type": "markdown",
   "metadata": {},
   "source": [
    "## Change code to value function"
   ]
  },
  {
   "cell_type": "code",
   "execution_count": 77,
   "metadata": {},
   "outputs": [],
   "source": [
    "test101 = pd.read_sas('Y:\\CIS-PD MUSC\\\\form101.sas7bdat')\n",
    "test101.columns = test101.columns.str.replace('z|F101', '')"
   ]
  },
  {
   "cell_type": "code",
   "execution_count": 79,
   "metadata": {},
   "outputs": [],
   "source": [
    "#use result\n",
    "\n",
    "def CodetoValue(FormNb, FormSeries, QNm):\n",
    "    resultFilt = result[(result.FormID == FormNb) & (result.FieldNb == QNm)]\n",
    "    return np.vstack([resultFilt[resultFilt['ItemNb']==INb]['ItemNm'].values for INb in FormSeries])\n",
    "    \n",
    " "
   ]
  },
  {
   "cell_type": "code",
   "execution_count": null,
   "metadata": {},
   "outputs": [],
   "source": [
    "formlist = list('form101') #= list(['form101','form126','form238','form239','form240','form241','form242','form243',\n",
    "#               'form501','form502','form503','form504','form505','form506','form508','form509',\n",
    "#               'form510','form515','form518'])"
   ]
  },
  {
   "cell_type": "code",
   "execution_count": 131,
   "metadata": {},
   "outputs": [
    {
     "ename": "SyntaxError",
     "evalue": "invalid syntax (<ipython-input-131-e2340510acf0>, line 12)",
     "output_type": "error",
     "traceback": [
      "\u001b[1;36m  File \u001b[1;32m\"<ipython-input-131-e2340510acf0>\"\u001b[1;36m, line \u001b[1;32m12\u001b[0m\n\u001b[1;33m    c = ## get colnames\u001b[0m\n\u001b[1;37m                       ^\u001b[0m\n\u001b[1;31mSyntaxError\u001b[0m\u001b[1;31m:\u001b[0m invalid syntax\n"
     ]
    }
   ],
   "source": [
    "#example\n",
    "FormNb, FormSeries, QNm\n",
    "101.0, test101['Q03'],'Q03'\n",
    "\n",
    "\n",
    "\n",
    "for f in formlist:\n",
    "    temp = pd.read_sas(os.path.join(path,f + '.sas7bdat'))\n",
    "    temp.columns = temp.columns.str.replace('z|F101', '')\n",
    "    temp = temp.filter(regex='Q|DataCollected')\n",
    "    temp = temp.select_dtypes(include=['float64'])\n",
    "    c = ## get colnames\n",
    "    \n",
    "    for c in list(temp):\n",
    "\n",
    "        #FormSeries = CodetoValue(101.0, test101['Q03'],'Q03').shape\n",
    "        FormSeries = CodetoValue(101.0, f[c], c).shape   \n",
    "        \n",
    "    temp = temp.applymap(lambda x: x.decode() if isinstance(x, bytes) else x)\n",
    "    \n",
    "    ## save file"
   ]
  },
  {
   "cell_type": "code",
   "execution_count": 135,
   "metadata": {},
   "outputs": [],
   "source": [
    "f='form101'\n",
    "path = r'Y:\\CIS-PD MUSC'"
   ]
  },
  {
   "cell_type": "code",
   "execution_count": 137,
   "metadata": {},
   "outputs": [],
   "source": [
    "temp = pd.read_sas(os.path.join(path,f + '.sas7bdat'))"
   ]
  },
  {
   "cell_type": "code",
   "execution_count": 138,
   "metadata": {},
   "outputs": [],
   "source": [
    "temp.columns = temp.columns.str.replace('z|F101', '')"
   ]
  },
  {
   "cell_type": "code",
   "execution_count": 139,
   "metadata": {},
   "outputs": [],
   "source": [
    "temp = temp.filter(regex='Q|DataCollected')\n",
    "temp = temp.select_dtypes(include=['float64'])"
   ]
  },
  {
   "cell_type": "code",
   "execution_count": 142,
   "metadata": {},
   "outputs": [
    {
     "data": {
      "text/html": [
       "<div>\n",
       "<style scoped>\n",
       "    .dataframe tbody tr th:only-of-type {\n",
       "        vertical-align: middle;\n",
       "    }\n",
       "\n",
       "    .dataframe tbody tr th {\n",
       "        vertical-align: top;\n",
       "    }\n",
       "\n",
       "    .dataframe thead th {\n",
       "        text-align: right;\n",
       "    }\n",
       "</style>\n",
       "<table border=\"1\" class=\"dataframe\">\n",
       "  <thead>\n",
       "    <tr style=\"text-align: right;\">\n",
       "      <th></th>\n",
       "      <th>Q03</th>\n",
       "      <th>Q04</th>\n",
       "      <th>Q05</th>\n",
       "      <th>Q06</th>\n",
       "      <th>Q07</th>\n",
       "      <th>Q08</th>\n",
       "      <th>Q09</th>\n",
       "      <th>Q10</th>\n",
       "    </tr>\n",
       "  </thead>\n",
       "  <tbody>\n",
       "    <tr>\n",
       "      <th>0</th>\n",
       "      <td>1.0</td>\n",
       "      <td>1.0</td>\n",
       "      <td>1.0</td>\n",
       "      <td>1.0</td>\n",
       "      <td>1.0</td>\n",
       "      <td>1.0</td>\n",
       "      <td>0.0</td>\n",
       "      <td>0.0</td>\n",
       "    </tr>\n",
       "    <tr>\n",
       "      <th>1</th>\n",
       "      <td>0.0</td>\n",
       "      <td>1.0</td>\n",
       "      <td>1.0</td>\n",
       "      <td>1.0</td>\n",
       "      <td>1.0</td>\n",
       "      <td>1.0</td>\n",
       "      <td>0.0</td>\n",
       "      <td>0.0</td>\n",
       "    </tr>\n",
       "  </tbody>\n",
       "</table>\n",
       "</div>"
      ],
      "text/plain": [
       "   Q03  Q04  Q05  Q06  Q07  Q08  Q09  Q10\n",
       "0  1.0  1.0  1.0  1.0  1.0  1.0  0.0  0.0\n",
       "1  0.0  1.0  1.0  1.0  1.0  1.0  0.0  0.0"
      ]
     },
     "execution_count": 142,
     "metadata": {},
     "output_type": "execute_result"
    }
   ],
   "source": [
    "temp.head(2)"
   ]
  },
  {
   "cell_type": "code",
   "execution_count": null,
   "metadata": {},
   "outputs": [],
   "source": [
    "take f, - form and convert to float"
   ]
  },
  {
   "cell_type": "code",
   "execution_count": 141,
   "metadata": {},
   "outputs": [
    {
     "ename": "TypeError",
     "evalue": "string indices must be integers",
     "output_type": "error",
     "traceback": [
      "\u001b[1;31m---------------------------------------------------------------------------\u001b[0m",
      "\u001b[1;31mTypeError\u001b[0m                                 Traceback (most recent call last)",
      "\u001b[1;32m<ipython-input-141-f6ede38750b7>\u001b[0m in \u001b[0;36m<module>\u001b[1;34m()\u001b[0m\n\u001b[0;32m      2\u001b[0m \u001b[1;33m\u001b[0m\u001b[0m\n\u001b[0;32m      3\u001b[0m         \u001b[1;31m#FormSeries = CodetoValue(101.0, test101['Q03'],'Q03').shape\u001b[0m\u001b[1;33m\u001b[0m\u001b[1;33m\u001b[0m\u001b[0m\n\u001b[1;32m----> 4\u001b[1;33m         \u001b[0mFormSeries\u001b[0m \u001b[1;33m=\u001b[0m \u001b[0mCodetoValue\u001b[0m\u001b[1;33m(\u001b[0m\u001b[1;36m101.0\u001b[0m\u001b[1;33m,\u001b[0m \u001b[0mf\u001b[0m\u001b[1;33m[\u001b[0m\u001b[0mc\u001b[0m\u001b[1;33m]\u001b[0m\u001b[1;33m,\u001b[0m \u001b[0mc\u001b[0m\u001b[1;33m)\u001b[0m\u001b[1;33m.\u001b[0m\u001b[0mshape\u001b[0m\u001b[1;33m\u001b[0m\u001b[0m\n\u001b[0m",
      "\u001b[1;31mTypeError\u001b[0m: string indices must be integers"
     ]
    }
   ],
   "source": [
    "for c in list(temp):\n",
    "\n",
    "        #FormSeries = CodetoValue(101.0, test101['Q03'],'Q03').shape\n",
    "        FormSeries = CodetoValue(101.0, temp[c], c).shape"
   ]
  },
  {
   "cell_type": "code",
   "execution_count": 155,
   "metadata": {},
   "outputs": [
    {
     "ename": "AttributeError",
     "evalue": "'str' object has no attribute 'astype'",
     "output_type": "error",
     "traceback": [
      "\u001b[1;31m---------------------------------------------------------------------------\u001b[0m",
      "\u001b[1;31mAttributeError\u001b[0m                            Traceback (most recent call last)",
      "\u001b[1;32m<ipython-input-155-02aff22347ac>\u001b[0m in \u001b[0;36m<module>\u001b[1;34m()\u001b[0m\n\u001b[0;32m      1\u001b[0m \u001b[0mx\u001b[0m\u001b[1;33m=\u001b[0m \u001b[1;34m'form101'\u001b[0m\u001b[1;33m\u001b[0m\u001b[0m\n\u001b[0;32m      2\u001b[0m \u001b[0mx\u001b[0m \u001b[1;33m=\u001b[0m \u001b[0mx\u001b[0m\u001b[1;33m.\u001b[0m\u001b[0mreplace\u001b[0m\u001b[1;33m(\u001b[0m\u001b[1;34m'form'\u001b[0m\u001b[1;33m,\u001b[0m \u001b[1;34m''\u001b[0m\u001b[1;33m)\u001b[0m\u001b[1;33m\u001b[0m\u001b[0m\n\u001b[1;32m----> 3\u001b[1;33m \u001b[0mx\u001b[0m\u001b[1;33m.\u001b[0m\u001b[0mastype\u001b[0m\u001b[1;33m(\u001b[0m\u001b[0mfloat64\u001b[0m\u001b[1;33m)\u001b[0m\u001b[1;33m\u001b[0m\u001b[0m\n\u001b[0m\u001b[0;32m      4\u001b[0m \u001b[0mprint\u001b[0m\u001b[1;33m(\u001b[0m\u001b[0mtype\u001b[0m\u001b[1;33m(\u001b[0m\u001b[0mx\u001b[0m\u001b[1;33m)\u001b[0m\u001b[1;33m)\u001b[0m\u001b[1;33m\u001b[0m\u001b[0m\n\u001b[0;32m      5\u001b[0m \u001b[0mprint\u001b[0m\u001b[1;33m(\u001b[0m\u001b[0mx\u001b[0m\u001b[1;33m)\u001b[0m\u001b[1;33m\u001b[0m\u001b[0m\n",
      "\u001b[1;31mAttributeError\u001b[0m: 'str' object has no attribute 'astype'"
     ]
    }
   ],
   "source": [
    "x= 'form101'\n",
    "x = x.replace('form', '')\n",
    "x.astype(float64)\n",
    "print(type(x))\n",
    "print(x)"
   ]
  },
  {
   "cell_type": "code",
   "execution_count": 151,
   "metadata": {},
   "outputs": [
    {
     "data": {
      "text/plain": [
       "numpy.float64"
      ]
     },
     "execution_count": 151,
     "metadata": {},
     "output_type": "execute_result"
    }
   ],
   "source": [
    "type(test101.loc[0]['Q05'])"
   ]
  },
  {
   "cell_type": "code",
   "execution_count": 145,
   "metadata": {},
   "outputs": [
    {
     "data": {
      "text/plain": [
       "['SubjectCode',\n",
       " 'SiteID',\n",
       " 'VisitNm',\n",
       " 'Q11',\n",
       " 'Q12',\n",
       " 'ConsentDate',\n",
       " 'Age',\n",
       " 'Q03',\n",
       " 'Q04',\n",
       " 'Q05',\n",
       " 'Q06',\n",
       " 'Q07',\n",
       " 'Q08',\n",
       " 'Q09',\n",
       " 'Q10']"
      ]
     },
     "execution_count": 145,
     "metadata": {},
     "output_type": "execute_result"
    }
   ],
   "source": [
    "list(test101)"
   ]
  },
  {
   "cell_type": "code",
   "execution_count": null,
   "metadata": {},
   "outputs": [],
   "source": [
    "form101 = pd.read_sas('Y:\\CIS-PD MUSC\\\\form101.sas7bdat')\n",
    "form101.columns = form101.columns.str.replace('z|F101', '')\n",
    "# Form101 uses code 51 (DataDictionary zCodeGroup). 0.0=No, 1.0=Yes\n",
    "form101['Q03'] = form101['Q03'].map({0.0:'no', 1.0:'yes'})\n",
    "form101['Q04'] = form101['Q04'].map({0.0:'no', 1.0:'yes'})\n",
    "form101['Q05'] = form101['Q05'].map({0.0:'no', 1.0:'yes'})\n",
    "form101['Q06'] = form101['Q06'].map({0.0:'no', 1.0:'yes'})\n",
    "form101['Q07'] = form101['Q07'].map({0.0:'no', 1.0:'yes'})\n",
    "form101['Q08'] = form101['Q08'].map({0.0:'no', 1.0:'yes'})\n",
    "form101['Q09'] = form101['Q09'].map({0.0:'no', 1.0:'yes'})\n",
    "form101['Q10'] = form101['Q10'].map({0.0:'no', 1.0:'yes'})\n",
    "form101 = form101.applymap(lambda x: x.decode() if isinstance(x, bytes) else x)"
   ]
  },
  {
   "cell_type": "code",
   "execution_count": 49,
   "metadata": {},
   "outputs": [
    {
     "data": {
      "text/plain": [
       "(56, 15)"
      ]
     },
     "execution_count": 49,
     "metadata": {},
     "output_type": "execute_result"
    }
   ],
   "source": [
    "form101.shape"
   ]
  },
  {
   "cell_type": "code",
   "execution_count": 83,
   "metadata": {
    "scrolled": true
   },
   "outputs": [],
   "source": [
    "test101['Q03'] = CodetoValue(101.0, test101['Q03'],'Q03')"
   ]
  },
  {
   "cell_type": "code",
   "execution_count": 84,
   "metadata": {},
   "outputs": [
    {
     "data": {
      "text/html": [
       "<div>\n",
       "<style scoped>\n",
       "    .dataframe tbody tr th:only-of-type {\n",
       "        vertical-align: middle;\n",
       "    }\n",
       "\n",
       "    .dataframe tbody tr th {\n",
       "        vertical-align: top;\n",
       "    }\n",
       "\n",
       "    .dataframe thead th {\n",
       "        text-align: right;\n",
       "    }\n",
       "</style>\n",
       "<table border=\"1\" class=\"dataframe\">\n",
       "  <thead>\n",
       "    <tr style=\"text-align: right;\">\n",
       "      <th></th>\n",
       "      <th>SubjectCode</th>\n",
       "      <th>SiteID</th>\n",
       "      <th>VisitNm</th>\n",
       "      <th>Q11</th>\n",
       "      <th>Q12</th>\n",
       "      <th>ConsentDate</th>\n",
       "      <th>Age</th>\n",
       "      <th>Q03</th>\n",
       "      <th>Q04</th>\n",
       "      <th>Q05</th>\n",
       "      <th>Q06</th>\n",
       "      <th>Q07</th>\n",
       "      <th>Q08</th>\n",
       "      <th>Q09</th>\n",
       "      <th>Q10</th>\n",
       "    </tr>\n",
       "  </thead>\n",
       "  <tbody>\n",
       "    <tr>\n",
       "      <th>0</th>\n",
       "      <td>1000.0</td>\n",
       "      <td>1313.0</td>\n",
       "      <td>b'Baseline'</td>\n",
       "      <td>b'A1784'</td>\n",
       "      <td>b'10.3.2'</td>\n",
       "      <td>2017-06-15</td>\n",
       "      <td>63.0</td>\n",
       "      <td>Yes</td>\n",
       "      <td>1.0</td>\n",
       "      <td>1.0</td>\n",
       "      <td>1.0</td>\n",
       "      <td>1.0</td>\n",
       "      <td>1.0</td>\n",
       "      <td>0.0</td>\n",
       "      <td>0.0</td>\n",
       "    </tr>\n",
       "    <tr>\n",
       "      <th>1</th>\n",
       "      <td>1001.0</td>\n",
       "      <td>1313.0</td>\n",
       "      <td>b'Baseline'</td>\n",
       "      <td>b'A1778'</td>\n",
       "      <td>b'10.3.2'</td>\n",
       "      <td>2017-06-15</td>\n",
       "      <td>64.0</td>\n",
       "      <td>No</td>\n",
       "      <td>1.0</td>\n",
       "      <td>1.0</td>\n",
       "      <td>1.0</td>\n",
       "      <td>1.0</td>\n",
       "      <td>1.0</td>\n",
       "      <td>0.0</td>\n",
       "      <td>0.0</td>\n",
       "    </tr>\n",
       "  </tbody>\n",
       "</table>\n",
       "</div>"
      ],
      "text/plain": [
       "   SubjectCode  SiteID      VisitNm       Q11        Q12 ConsentDate   Age  \\\n",
       "0       1000.0  1313.0  b'Baseline'  b'A1784'  b'10.3.2'  2017-06-15  63.0   \n",
       "1       1001.0  1313.0  b'Baseline'  b'A1778'  b'10.3.2'  2017-06-15  64.0   \n",
       "\n",
       "   Q03  Q04  Q05  Q06  Q07  Q08  Q09  Q10  \n",
       "0  Yes  1.0  1.0  1.0  1.0  1.0  0.0  0.0  \n",
       "1   No  1.0  1.0  1.0  1.0  1.0  0.0  0.0  "
      ]
     },
     "execution_count": 84,
     "metadata": {},
     "output_type": "execute_result"
    }
   ],
   "source": [
    "test101.head(2)"
   ]
  },
  {
   "cell_type": "code",
   "execution_count": 106,
   "metadata": {},
   "outputs": [
    {
     "data": {
      "text/plain": [
       "numpy.float64"
      ]
     },
     "execution_count": 106,
     "metadata": {},
     "output_type": "execute_result"
    }
   ],
   "source": [
    "#type(temp['Q11'])\n",
    "type(temp.iloc[0]['Q04'])\n"
   ]
  },
  {
   "cell_type": "code",
   "execution_count": 115,
   "metadata": {},
   "outputs": [],
   "source": [
    "# Filter questions that need to be decoded\n",
    "#test101.filter(regex='Q|DataCollected'))\n",
    "temp = test101.filter(regex='Q|DataCollected')\n",
    "temp = temp.select_dtypes(include=['float64'])"
   ]
  },
  {
   "cell_type": "code",
   "execution_count": 116,
   "metadata": {},
   "outputs": [
    {
     "data": {
      "text/html": [
       "<div>\n",
       "<style scoped>\n",
       "    .dataframe tbody tr th:only-of-type {\n",
       "        vertical-align: middle;\n",
       "    }\n",
       "\n",
       "    .dataframe tbody tr th {\n",
       "        vertical-align: top;\n",
       "    }\n",
       "\n",
       "    .dataframe thead th {\n",
       "        text-align: right;\n",
       "    }\n",
       "</style>\n",
       "<table border=\"1\" class=\"dataframe\">\n",
       "  <thead>\n",
       "    <tr style=\"text-align: right;\">\n",
       "      <th></th>\n",
       "      <th>Q04</th>\n",
       "      <th>Q05</th>\n",
       "      <th>Q06</th>\n",
       "      <th>Q07</th>\n",
       "      <th>Q08</th>\n",
       "      <th>Q09</th>\n",
       "      <th>Q10</th>\n",
       "    </tr>\n",
       "  </thead>\n",
       "  <tbody>\n",
       "    <tr>\n",
       "      <th>0</th>\n",
       "      <td>1.0</td>\n",
       "      <td>1.0</td>\n",
       "      <td>1.0</td>\n",
       "      <td>1.0</td>\n",
       "      <td>1.0</td>\n",
       "      <td>0.0</td>\n",
       "      <td>0.0</td>\n",
       "    </tr>\n",
       "    <tr>\n",
       "      <th>1</th>\n",
       "      <td>1.0</td>\n",
       "      <td>1.0</td>\n",
       "      <td>1.0</td>\n",
       "      <td>1.0</td>\n",
       "      <td>1.0</td>\n",
       "      <td>0.0</td>\n",
       "      <td>0.0</td>\n",
       "    </tr>\n",
       "  </tbody>\n",
       "</table>\n",
       "</div>"
      ],
      "text/plain": [
       "   Q04  Q05  Q06  Q07  Q08  Q09  Q10\n",
       "0  1.0  1.0  1.0  1.0  1.0  0.0  0.0\n",
       "1  1.0  1.0  1.0  1.0  1.0  0.0  0.0"
      ]
     },
     "execution_count": 116,
     "metadata": {},
     "output_type": "execute_result"
    }
   ],
   "source": [
    "temp.head(2)"
   ]
  },
  {
   "cell_type": "code",
   "execution_count": null,
   "metadata": {},
   "outputs": [],
   "source": []
  },
  {
   "cell_type": "code",
   "execution_count": null,
   "metadata": {},
   "outputs": [],
   "source": []
  },
  {
   "cell_type": "code",
   "execution_count": null,
   "metadata": {},
   "outputs": [],
   "source": []
  },
  {
   "cell_type": "code",
   "execution_count": null,
   "metadata": {},
   "outputs": [],
   "source": [
    "function pass the column name FieldNb = column name\n",
    "    key ItemNb: value ItemNm\n",
    "    key:value\n",
    "\n",
    "        \n",
    "Nested dictionary option"
   ]
  },
  {
   "cell_type": "code",
   "execution_count": 24,
   "metadata": {
    "scrolled": true
   },
   "outputs": [
    {
     "name": "stdout",
     "output_type": "stream",
     "text": [
      "   FormID FieldNb  CodeGroup  ItemNb ItemNm\n",
      "0   101.0     Q03       51.0     0.0     No\n",
      "1   101.0     Q03       51.0     1.0    Yes\n",
      "2   101.0     Q04       51.0     0.0     No\n",
      "3   101.0     Q04       51.0     1.0    Yes\n",
      "4   101.0     Q05       51.0     0.0     No\n"
     ]
    }
   ],
   "source": [
    "print(result.head(5))"
   ]
  },
  {
   "cell_type": "markdown",
   "metadata": {},
   "source": [
    "## Transform Form126"
   ]
  },
  {
   "cell_type": "code",
   "execution_count": 14,
   "metadata": {},
   "outputs": [],
   "source": [
    "#form126 = pd.read_sas('Y:\\CIS-PD MUSC\\\\form101.sas7bdat')\n",
    "form126.columns = form126.columns.str.replace('z|F126', '')"
   ]
  },
  {
   "cell_type": "code",
   "execution_count": 15,
   "metadata": {},
   "outputs": [],
   "source": [
    "# Form126 uses code 51 (DataDictionary zCodeGroup). 0.0=No, 1.0=Yes\n",
    "form126['Q01'] = form126['Q01'].map({1.0:'Study completed',\n",
    "                                     3.0:'Lost follow-up',\n",
    "                                     4.0:'Death',\n",
    "                                     9990.0:'Consent withdrawn',\n",
    "                                     9996.0:'Other'})\n",
    "form126['Q05'] = form126['Q05'].map({0.0:'no', 1.0:'yes'})\n",
    "form126['Q10'] = form126['Q10'].map({0.0:'no', 1.0:'yes'})\n",
    "form126['Q11'] = form126['Q11'].map({1.0:'Already enrolled',\n",
    "                                     2.0:'Planning to enroll',\n",
    "                                     3.0:'Does not plan to enroll',\n",
    "                                     9990.0:'Other'})\n",
    "\n",
    "form126 = form126.applymap(lambda x: x.decode() if isinstance(x, bytes) else x)"
   ]
  },
  {
   "cell_type": "code",
   "execution_count": 16,
   "metadata": {},
   "outputs": [
    {
     "data": {
      "text/html": [
       "<div>\n",
       "<style scoped>\n",
       "    .dataframe tbody tr th:only-of-type {\n",
       "        vertical-align: middle;\n",
       "    }\n",
       "\n",
       "    .dataframe tbody tr th {\n",
       "        vertical-align: top;\n",
       "    }\n",
       "\n",
       "    .dataframe thead th {\n",
       "        text-align: right;\n",
       "    }\n",
       "</style>\n",
       "<table border=\"1\" class=\"dataframe\">\n",
       "  <thead>\n",
       "    <tr style=\"text-align: right;\">\n",
       "      <th></th>\n",
       "      <th>SubjectCode</th>\n",
       "      <th>SiteID</th>\n",
       "      <th>VisitNm</th>\n",
       "      <th>Q07</th>\n",
       "      <th>Q08</th>\n",
       "      <th>Q02</th>\n",
       "      <th>Q03</th>\n",
       "      <th>Q06</th>\n",
       "      <th>Q09</th>\n",
       "      <th>Q05</th>\n",
       "      <th>Q10</th>\n",
       "      <th>Q11</th>\n",
       "      <th>Q01</th>\n",
       "      <th>Q11Other</th>\n",
       "      <th>Q01RConsent</th>\n",
       "      <th>Q01Other</th>\n",
       "    </tr>\n",
       "  </thead>\n",
       "  <tbody>\n",
       "    <tr>\n",
       "      <th>0</th>\n",
       "      <td>1000.0</td>\n",
       "      <td>1313.0</td>\n",
       "      <td>End of Study</td>\n",
       "      <td>Amy</td>\n",
       "      <td>Amara</td>\n",
       "      <td>NaT</td>\n",
       "      <td>NaT</td>\n",
       "      <td>NaT</td>\n",
       "      <td>2017-12-11</td>\n",
       "      <td>NaN</td>\n",
       "      <td>NaN</td>\n",
       "      <td>NaN</td>\n",
       "      <td>NaN</td>\n",
       "      <td>NaN</td>\n",
       "      <td>NaN</td>\n",
       "      <td>NaN</td>\n",
       "    </tr>\n",
       "    <tr>\n",
       "      <th>1</th>\n",
       "      <td>1001.0</td>\n",
       "      <td>1313.0</td>\n",
       "      <td>End of Study</td>\n",
       "      <td>Amy</td>\n",
       "      <td>Amara</td>\n",
       "      <td>NaT</td>\n",
       "      <td>NaT</td>\n",
       "      <td>NaT</td>\n",
       "      <td>2017-12-21</td>\n",
       "      <td>NaN</td>\n",
       "      <td>NaN</td>\n",
       "      <td>NaN</td>\n",
       "      <td>NaN</td>\n",
       "      <td>NaN</td>\n",
       "      <td>NaN</td>\n",
       "      <td>NaN</td>\n",
       "    </tr>\n",
       "    <tr>\n",
       "      <th>2</th>\n",
       "      <td>1002.0</td>\n",
       "      <td>1313.0</td>\n",
       "      <td>End of Study</td>\n",
       "      <td>Amy</td>\n",
       "      <td>Amara</td>\n",
       "      <td>NaT</td>\n",
       "      <td>NaT</td>\n",
       "      <td>NaT</td>\n",
       "      <td>2017-08-03</td>\n",
       "      <td>NaN</td>\n",
       "      <td>NaN</td>\n",
       "      <td>NaN</td>\n",
       "      <td>NaN</td>\n",
       "      <td>NaN</td>\n",
       "      <td>NaN</td>\n",
       "      <td>Health emergency</td>\n",
       "    </tr>\n",
       "    <tr>\n",
       "      <th>3</th>\n",
       "      <td>1003.0</td>\n",
       "      <td>1313.0</td>\n",
       "      <td>End of Study</td>\n",
       "      <td>Amy</td>\n",
       "      <td>Amara</td>\n",
       "      <td>NaT</td>\n",
       "      <td>NaT</td>\n",
       "      <td>NaT</td>\n",
       "      <td>2017-08-14</td>\n",
       "      <td>NaN</td>\n",
       "      <td>NaN</td>\n",
       "      <td>NaN</td>\n",
       "      <td>NaN</td>\n",
       "      <td>NaN</td>\n",
       "      <td>NaN</td>\n",
       "      <td>medical complications</td>\n",
       "    </tr>\n",
       "    <tr>\n",
       "      <th>4</th>\n",
       "      <td>1004.0</td>\n",
       "      <td>1332.0</td>\n",
       "      <td>End of Study</td>\n",
       "      <td>Tanya</td>\n",
       "      <td>Simuni</td>\n",
       "      <td>2017-10-09</td>\n",
       "      <td>NaT</td>\n",
       "      <td>NaT</td>\n",
       "      <td>2017-10-09</td>\n",
       "      <td>NaN</td>\n",
       "      <td>NaN</td>\n",
       "      <td>NaN</td>\n",
       "      <td>NaN</td>\n",
       "      <td>NaN</td>\n",
       "      <td>didn't like watch</td>\n",
       "      <td>NaN</td>\n",
       "    </tr>\n",
       "  </tbody>\n",
       "</table>\n",
       "</div>"
      ],
      "text/plain": [
       "   SubjectCode  SiteID       VisitNm    Q07     Q08        Q02 Q03 Q06  \\\n",
       "0       1000.0  1313.0  End of Study    Amy   Amara        NaT NaT NaT   \n",
       "1       1001.0  1313.0  End of Study    Amy   Amara        NaT NaT NaT   \n",
       "2       1002.0  1313.0  End of Study    Amy   Amara        NaT NaT NaT   \n",
       "3       1003.0  1313.0  End of Study    Amy   Amara        NaT NaT NaT   \n",
       "4       1004.0  1332.0  End of Study  Tanya  Simuni 2017-10-09 NaT NaT   \n",
       "\n",
       "         Q09  Q05  Q10  Q11  Q01 Q11Other        Q01RConsent  \\\n",
       "0 2017-12-11  NaN  NaN  NaN  NaN      NaN                NaN   \n",
       "1 2017-12-21  NaN  NaN  NaN  NaN      NaN                NaN   \n",
       "2 2017-08-03  NaN  NaN  NaN  NaN      NaN                NaN   \n",
       "3 2017-08-14  NaN  NaN  NaN  NaN      NaN                NaN   \n",
       "4 2017-10-09  NaN  NaN  NaN  NaN      NaN  didn't like watch   \n",
       "\n",
       "                Q01Other  \n",
       "0                    NaN  \n",
       "1                    NaN  \n",
       "2       Health emergency  \n",
       "3  medical complications  \n",
       "4                    NaN  "
      ]
     },
     "execution_count": 16,
     "metadata": {},
     "output_type": "execute_result"
    }
   ],
   "source": [
    "form126.head(5)"
   ]
  },
  {
   "cell_type": "markdown",
   "metadata": {},
   "source": [
    "## Transform form238"
   ]
  },
  {
   "cell_type": "code",
   "execution_count": 18,
   "metadata": {},
   "outputs": [],
   "source": [
    "form238.columns = form238.columns.str.replace('z|F238', '')\n",
    "form238['DataCollected'] = form238['DataCollected'].map({0.0:'no', 1.0:'yes'})\n",
    "form238['Q01'] = form238['Q01'].map({1.0:'Patient',\n",
    "                                     2.0:'Caregiver',\n",
    "                                     3.0:'Patient and Caregiver in Equal Proportion'})\n",
    "form238['Q08'] = form238['Q08'].map({1.0:'Patient',\n",
    "                                     2.0:'Caregiver',\n",
    "                                     3.0:'Patient and Caregiver in Equal Proportion'})\n",
    "form238['Q29'] = form238['Q29'].map({0.0:'no', 1.0:'yes'})\n",
    "form238['Q30'] = form238['Q30'].map({1.0:'on', 2.0:'off'})\n",
    "form238['Q31'] = form238['Q31'].map({0.0:'no', 1.0:'yes'})\n",
    "form238['Q66'] = form238['Q66'].map({1.0:'no', 2.0:'yes'})\n",
    "form238['Q67'] = form238['Q67'].map({0.0:'no', 1.0:'yes'})\n",
    "form238['Q11'] = form238['Q11'].map({0.0:'Asymptomatic',\n",
    "                                     1.0:'Unilateral involvement only',\n",
    "                                     2.0:'Bilateral involvement without impairment of balance',\n",
    "                                     3.0:'Mild to moderate involvement; some postural instability but physically independent; needs assistance to recover from pull test.',\n",
    "                                     4.0:'Severe disability; still able to walk or stand unassisted',\n",
    "                                     5.0:'Wheelchair bound or bedridden unless aided'})\n",
    "\n",
    "form238 = form238.applymap(lambda x: x.decode() if isinstance(x, bytes) else x)"
   ]
  },
  {
   "cell_type": "code",
   "execution_count": 19,
   "metadata": {},
   "outputs": [
    {
     "data": {
      "text/html": [
       "<div>\n",
       "<style scoped>\n",
       "    .dataframe tbody tr th:only-of-type {\n",
       "        vertical-align: middle;\n",
       "    }\n",
       "\n",
       "    .dataframe tbody tr th {\n",
       "        vertical-align: top;\n",
       "    }\n",
       "\n",
       "    .dataframe thead th {\n",
       "        text-align: right;\n",
       "    }\n",
       "</style>\n",
       "<table border=\"1\" class=\"dataframe\">\n",
       "  <thead>\n",
       "    <tr style=\"text-align: right;\">\n",
       "      <th></th>\n",
       "      <th>SubjectCode</th>\n",
       "      <th>SiteID</th>\n",
       "      <th>VisitNm</th>\n",
       "      <th>FormDate</th>\n",
       "      <th>Q02</th>\n",
       "      <th>Q03</th>\n",
       "      <th>Q04</th>\n",
       "      <th>Q05</th>\n",
       "      <th>Q06</th>\n",
       "      <th>Q07</th>\n",
       "      <th>...</th>\n",
       "      <th>Q74</th>\n",
       "      <th>DataCollected</th>\n",
       "      <th>Q01</th>\n",
       "      <th>Q08</th>\n",
       "      <th>Q29</th>\n",
       "      <th>Q30</th>\n",
       "      <th>Q31</th>\n",
       "      <th>Q66</th>\n",
       "      <th>Q67</th>\n",
       "      <th>Q68</th>\n",
       "    </tr>\n",
       "  </thead>\n",
       "  <tbody>\n",
       "    <tr>\n",
       "      <th>0</th>\n",
       "      <td>1000.0</td>\n",
       "      <td>1313.0</td>\n",
       "      <td>Baseline</td>\n",
       "      <td>2017-06-15</td>\n",
       "      <td>0.0</td>\n",
       "      <td>0.0</td>\n",
       "      <td>0.0</td>\n",
       "      <td>0.0</td>\n",
       "      <td>0.0</td>\n",
       "      <td>0.0</td>\n",
       "      <td>...</td>\n",
       "      <td>1.0</td>\n",
       "      <td>yes</td>\n",
       "      <td>Patient</td>\n",
       "      <td>Patient</td>\n",
       "      <td>yes</td>\n",
       "      <td>on</td>\n",
       "      <td>yes</td>\n",
       "      <td>no</td>\n",
       "      <td>no</td>\n",
       "      <td>2.0</td>\n",
       "    </tr>\n",
       "    <tr>\n",
       "      <th>1</th>\n",
       "      <td>1000.0</td>\n",
       "      <td>1313.0</td>\n",
       "      <td>2 Weeks</td>\n",
       "      <td>2017-06-29</td>\n",
       "      <td>0.0</td>\n",
       "      <td>0.0</td>\n",
       "      <td>0.0</td>\n",
       "      <td>0.0</td>\n",
       "      <td>0.0</td>\n",
       "      <td>0.0</td>\n",
       "      <td>...</td>\n",
       "      <td>1.0</td>\n",
       "      <td>yes</td>\n",
       "      <td>Patient</td>\n",
       "      <td>Patient</td>\n",
       "      <td>yes</td>\n",
       "      <td>on</td>\n",
       "      <td>yes</td>\n",
       "      <td>NaN</td>\n",
       "      <td>NaN</td>\n",
       "      <td>2.0</td>\n",
       "    </tr>\n",
       "    <tr>\n",
       "      <th>2</th>\n",
       "      <td>1000.0</td>\n",
       "      <td>1313.0</td>\n",
       "      <td>1 Month</td>\n",
       "      <td>2017-07-13</td>\n",
       "      <td>0.0</td>\n",
       "      <td>0.0</td>\n",
       "      <td>0.0</td>\n",
       "      <td>0.0</td>\n",
       "      <td>0.0</td>\n",
       "      <td>0.0</td>\n",
       "      <td>...</td>\n",
       "      <td>1.0</td>\n",
       "      <td>yes</td>\n",
       "      <td>Patient</td>\n",
       "      <td>Patient</td>\n",
       "      <td>yes</td>\n",
       "      <td>on</td>\n",
       "      <td>yes</td>\n",
       "      <td>NaN</td>\n",
       "      <td>NaN</td>\n",
       "      <td>2.0</td>\n",
       "    </tr>\n",
       "    <tr>\n",
       "      <th>3</th>\n",
       "      <td>1000.0</td>\n",
       "      <td>1313.0</td>\n",
       "      <td>3 Months</td>\n",
       "      <td>2017-09-21</td>\n",
       "      <td>0.0</td>\n",
       "      <td>0.0</td>\n",
       "      <td>0.0</td>\n",
       "      <td>0.0</td>\n",
       "      <td>0.0</td>\n",
       "      <td>0.0</td>\n",
       "      <td>...</td>\n",
       "      <td>0.0</td>\n",
       "      <td>yes</td>\n",
       "      <td>Patient</td>\n",
       "      <td>Patient</td>\n",
       "      <td>yes</td>\n",
       "      <td>on</td>\n",
       "      <td>yes</td>\n",
       "      <td>no</td>\n",
       "      <td>no</td>\n",
       "      <td>2.0</td>\n",
       "    </tr>\n",
       "    <tr>\n",
       "      <th>4</th>\n",
       "      <td>1000.0</td>\n",
       "      <td>1313.0</td>\n",
       "      <td>6 Months</td>\n",
       "      <td>2017-12-11</td>\n",
       "      <td>0.0</td>\n",
       "      <td>0.0</td>\n",
       "      <td>0.0</td>\n",
       "      <td>0.0</td>\n",
       "      <td>0.0</td>\n",
       "      <td>0.0</td>\n",
       "      <td>...</td>\n",
       "      <td>1.0</td>\n",
       "      <td>yes</td>\n",
       "      <td>Patient</td>\n",
       "      <td>Patient</td>\n",
       "      <td>yes</td>\n",
       "      <td>on</td>\n",
       "      <td>yes</td>\n",
       "      <td>no</td>\n",
       "      <td>no</td>\n",
       "      <td>2.0</td>\n",
       "    </tr>\n",
       "  </tbody>\n",
       "</table>\n",
       "<p>5 rows × 79 columns</p>\n",
       "</div>"
      ],
      "text/plain": [
       "   SubjectCode  SiteID   VisitNm   FormDate  Q02  Q03  Q04  Q05  Q06  Q07  \\\n",
       "0       1000.0  1313.0  Baseline 2017-06-15  0.0  0.0  0.0  0.0  0.0  0.0   \n",
       "1       1000.0  1313.0   2 Weeks 2017-06-29  0.0  0.0  0.0  0.0  0.0  0.0   \n",
       "2       1000.0  1313.0   1 Month 2017-07-13  0.0  0.0  0.0  0.0  0.0  0.0   \n",
       "3       1000.0  1313.0  3 Months 2017-09-21  0.0  0.0  0.0  0.0  0.0  0.0   \n",
       "4       1000.0  1313.0  6 Months 2017-12-11  0.0  0.0  0.0  0.0  0.0  0.0   \n",
       "\n",
       "  ...   Q74  DataCollected      Q01      Q08  Q29  Q30  Q31  Q66  Q67  Q68  \n",
       "0 ...   1.0            yes  Patient  Patient  yes   on  yes   no   no  2.0  \n",
       "1 ...   1.0            yes  Patient  Patient  yes   on  yes  NaN  NaN  2.0  \n",
       "2 ...   1.0            yes  Patient  Patient  yes   on  yes  NaN  NaN  2.0  \n",
       "3 ...   0.0            yes  Patient  Patient  yes   on  yes   no   no  2.0  \n",
       "4 ...   1.0            yes  Patient  Patient  yes   on  yes   no   no  2.0  \n",
       "\n",
       "[5 rows x 79 columns]"
      ]
     },
     "execution_count": 19,
     "metadata": {},
     "output_type": "execute_result"
    }
   ],
   "source": [
    "form238.head(5)"
   ]
  },
  {
   "cell_type": "markdown",
   "metadata": {},
   "source": [
    "## Transform form239"
   ]
  },
  {
   "cell_type": "code",
   "execution_count": null,
   "metadata": {},
   "outputs": [],
   "source": [
    "form239.columns = form239.columns.str.replace('z|F239', '')\n",
    "\n",
    "form238['DataCollected'] = form238['DataCollected'].map({0.0:'no', 1.0:'yes'})\n",
    "form238['Q01'] = form238['Q01'].map({1.0:'Patient',\n",
    "                                     2.0:'Caregiver',\n",
    "                                     3.0:'Patient and Caregiver in Equal Proportion'})\n",
    "form238['Q08'] = form238['Q08'].map({1.0:'Patient',\n",
    "                                     2.0:'Caregiver',\n",
    "                                     3.0:'Patient and Caregiver in Equal Proportion'})\n",
    "form238['Q29'] = form238['Q29'].map({0.0:'no', 1.0:'yes'})\n",
    "form238['Q30'] = form238['Q30'].map({1.0:'on', 2.0:'off'})\n",
    "form238['Q31'] = form238['Q31'].map({0.0:'no', 1.0:'yes'})\n",
    "form238['Q66'] = form238['Q66'].map({1.0:'no', 2.0:'yes'})\n",
    "form238['Q67'] = form238['Q67'].map({0.0:'no', 1.0:'yes'})\n",
    "form238['Q11'] = form238['Q11'].map({0.0:'Asymptomatic',\n",
    "                                     1.0:'Unilateral involvement only',\n",
    "                                     2.0:'Bilateral involvement without impairment of balance',\n",
    "                                     3.0:'Mild to moderate involvement; some postural instability but physically independent; needs assistance to recover from pull test.',\n",
    "                                     4.0:'Severe disability; still able to walk or stand unassisted',\n",
    "                                     5.0:'Wheelchair bound or bedridden unless aided'})\n",
    "\n",
    "form239 = form239.applymap(lambda x: x.decode() if isinstance(x, bytes) else x)"
   ]
  },
  {
   "cell_type": "markdown",
   "metadata": {},
   "source": [
    "## Transform form240"
   ]
  },
  {
   "cell_type": "code",
   "execution_count": null,
   "metadata": {},
   "outputs": [],
   "source": [
    "form240.columns = form240.columns.str.replace('z|F240', '')\n",
    "\n",
    "form240 = form240.applymap(lambda x: x.decode() if isinstance(x, bytes) else x)"
   ]
  },
  {
   "cell_type": "markdown",
   "metadata": {},
   "source": [
    "## Transform form241"
   ]
  },
  {
   "cell_type": "code",
   "execution_count": null,
   "metadata": {},
   "outputs": [],
   "source": [
    "form241.columns = form241.columns.str.replace('z|F241', '')\n",
    "\n",
    "form241 = form241.applymap(lambda x: x.decode() if isinstance(x, bytes) else x)"
   ]
  },
  {
   "cell_type": "markdown",
   "metadata": {},
   "source": [
    "## Transform form242"
   ]
  },
  {
   "cell_type": "code",
   "execution_count": null,
   "metadata": {},
   "outputs": [],
   "source": [
    "form242.columns = form242.columns.str.replace('z|F242', '')\n",
    "\n",
    "form242 = form242.applymap(lambda x: x.decode() if isinstance(x, bytes) else x)"
   ]
  },
  {
   "cell_type": "markdown",
   "metadata": {},
   "source": [
    "## Transform form243"
   ]
  },
  {
   "cell_type": "code",
   "execution_count": null,
   "metadata": {},
   "outputs": [],
   "source": [
    "form243.columns = form243.columns.str.replace('z|F243', '')\n",
    "\n",
    "form243 = form243.applymap(lambda x: x.decode() if isinstance(x, bytes) else x)"
   ]
  },
  {
   "cell_type": "markdown",
   "metadata": {},
   "source": [
    "## Transform form501"
   ]
  },
  {
   "cell_type": "code",
   "execution_count": null,
   "metadata": {},
   "outputs": [],
   "source": [
    "form501.columns = form501.columns.str.replace('z|F501', '')\n",
    "\n",
    "form501 = form501.applymap(lambda x: x.decode() if isinstance(x, bytes) else x)"
   ]
  },
  {
   "cell_type": "markdown",
   "metadata": {},
   "source": [
    "## Transform form502"
   ]
  },
  {
   "cell_type": "code",
   "execution_count": null,
   "metadata": {},
   "outputs": [],
   "source": [
    "form502.columns = form502.columns.str.replace('z|F502', '')\n",
    "\n",
    "form502 = form502.applymap(lambda x: x.decode() if isinstance(x, bytes) else x)"
   ]
  },
  {
   "cell_type": "markdown",
   "metadata": {},
   "source": [
    "## Transform form503"
   ]
  },
  {
   "cell_type": "code",
   "execution_count": null,
   "metadata": {},
   "outputs": [],
   "source": [
    "form503.columns = form503.columns.str.replace('z|F503', '')\n",
    "\n",
    "form503 = form503.applymap(lambda x: x.decode() if isinstance(x, bytes) else x)"
   ]
  },
  {
   "cell_type": "markdown",
   "metadata": {},
   "source": [
    "## Transform form504"
   ]
  },
  {
   "cell_type": "code",
   "execution_count": null,
   "metadata": {},
   "outputs": [],
   "source": [
    "form504.columns = form504.columns.str.replace('z|F504', '')\n",
    "\n",
    "form504 = form504.applymap(lambda x: x.decode() if isinstance(x, bytes) else x)"
   ]
  },
  {
   "cell_type": "markdown",
   "metadata": {},
   "source": [
    "## Transform form505"
   ]
  },
  {
   "cell_type": "code",
   "execution_count": null,
   "metadata": {},
   "outputs": [],
   "source": [
    "form505.columns = form505.columns.str.replace('z|F505', '')\n",
    "\n",
    "form505 = form505.applymap(lambda x: x.decode() if isinstance(x, bytes) else x)"
   ]
  },
  {
   "cell_type": "markdown",
   "metadata": {},
   "source": [
    "## Transform form506"
   ]
  },
  {
   "cell_type": "code",
   "execution_count": null,
   "metadata": {},
   "outputs": [],
   "source": [
    "form506.columns = form506.columns.str.replace('z|F506', '')\n",
    "\n",
    "form506 = form506.applymap(lambda x: x.decode() if isinstance(x, bytes) else x)"
   ]
  },
  {
   "cell_type": "markdown",
   "metadata": {},
   "source": [
    "## Transform form508"
   ]
  },
  {
   "cell_type": "code",
   "execution_count": null,
   "metadata": {},
   "outputs": [],
   "source": [
    "form508.columns = form508.columns.str.replace('z|F508', '')\n",
    "\n",
    "form508 = form508.applymap(lambda x: x.decode() if isinstance(x, bytes) else x)"
   ]
  },
  {
   "cell_type": "markdown",
   "metadata": {},
   "source": [
    "## Transform form509"
   ]
  },
  {
   "cell_type": "code",
   "execution_count": null,
   "metadata": {},
   "outputs": [],
   "source": [
    "form509.columns = form509.columns.str.replace('z|F509', '')\n",
    "\n",
    "form509 = form509.applymap(lambda x: x.decode() if isinstance(x, bytes) else x)"
   ]
  },
  {
   "cell_type": "markdown",
   "metadata": {},
   "source": [
    "## Transform form510"
   ]
  },
  {
   "cell_type": "code",
   "execution_count": null,
   "metadata": {},
   "outputs": [],
   "source": [
    "form510.columns = form510.columns.str.replace('z|F510', '')\n",
    "\n",
    "form510 = form510.applymap(lambda x: x.decode() if isinstance(x, bytes) else x)"
   ]
  },
  {
   "cell_type": "markdown",
   "metadata": {},
   "source": [
    "## Transform form515"
   ]
  },
  {
   "cell_type": "code",
   "execution_count": null,
   "metadata": {},
   "outputs": [],
   "source": [
    "form515.columns = form515.columns.str.replace('z|F515', '')\n",
    "\n",
    "form515 = form515.applymap(lambda x: x.decode() if isinstance(x, bytes) else x)"
   ]
  },
  {
   "cell_type": "markdown",
   "metadata": {},
   "source": [
    "## Transform form518"
   ]
  },
  {
   "cell_type": "code",
   "execution_count": null,
   "metadata": {},
   "outputs": [],
   "source": [
    "form518.columns = form518.columns.str.replace('z|F518', '')\n",
    "\n",
    "form518 = form518.applymap(lambda x: x.decode() if isinstance(x, bytes) else x)"
   ]
  },
  {
   "cell_type": "code",
   "execution_count": null,
   "metadata": {},
   "outputs": [],
   "source": []
  },
  {
   "cell_type": "code",
   "execution_count": null,
   "metadata": {},
   "outputs": [],
   "source": []
  },
  {
   "cell_type": "code",
   "execution_count": null,
   "metadata": {},
   "outputs": [],
   "source": []
  },
  {
   "cell_type": "code",
   "execution_count": null,
   "metadata": {},
   "outputs": [],
   "source": []
  },
  {
   "cell_type": "code",
   "execution_count": null,
   "metadata": {},
   "outputs": [],
   "source": []
  },
  {
   "cell_type": "code",
   "execution_count": null,
   "metadata": {},
   "outputs": [],
   "source": []
  },
  {
   "cell_type": "code",
   "execution_count": null,
   "metadata": {},
   "outputs": [],
   "source": []
  },
  {
   "cell_type": "code",
   "execution_count": null,
   "metadata": {},
   "outputs": [],
   "source": []
  },
  {
   "cell_type": "code",
   "execution_count": null,
   "metadata": {},
   "outputs": [],
   "source": []
  },
  {
   "cell_type": "code",
   "execution_count": null,
   "metadata": {},
   "outputs": [],
   "source": []
  },
  {
   "cell_type": "code",
   "execution_count": null,
   "metadata": {},
   "outputs": [],
   "source": []
  },
  {
   "cell_type": "code",
   "execution_count": null,
   "metadata": {},
   "outputs": [],
   "source": []
  },
  {
   "cell_type": "markdown",
   "metadata": {},
   "source": [
    "## Save/Read as h5 file type"
   ]
  },
  {
   "cell_type": "code",
   "execution_count": null,
   "metadata": {},
   "outputs": [],
   "source": [
    "# Save file\n",
    "hf = h5py.File('data.h5', 'w')\n",
    "hf.create_dataset('dataset_1', data=d1)\n",
    "hf.close()"
   ]
  },
  {
   "cell_type": "code",
   "execution_count": null,
   "metadata": {},
   "outputs": [],
   "source": [
    "# Read file\n",
    "hf = h5py.File('data.h5', 'r')\n",
    "# Check contents\n",
    "hf.keys()\n",
    "\n",
    "n1 = hf.get('dataset_1')\n",
    "n1 = np.array(n1)\n",
    "hf.close()"
   ]
  },
  {
   "cell_type": "markdown",
   "metadata": {},
   "source": [
    "## option: Save all forms into separate pickle files"
   ]
  },
  {
   "cell_type": "code",
   "execution_count": null,
   "metadata": {},
   "outputs": [],
   "source": [
    "# Create dictionaries for all forms\n",
    "d = os.listdir(path)\n",
    "f = [filename for filename in d if filename.startswith('form')] #need to update to skip existing files in /data\n",
    "print(f)"
   ]
  },
  {
   "cell_type": "code",
   "execution_count": null,
   "metadata": {},
   "outputs": [],
   "source": [
    "#create data dict for remaining subjects\n",
    "data_all = []\n",
    "for FormID in list(set(f)):\n",
    "    print('Loading Form ' + FormID + ' Data...')\n",
    "    act_dict, timestamps = extract_data(FormID, os.path.join(path, FormID))\n",
    "    print('Extract data complete.')\n",
    "    #save dict to Pickle file\n",
    "    filename = dict_path+'\\\\'+FormID + 'dict.pkl'\n",
    "    filename = os.path.join(dict_path, FormID + 'dict.pkl')\n",
    "    print(filename)\n",
    "    f = open(filename,'wb')\n",
    "    pickle.dump(act_dict,f)\n",
    "    f.close()\n",
    "    print(filename + ' ' + 'File Saved\\n')"
   ]
  }
 ],
 "metadata": {
  "kernelspec": {
   "display_name": "Python 3",
   "language": "python",
   "name": "python3"
  },
  "language_info": {
   "codemirror_mode": {
    "name": "ipython",
    "version": 3
   },
   "file_extension": ".py",
   "mimetype": "text/x-python",
   "name": "python",
   "nbconvert_exporter": "python",
   "pygments_lexer": "ipython3",
   "version": "3.6.4"
  }
 },
 "nbformat": 4,
 "nbformat_minor": 2
}

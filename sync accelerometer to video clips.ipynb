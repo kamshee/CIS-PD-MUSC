{
 "cells": [
  {
   "cell_type": "markdown",
   "metadata": {},
   "source": [
    "# Sync activity video clips with accelerometer data"
   ]
  },
  {
   "cell_type": "markdown",
   "metadata": {},
   "source": [
    "Project status:\n",
    "- COMPLETE: Get start times for videos using Python\n",
    "- COMPLETE: Use start/stop frame number and convert to UTC\n",
    "- IN PROGRESS: deal with cisrol12\n",
    "- Modify GUI function to use my start/stop times to label data for relevant subjects and cycles below"
   ]
  },
  {
   "cell_type": "markdown",
   "metadata": {},
   "source": [
    "Notes:\n",
    "- fps = 29.97 aka Video Frame Rate\n",
    "- 33.367 milliseconds per frame"
   ]
  },
  {
   "cell_type": "code",
   "execution_count": 192,
   "metadata": {},
   "outputs": [],
   "source": [
    "# Importing the Libraries\n",
    "import os\n",
    "import numpy as np\n",
    "import pandas as pd\n",
    "import seaborn as sns\n",
    "import matplotlib.pyplot as plt\n",
    "import re\n",
    "import datetime as dt\n",
    "from moviepy.video.io.ffmpeg_tools import ffmpeg_extract_subclip"
   ]
  },
  {
   "cell_type": "markdown",
   "metadata": {},
   "source": [
    "## RTO drive is X:"
   ]
  },
  {
   "cell_type": "markdown",
   "metadata": {},
   "source": [
    "## test case video clip to get timestamps\n"
   ]
  },
  {
   "cell_type": "code",
   "execution_count": 9,
   "metadata": {},
   "outputs": [],
   "source": [
    "# subject 1050\n",
    "id = 'cisuabn14'\n",
    "path = r'X:\\CIS-PD Videos'\n",
    "subj_path = os.path.join(path,id)\n",
    "video_name = 'cisuabn14_cycle2.mp4'\n",
    "video_clip_path = os.path.join(subj_path,video_name)"
   ]
  },
  {
   "cell_type": "code",
   "execution_count": 10,
   "metadata": {},
   "outputs": [
    {
     "data": {
      "text/plain": [
       "'X:\\\\CIS-PD Videos\\\\cisuabn14\\\\cisuabn14_cycle2.mp4'"
      ]
     },
     "execution_count": 10,
     "metadata": {},
     "output_type": "execute_result"
    }
   ],
   "source": [
    "video_clip_path"
   ]
  },
  {
   "cell_type": "code",
   "execution_count": 11,
   "metadata": {},
   "outputs": [
    {
     "name": "stdout",
     "output_type": "stream",
     "text": [
      "Last modified: Thu Jul 12 08:55:07 2018\n",
      "Created: Thu Jul 12 09:04:26 2018\n"
     ]
    }
   ],
   "source": [
    "# these give my downloaded time not the actual time\n",
    "import os.path, time\n",
    "print(\"Last modified: %s\" % time.ctime(os.path.getmtime(video_clip_path)))\n",
    "print(\"Created: %s\" % time.ctime(os.path.getctime(video_clip_path)))"
   ]
  },
  {
   "cell_type": "markdown",
   "metadata": {},
   "source": [
    "# Load all sec_annotation.csv files for each subj, concatenate into 1 df"
   ]
  },
  {
   "cell_type": "code",
   "execution_count": 272,
   "metadata": {},
   "outputs": [],
   "source": [
    "# read in timestamp file with mp4 metadata\n",
    "path = r'X:\\CIS-PD Videos\\timestamp'\n",
    "filename = os.path.join(path, 'video_utc_timestamp.csv')\n",
    "timestamp_df = pd.read_csv(filename)\n",
    "timestamp_df = timestamp_df.drop(columns=['Unnamed: 0','videoname','CreateDate','ModifyDate','UTC_modify_date'])"
   ]
  },
  {
   "cell_type": "code",
   "execution_count": 273,
   "metadata": {},
   "outputs": [],
   "source": [
    "# list of subjects without ciscid4, ciscih8, ciccij10 due to it being edited multiple times\n",
    "# omitted cisrol12 as it doesn't have a sec_annotation file\n",
    "names_minus3 = ['cisnwh8','cisuabd4','cisuabe5','cisuabf6','cisuabg7','cisnwe5','cisnwf6','cisuabn14']\n",
    "\n",
    "# create empty list\n",
    "appended_data = []\n",
    "\n",
    "# create 1 dataframe from each subject's sec_annotation.csv file\n",
    "for i, k in enumerate(names_minus3):\n",
    "    path = r'X:\\CIS-PD Videos'\n",
    "    path_subj = os.path.join(path,k) \n",
    "    path_file = os.path.join(path_subj,'sec_annotation.csv')\n",
    "    data = pd.read_csv(path_file)\n",
    "    appended_data.append(data)\n",
    "    \n",
    "# concatenate list of dataframes\n",
    "appended_data = pd.concat(appended_data, ignore_index=True)\n",
    "appended_data = appended_data.drop(columns=['Unnamed: 0'])\n",
    "\n",
    "# combine subjid and cycle number column to create a key for merge\n",
    "# combine strings of both columns\n",
    "timestamp_df.cycle = timestamp_df.cycle.astype(str)\n",
    "timestamp_df.cycle = timestamp_df.subjid + timestamp_df.cycle\n",
    "# drop subjid column\n",
    "timestamp_df = timestamp_df.drop(columns=['subjid'])\n",
    "# change name of column\n",
    "timestamp_df = timestamp_df.rename(index=str,columns={'cycle':'subj_cycle'})"
   ]
  },
  {
   "cell_type": "code",
   "execution_count": 274,
   "metadata": {},
   "outputs": [],
   "source": [
    "# Combine subject code and cycle column to create a key for merge in appended_data dataframe that\n",
    "# has the activity clip frame annotations\n",
    "appended_data.cycle = appended_data.cycle.astype(str)\n",
    "appended_data['subj_cycle'] = appended_data['subject code'] + appended_data.cycle"
   ]
  },
  {
   "cell_type": "markdown",
   "metadata": {},
   "source": [
    "# Merge dataframes based on subj_cycle columns in both"
   ]
  },
  {
   "cell_type": "code",
   "execution_count": 275,
   "metadata": {},
   "outputs": [],
   "source": [
    "utc_df = pd.merge(timestamp_df, appended_data, on='subj_cycle',how='outer')"
   ]
  },
  {
   "cell_type": "markdown",
   "metadata": {},
   "source": [
    "# Transform start and stop frame with UTC create time"
   ]
  },
  {
   "cell_type": "code",
   "execution_count": 276,
   "metadata": {},
   "outputs": [],
   "source": [
    "utc_df['start_utc'] = utc_df['start frame']*33.367+utc_df.UTC_create_date\n",
    "utc_df['stop_utc'] = utc_df['stop frame']*33.367+utc_df.UTC_create_date"
   ]
  },
  {
   "cell_type": "markdown",
   "metadata": {},
   "source": [
    "# Adjust UAB site data by... 1yr 5 hrs\n",
    "- UAB subject: 1003, 1005, 1007, 1009, 1050\n",
    "- cisuabd4 cisuabe5 cisuabf6 cisuabg7 cisuabn14"
   ]
  },
  {
   "cell_type": "code",
   "execution_count": 198,
   "metadata": {},
   "outputs": [],
   "source": [
    "# millisecond conversions\n",
    "year = 31556952000\n",
    "fivehr = 18000000\n",
    "uab_convertor = year + fivehr"
   ]
  },
  {
   "cell_type": "code",
   "execution_count": 277,
   "metadata": {},
   "outputs": [],
   "source": [
    "# Add 1 year and 5 hrs to uab subjects\n",
    "uab_names = ('cisuabd4','cisuabe5','cisuabf6','cisuabg7','cisuabn14')\n",
    "for i, k in enumerate(uab_names):\n",
    "    utc_df.loc[utc_df['subject code'] == k, 'start_utc'] += uab_convertor\n",
    "    utc_df.loc[utc_df['subject code'] == k, 'stop_utc'] += uab_convertor"
   ]
  },
  {
   "cell_type": "markdown",
   "metadata": {},
   "source": [
    "# Combine NtsBts activity split into cycle 6 part 1 and 2 videos into 1 row"
   ]
  },
  {
   "cell_type": "code",
   "execution_count": 278,
   "metadata": {},
   "outputs": [
    {
     "name": "stderr",
     "output_type": "stream",
     "text": [
      "C:\\ProgramData\\anaconda3\\lib\\site-packages\\ipykernel_launcher.py:2: SettingWithCopyWarning: \n",
      "A value is trying to be set on a copy of a slice from a DataFrame\n",
      "\n",
      "See the caveats in the documentation: http://pandas.pydata.org/pandas-docs/stable/indexing.html#indexing-view-versus-copy\n",
      "  \n"
     ]
    }
   ],
   "source": [
    "# combine rows 503 and 504\n",
    "utc_df.stop_utc[503] = utc_df.stop_utc[504]"
   ]
  },
  {
   "cell_type": "code",
   "execution_count": 295,
   "metadata": {},
   "outputs": [],
   "source": [
    "# drop row and reindex\n",
    "utc_df = utc_df.drop([504]).reset_index(drop=True)"
   ]
  },
  {
   "cell_type": "markdown",
   "metadata": {},
   "source": [
    "# Change cycle 7 to 6"
   ]
  },
  {
   "cell_type": "code",
   "execution_count": 314,
   "metadata": {},
   "outputs": [],
   "source": [
    "utc_df.loc[utc_df.cycle == '7', 'cycle'] = '6'"
   ]
  },
  {
   "cell_type": "markdown",
   "metadata": {},
   "source": [
    "# temp dataframe"
   ]
  },
  {
   "cell_type": "code",
   "execution_count": 385,
   "metadata": {},
   "outputs": [],
   "source": [
    "df = utc_df.copy()"
   ]
  },
  {
   "cell_type": "markdown",
   "metadata": {},
   "source": [
    "# Deal with cisrol12 (1048) separately\n",
    "- utc_df does NOT have cisrol12 data on it\n",
    "- Create separate script for cisrol12 since it doesn't have sec_annotation.csv"
   ]
  },
  {
   "cell_type": "code",
   "execution_count": 345,
   "metadata": {},
   "outputs": [],
   "source": [
    "def keeprightstring(string, sep='cisrol12'):\n",
    "    \"\"\"Take a string and keep text after specified character.\n",
    "    Default character is 'cisrol12'.\"\"\"\n",
    "    new_string = string.split(sep, 1)[-1]\n",
    "    return new_string"
   ]
  },
  {
   "cell_type": "code",
   "execution_count": 387,
   "metadata": {},
   "outputs": [
    {
     "name": "stderr",
     "output_type": "stream",
     "text": [
      "C:\\ProgramData\\anaconda3\\lib\\site-packages\\ipykernel_launcher.py:11: SettingWithCopyWarning: \n",
      "A value is trying to be set on a copy of a slice from a DataFrame\n",
      "\n",
      "See the caveats in the documentation: http://pandas.pydata.org/pandas-docs/stable/indexing.html#indexing-view-versus-copy\n",
      "  # This is added back by InteractiveShellApp.init_path()\n"
     ]
    }
   ],
   "source": [
    "# Add necessary data for cisrol12\n",
    "# subject code\n",
    "df.loc[df['subj_cycle'].str.contains('cisrol12'), 'subject code'] = 'cisrol12'\n",
    "# start frame\n",
    "df.loc[df['subj_cycle'].str.contains('cisrol12'), 'start frame'] = 0\n",
    "# start_utc = create time\n",
    "df.loc[df['subj_cycle'].str.contains('cisrol12'), 'start_utc'] = df.UTC_create_date\n",
    "# cycle\n",
    "df.loc[df['subj_cycle'].str.contains('cisrol12'), 'cycle'] = df.subj_cycle\n",
    "for i in range(391,433):\n",
    "    df.cycle[i] = keeprightstring(df.cycle[i])\n",
    "# SKIP start time\n",
    "# SKIP stop time"
   ]
  },
  {
   "cell_type": "code",
   "execution_count": 389,
   "metadata": {},
   "outputs": [
    {
     "data": {
      "text/html": [
       "<div>\n",
       "<style scoped>\n",
       "    .dataframe tbody tr th:only-of-type {\n",
       "        vertical-align: middle;\n",
       "    }\n",
       "\n",
       "    .dataframe tbody tr th {\n",
       "        vertical-align: top;\n",
       "    }\n",
       "\n",
       "    .dataframe thead th {\n",
       "        text-align: right;\n",
       "    }\n",
       "</style>\n",
       "<table border=\"1\" class=\"dataframe\">\n",
       "  <thead>\n",
       "    <tr style=\"text-align: right;\">\n",
       "      <th></th>\n",
       "      <th>UTC_create_date</th>\n",
       "      <th>subj_cycle</th>\n",
       "      <th>subject code</th>\n",
       "      <th>start frame</th>\n",
       "      <th>stop frame</th>\n",
       "      <th>activity</th>\n",
       "      <th>cycle</th>\n",
       "      <th>shortname</th>\n",
       "      <th>start time sec</th>\n",
       "      <th>stop time sec</th>\n",
       "      <th>start_utc</th>\n",
       "      <th>stop_utc</th>\n",
       "      <th>subject_number</th>\n",
       "    </tr>\n",
       "  </thead>\n",
       "  <tbody>\n",
       "    <tr>\n",
       "      <th>391</th>\n",
       "      <td>1505134245000</td>\n",
       "      <td>cisrol121</td>\n",
       "      <td>cisrol12</td>\n",
       "      <td>0.0</td>\n",
       "      <td>NaN</td>\n",
       "      <td>NaN</td>\n",
       "      <td>1</td>\n",
       "      <td>NaN</td>\n",
       "      <td>NaN</td>\n",
       "      <td>NaN</td>\n",
       "      <td>1.505134e+12</td>\n",
       "      <td>NaN</td>\n",
       "      <td>Unknown</td>\n",
       "    </tr>\n",
       "    <tr>\n",
       "      <th>392</th>\n",
       "      <td>1505134286000</td>\n",
       "      <td>cisrol121</td>\n",
       "      <td>cisrol12</td>\n",
       "      <td>0.0</td>\n",
       "      <td>NaN</td>\n",
       "      <td>NaN</td>\n",
       "      <td>1</td>\n",
       "      <td>NaN</td>\n",
       "      <td>NaN</td>\n",
       "      <td>NaN</td>\n",
       "      <td>1.505134e+12</td>\n",
       "      <td>NaN</td>\n",
       "      <td>Unknown</td>\n",
       "    </tr>\n",
       "    <tr>\n",
       "      <th>393</th>\n",
       "      <td>1505134361000</td>\n",
       "      <td>cisrol121</td>\n",
       "      <td>cisrol12</td>\n",
       "      <td>0.0</td>\n",
       "      <td>NaN</td>\n",
       "      <td>NaN</td>\n",
       "      <td>1</td>\n",
       "      <td>NaN</td>\n",
       "      <td>NaN</td>\n",
       "      <td>NaN</td>\n",
       "      <td>1.505134e+12</td>\n",
       "      <td>NaN</td>\n",
       "      <td>Unknown</td>\n",
       "    </tr>\n",
       "    <tr>\n",
       "      <th>394</th>\n",
       "      <td>1505137757000</td>\n",
       "      <td>cisrol122</td>\n",
       "      <td>cisrol12</td>\n",
       "      <td>0.0</td>\n",
       "      <td>NaN</td>\n",
       "      <td>NaN</td>\n",
       "      <td>2</td>\n",
       "      <td>NaN</td>\n",
       "      <td>NaN</td>\n",
       "      <td>NaN</td>\n",
       "      <td>1.505138e+12</td>\n",
       "      <td>NaN</td>\n",
       "      <td>Unknown</td>\n",
       "    </tr>\n",
       "    <tr>\n",
       "      <th>395</th>\n",
       "      <td>1505137780000</td>\n",
       "      <td>cisrol122</td>\n",
       "      <td>cisrol12</td>\n",
       "      <td>0.0</td>\n",
       "      <td>NaN</td>\n",
       "      <td>NaN</td>\n",
       "      <td>2</td>\n",
       "      <td>NaN</td>\n",
       "      <td>NaN</td>\n",
       "      <td>NaN</td>\n",
       "      <td>1.505138e+12</td>\n",
       "      <td>NaN</td>\n",
       "      <td>Unknown</td>\n",
       "    </tr>\n",
       "  </tbody>\n",
       "</table>\n",
       "</div>"
      ],
      "text/plain": [
       "     UTC_create_date subj_cycle subject code  start frame  stop frame  \\\n",
       "391    1505134245000  cisrol121     cisrol12          0.0         NaN   \n",
       "392    1505134286000  cisrol121     cisrol12          0.0         NaN   \n",
       "393    1505134361000  cisrol121     cisrol12          0.0         NaN   \n",
       "394    1505137757000  cisrol122     cisrol12          0.0         NaN   \n",
       "395    1505137780000  cisrol122     cisrol12          0.0         NaN   \n",
       "\n",
       "    activity cycle shortname  start time sec  stop time sec     start_utc  \\\n",
       "391      NaN     1       NaN             NaN            NaN  1.505134e+12   \n",
       "392      NaN     1       NaN             NaN            NaN  1.505134e+12   \n",
       "393      NaN     1       NaN             NaN            NaN  1.505134e+12   \n",
       "394      NaN     2       NaN             NaN            NaN  1.505138e+12   \n",
       "395      NaN     2       NaN             NaN            NaN  1.505138e+12   \n",
       "\n",
       "     stop_utc subject_number  \n",
       "391       NaN        Unknown  \n",
       "392       NaN        Unknown  \n",
       "393       NaN        Unknown  \n",
       "394       NaN        Unknown  \n",
       "395       NaN        Unknown  "
      ]
     },
     "execution_count": 389,
     "metadata": {},
     "output_type": "execute_result"
    }
   ],
   "source": [
    "df.loc[df['subj_cycle'].str.contains('cisrol12')].head(5)"
   ]
  },
  {
   "cell_type": "markdown",
   "metadata": {},
   "source": [
    "# can remove next 2 lines"
   ]
  },
  {
   "cell_type": "code",
   "execution_count": 190,
   "metadata": {},
   "outputs": [
    {
     "data": {
      "text/plain": [
       "'cisrol121'"
      ]
     },
     "execution_count": 190,
     "metadata": {},
     "output_type": "execute_result"
    }
   ],
   "source": [
    "df['subj_cycle'][391] # - 'cisrol12'"
   ]
  },
  {
   "cell_type": "code",
   "execution_count": 191,
   "metadata": {},
   "outputs": [
    {
     "data": {
      "text/plain": [
       "'1'"
      ]
     },
     "execution_count": 191,
     "metadata": {},
     "output_type": "execute_result"
    }
   ],
   "source": [
    "df['subj_cycle'][391].replace('cisrol12','')"
   ]
  },
  {
   "cell_type": "markdown",
   "metadata": {},
   "source": [
    "# Add column containing 4 digit id\n",
    "- need to complete cisrol12 data first to add its 4 digit id\n",
    "- make sure to user 'df' dataframe"
   ]
  },
  {
   "cell_type": "code",
   "execution_count": 390,
   "metadata": {},
   "outputs": [],
   "source": [
    "# Get subject id or code\n",
    "path_id = r'X:\\CIS-PD MUSC\\decoded_forms'\n",
    "filename_id = os.path.join(path_id, 'videoID.csv') # ie. file = 'videoID.csv'\n",
    "subjid_df = pd.read_csv(filename_id)\n",
    "subjid_df.SubjectCode = subjid_df.SubjectCode.astype('int')\n",
    "# get 4 digit subject code\n",
    "reverse_id_dict = subjid_df.set_index('FoxInsightID').to_dict()['SubjectCode']"
   ]
  },
  {
   "cell_type": "code",
   "execution_count": 397,
   "metadata": {},
   "outputs": [
    {
     "data": {
      "text/plain": [
       "1048"
      ]
     },
     "execution_count": 397,
     "metadata": {},
     "output_type": "execute_result"
    }
   ],
   "source": [
    "# test\n",
    "reverse_id_dict.get('cisrol12', 'Unknown')"
   ]
  },
  {
   "cell_type": "code",
   "execution_count": 398,
   "metadata": {},
   "outputs": [
    {
     "name": "stderr",
     "output_type": "stream",
     "text": [
      "C:\\ProgramData\\anaconda3\\lib\\site-packages\\ipykernel_launcher.py:3: SettingWithCopyWarning: \n",
      "A value is trying to be set on a copy of a slice from a DataFrame\n",
      "\n",
      "See the caveats in the documentation: http://pandas.pydata.org/pandas-docs/stable/indexing.html#indexing-view-versus-copy\n",
      "  This is separate from the ipykernel package so we can avoid doing imports until\n"
     ]
    }
   ],
   "source": [
    "df['subject_number'] = df['subject code']\n",
    "for i, k in enumerate(df.subject_number):\n",
    "    df['subject_number'][i] = reverse_id_dict.get(k,1048)"
   ]
  },
  {
   "cell_type": "code",
   "execution_count": 399,
   "metadata": {},
   "outputs": [
    {
     "data": {
      "text/html": [
       "<div>\n",
       "<style scoped>\n",
       "    .dataframe tbody tr th:only-of-type {\n",
       "        vertical-align: middle;\n",
       "    }\n",
       "\n",
       "    .dataframe tbody tr th {\n",
       "        vertical-align: top;\n",
       "    }\n",
       "\n",
       "    .dataframe thead th {\n",
       "        text-align: right;\n",
       "    }\n",
       "</style>\n",
       "<table border=\"1\" class=\"dataframe\">\n",
       "  <thead>\n",
       "    <tr style=\"text-align: right;\">\n",
       "      <th></th>\n",
       "      <th>UTC_create_date</th>\n",
       "      <th>subj_cycle</th>\n",
       "      <th>subject code</th>\n",
       "      <th>start frame</th>\n",
       "      <th>stop frame</th>\n",
       "      <th>activity</th>\n",
       "      <th>cycle</th>\n",
       "      <th>shortname</th>\n",
       "      <th>start time sec</th>\n",
       "      <th>stop time sec</th>\n",
       "      <th>start_utc</th>\n",
       "      <th>stop_utc</th>\n",
       "    </tr>\n",
       "    <tr>\n",
       "      <th>subject_number</th>\n",
       "      <th></th>\n",
       "      <th></th>\n",
       "      <th></th>\n",
       "      <th></th>\n",
       "      <th></th>\n",
       "      <th></th>\n",
       "      <th></th>\n",
       "      <th></th>\n",
       "      <th></th>\n",
       "      <th></th>\n",
       "      <th></th>\n",
       "      <th></th>\n",
       "    </tr>\n",
       "  </thead>\n",
       "  <tbody>\n",
       "    <tr>\n",
       "      <th>1003</th>\n",
       "      <td>90</td>\n",
       "      <td>90</td>\n",
       "      <td>90</td>\n",
       "      <td>90</td>\n",
       "      <td>90</td>\n",
       "      <td>90</td>\n",
       "      <td>90</td>\n",
       "      <td>90</td>\n",
       "      <td>90</td>\n",
       "      <td>90</td>\n",
       "      <td>90</td>\n",
       "      <td>90</td>\n",
       "    </tr>\n",
       "    <tr>\n",
       "      <th>1005</th>\n",
       "      <td>60</td>\n",
       "      <td>60</td>\n",
       "      <td>60</td>\n",
       "      <td>60</td>\n",
       "      <td>60</td>\n",
       "      <td>60</td>\n",
       "      <td>60</td>\n",
       "      <td>60</td>\n",
       "      <td>60</td>\n",
       "      <td>60</td>\n",
       "      <td>60</td>\n",
       "      <td>60</td>\n",
       "    </tr>\n",
       "    <tr>\n",
       "      <th>1007</th>\n",
       "      <td>60</td>\n",
       "      <td>60</td>\n",
       "      <td>60</td>\n",
       "      <td>60</td>\n",
       "      <td>60</td>\n",
       "      <td>60</td>\n",
       "      <td>60</td>\n",
       "      <td>60</td>\n",
       "      <td>60</td>\n",
       "      <td>60</td>\n",
       "      <td>60</td>\n",
       "      <td>60</td>\n",
       "    </tr>\n",
       "    <tr>\n",
       "      <th>1009</th>\n",
       "      <td>45</td>\n",
       "      <td>45</td>\n",
       "      <td>45</td>\n",
       "      <td>45</td>\n",
       "      <td>45</td>\n",
       "      <td>45</td>\n",
       "      <td>45</td>\n",
       "      <td>45</td>\n",
       "      <td>45</td>\n",
       "      <td>45</td>\n",
       "      <td>45</td>\n",
       "      <td>45</td>\n",
       "    </tr>\n",
       "    <tr>\n",
       "      <th>1019</th>\n",
       "      <td>15</td>\n",
       "      <td>15</td>\n",
       "      <td>15</td>\n",
       "      <td>15</td>\n",
       "      <td>15</td>\n",
       "      <td>15</td>\n",
       "      <td>15</td>\n",
       "      <td>15</td>\n",
       "      <td>15</td>\n",
       "      <td>15</td>\n",
       "      <td>15</td>\n",
       "      <td>15</td>\n",
       "    </tr>\n",
       "    <tr>\n",
       "      <th>1024</th>\n",
       "      <td>15</td>\n",
       "      <td>15</td>\n",
       "      <td>15</td>\n",
       "      <td>15</td>\n",
       "      <td>15</td>\n",
       "      <td>15</td>\n",
       "      <td>15</td>\n",
       "      <td>15</td>\n",
       "      <td>15</td>\n",
       "      <td>15</td>\n",
       "      <td>15</td>\n",
       "      <td>15</td>\n",
       "    </tr>\n",
       "    <tr>\n",
       "      <th>1030</th>\n",
       "      <td>90</td>\n",
       "      <td>90</td>\n",
       "      <td>90</td>\n",
       "      <td>90</td>\n",
       "      <td>90</td>\n",
       "      <td>90</td>\n",
       "      <td>90</td>\n",
       "      <td>90</td>\n",
       "      <td>90</td>\n",
       "      <td>90</td>\n",
       "      <td>90</td>\n",
       "      <td>90</td>\n",
       "    </tr>\n",
       "    <tr>\n",
       "      <th>1048</th>\n",
       "      <td>58</td>\n",
       "      <td>58</td>\n",
       "      <td>42</td>\n",
       "      <td>42</td>\n",
       "      <td>0</td>\n",
       "      <td>0</td>\n",
       "      <td>42</td>\n",
       "      <td>0</td>\n",
       "      <td>0</td>\n",
       "      <td>0</td>\n",
       "      <td>42</td>\n",
       "      <td>0</td>\n",
       "    </tr>\n",
       "    <tr>\n",
       "      <th>1050</th>\n",
       "      <td>75</td>\n",
       "      <td>75</td>\n",
       "      <td>75</td>\n",
       "      <td>75</td>\n",
       "      <td>75</td>\n",
       "      <td>75</td>\n",
       "      <td>75</td>\n",
       "      <td>75</td>\n",
       "      <td>75</td>\n",
       "      <td>75</td>\n",
       "      <td>75</td>\n",
       "      <td>75</td>\n",
       "    </tr>\n",
       "  </tbody>\n",
       "</table>\n",
       "</div>"
      ],
      "text/plain": [
       "                UTC_create_date  subj_cycle  subject code  start frame  \\\n",
       "subject_number                                                           \n",
       "1003                         90          90            90           90   \n",
       "1005                         60          60            60           60   \n",
       "1007                         60          60            60           60   \n",
       "1009                         45          45            45           45   \n",
       "1019                         15          15            15           15   \n",
       "1024                         15          15            15           15   \n",
       "1030                         90          90            90           90   \n",
       "1048                         58          58            42           42   \n",
       "1050                         75          75            75           75   \n",
       "\n",
       "                stop frame  activity  cycle  shortname  start time sec  \\\n",
       "subject_number                                                           \n",
       "1003                    90        90     90         90              90   \n",
       "1005                    60        60     60         60              60   \n",
       "1007                    60        60     60         60              60   \n",
       "1009                    45        45     45         45              45   \n",
       "1019                    15        15     15         15              15   \n",
       "1024                    15        15     15         15              15   \n",
       "1030                    90        90     90         90              90   \n",
       "1048                     0         0     42          0               0   \n",
       "1050                    75        75     75         75              75   \n",
       "\n",
       "                stop time sec  start_utc  stop_utc  \n",
       "subject_number                                      \n",
       "1003                       90         90        90  \n",
       "1005                       60         60        60  \n",
       "1007                       60         60        60  \n",
       "1009                       45         45        45  \n",
       "1019                       15         15        15  \n",
       "1024                       15         15        15  \n",
       "1030                       90         90        90  \n",
       "1048                        0         42         0  \n",
       "1050                       75         75        75  "
      ]
     },
     "execution_count": 399,
     "metadata": {},
     "output_type": "execute_result"
    }
   ],
   "source": [
    "df.groupby('subject_number').count()\n",
    "# unknown is cisrol12"
   ]
  },
  {
   "cell_type": "code",
   "execution_count": 400,
   "metadata": {},
   "outputs": [
    {
     "data": {
      "text/html": [
       "<div>\n",
       "<style scoped>\n",
       "    .dataframe tbody tr th:only-of-type {\n",
       "        vertical-align: middle;\n",
       "    }\n",
       "\n",
       "    .dataframe tbody tr th {\n",
       "        vertical-align: top;\n",
       "    }\n",
       "\n",
       "    .dataframe thead th {\n",
       "        text-align: right;\n",
       "    }\n",
       "</style>\n",
       "<table border=\"1\" class=\"dataframe\">\n",
       "  <thead>\n",
       "    <tr style=\"text-align: right;\">\n",
       "      <th></th>\n",
       "      <th>UTC_create_date</th>\n",
       "      <th>subj_cycle</th>\n",
       "      <th>subject code</th>\n",
       "      <th>start frame</th>\n",
       "      <th>stop frame</th>\n",
       "      <th>activity</th>\n",
       "      <th>cycle</th>\n",
       "      <th>shortname</th>\n",
       "      <th>start time sec</th>\n",
       "      <th>stop time sec</th>\n",
       "      <th>start_utc</th>\n",
       "      <th>stop_utc</th>\n",
       "      <th>subject_number</th>\n",
       "    </tr>\n",
       "  </thead>\n",
       "  <tbody>\n",
       "    <tr>\n",
       "      <th>0</th>\n",
       "      <td>1501681699000</td>\n",
       "      <td>cisnwh81</td>\n",
       "      <td>cisnwh8</td>\n",
       "      <td>1118.0</td>\n",
       "      <td>2145.0</td>\n",
       "      <td>Standing</td>\n",
       "      <td>1</td>\n",
       "      <td>Stndg</td>\n",
       "      <td>37.0</td>\n",
       "      <td>71.0</td>\n",
       "      <td>1.501682e+12</td>\n",
       "      <td>1.501682e+12</td>\n",
       "      <td>1030</td>\n",
       "    </tr>\n",
       "    <tr>\n",
       "      <th>1</th>\n",
       "      <td>1501681699000</td>\n",
       "      <td>cisnwh81</td>\n",
       "      <td>cisnwh8</td>\n",
       "      <td>2315.0</td>\n",
       "      <td>3333.0</td>\n",
       "      <td>Walking</td>\n",
       "      <td>1</td>\n",
       "      <td>Wlkg</td>\n",
       "      <td>77.0</td>\n",
       "      <td>111.0</td>\n",
       "      <td>1.501682e+12</td>\n",
       "      <td>1.501682e+12</td>\n",
       "      <td>1030</td>\n",
       "    </tr>\n",
       "    <tr>\n",
       "      <th>2</th>\n",
       "      <td>1501681699000</td>\n",
       "      <td>cisnwh81</td>\n",
       "      <td>cisnwh8</td>\n",
       "      <td>3608.0</td>\n",
       "      <td>4800.0</td>\n",
       "      <td>Walking while counting</td>\n",
       "      <td>1</td>\n",
       "      <td>WlkgCnt</td>\n",
       "      <td>120.0</td>\n",
       "      <td>160.0</td>\n",
       "      <td>1.501682e+12</td>\n",
       "      <td>1.501682e+12</td>\n",
       "      <td>1030</td>\n",
       "    </tr>\n",
       "    <tr>\n",
       "      <th>3</th>\n",
       "      <td>1501681699000</td>\n",
       "      <td>cisnwh81</td>\n",
       "      <td>cisnwh8</td>\n",
       "      <td>5832.0</td>\n",
       "      <td>6518.0</td>\n",
       "      <td>Finger to nose--right hand</td>\n",
       "      <td>1</td>\n",
       "      <td>FtnR</td>\n",
       "      <td>194.0</td>\n",
       "      <td>217.0</td>\n",
       "      <td>1.501682e+12</td>\n",
       "      <td>1.501682e+12</td>\n",
       "      <td>1030</td>\n",
       "    </tr>\n",
       "    <tr>\n",
       "      <th>4</th>\n",
       "      <td>1501681699000</td>\n",
       "      <td>cisnwh81</td>\n",
       "      <td>cisnwh8</td>\n",
       "      <td>6518.0</td>\n",
       "      <td>7121.0</td>\n",
       "      <td>Finger to nose--left hand</td>\n",
       "      <td>1</td>\n",
       "      <td>FtnL</td>\n",
       "      <td>217.0</td>\n",
       "      <td>237.0</td>\n",
       "      <td>1.501682e+12</td>\n",
       "      <td>1.501682e+12</td>\n",
       "      <td>1030</td>\n",
       "    </tr>\n",
       "  </tbody>\n",
       "</table>\n",
       "</div>"
      ],
      "text/plain": [
       "   UTC_create_date subj_cycle subject code  start frame  stop frame  \\\n",
       "0    1501681699000   cisnwh81      cisnwh8       1118.0      2145.0   \n",
       "1    1501681699000   cisnwh81      cisnwh8       2315.0      3333.0   \n",
       "2    1501681699000   cisnwh81      cisnwh8       3608.0      4800.0   \n",
       "3    1501681699000   cisnwh81      cisnwh8       5832.0      6518.0   \n",
       "4    1501681699000   cisnwh81      cisnwh8       6518.0      7121.0   \n",
       "\n",
       "                     activity cycle shortname  start time sec  stop time sec  \\\n",
       "0                    Standing     1     Stndg            37.0           71.0   \n",
       "1                     Walking     1      Wlkg            77.0          111.0   \n",
       "2      Walking while counting     1   WlkgCnt           120.0          160.0   \n",
       "3  Finger to nose--right hand     1      FtnR           194.0          217.0   \n",
       "4   Finger to nose--left hand     1      FtnL           217.0          237.0   \n",
       "\n",
       "      start_utc      stop_utc subject_number  \n",
       "0  1.501682e+12  1.501682e+12           1030  \n",
       "1  1.501682e+12  1.501682e+12           1030  \n",
       "2  1.501682e+12  1.501682e+12           1030  \n",
       "3  1.501682e+12  1.501682e+12           1030  \n",
       "4  1.501682e+12  1.501682e+12           1030  "
      ]
     },
     "execution_count": 400,
     "metadata": {},
     "output_type": "execute_result"
    }
   ],
   "source": [
    "df.head(5)"
   ]
  },
  {
   "cell_type": "markdown",
   "metadata": {},
   "source": [
    "# Adjust cycle for Nick's GUI"
   ]
  },
  {
   "cell_type": "code",
   "execution_count": 410,
   "metadata": {},
   "outputs": [],
   "source": [
    "# Change cycle dtype from str to integer\n",
    "df.cycle = pd.to_numeric(df.cycle, downcast='integer')"
   ]
  },
  {
   "cell_type": "code",
   "execution_count": 417,
   "metadata": {},
   "outputs": [],
   "source": [
    "# Start cycle 1 at 0 for GUI\n",
    "df.cycle += -1"
   ]
  },
  {
   "cell_type": "markdown",
   "metadata": {},
   "source": [
    "# Save utc_df as csv file"
   ]
  },
  {
   "cell_type": "code",
   "execution_count": 419,
   "metadata": {},
   "outputs": [],
   "source": [
    "path = r'X:\\CIS-PD Videos\\timestamp'\n",
    "fname = 'GUI_timestamp.csv'\n",
    "filename = os.path.join(path, fname)\n",
    "with open(filename,'wb') as f:\n",
    "    df.to_csv(filename, sep=',')"
   ]
  },
  {
   "cell_type": "markdown",
   "metadata": {},
   "source": [
    "# for cisrol12, add the following data\n",
    "################### work on this\n",
    "# stop frame\n",
    "# stop_utc = ?\n",
    "# activity\n",
    "# shortname"
   ]
  },
  {
   "cell_type": "markdown",
   "metadata": {},
   "source": [
    "# Subjects 1030, 1019, and 1024 UTC timestamps were not adjusted for any offset from watch timestamp."
   ]
  },
  {
   "cell_type": "markdown",
   "metadata": {},
   "source": [
    "# combine cisuabn14 cycle 6 part 1 and 2 ntsbts video"
   ]
  },
  {
   "cell_type": "code",
   "execution_count": null,
   "metadata": {},
   "outputs": [],
   "source": []
  },
  {
   "cell_type": "code",
   "execution_count": null,
   "metadata": {},
   "outputs": [],
   "source": []
  },
  {
   "cell_type": "markdown",
   "metadata": {},
   "source": [
    "Summary of data that is off (info from watch data)\n",
    "- 1003 is off by 1 yr and 5 hours and some seconds, cycle 3 was off by an additional 9 min\n",
    "- 1005 is off by 1 yr 5 hrs and some seconds, cycle 2 is off by an additional 5 min\n",
    "- 1007 is off by 1 yr 5 hrs and some seconds\n",
    "- 1009 is off by 1 yr 5 hrs and some seconds\n",
    "- 1050 is off by 1 yr, 5 hrs and some sec\n",
    "- 1030 is off by several seconds (usually around 30 sec)\n",
    "- 1019 is off by 29.5 min\n",
    "- 1024 is off by 50 sec\n",
    "- 1048 cycle 1 3.5 hours off, cycle 2 missing, cycle 4 is 4 hrs off, cycle 5 is about 4 hrs off\n",
    "\n",
    "These videos we suspect editing, so Skip these subjects:\n",
    "- 1023 is off by 18 days, but the watch shaking time for all cycles the same\n",
    "- 1039 is off by 2 months, 13 days, and variable time but the watch shaking time for all cycles the same\n",
    "- 1043 is off by 2 months, 1 day, but  the watch shaking time for all cycles the same"
   ]
  }
 ],
 "metadata": {
  "kernelspec": {
   "display_name": "Python 3",
   "language": "python",
   "name": "python3"
  },
  "language_info": {
   "codemirror_mode": {
    "name": "ipython",
    "version": 3
   },
   "file_extension": ".py",
   "mimetype": "text/x-python",
   "name": "python",
   "nbconvert_exporter": "python",
   "pygments_lexer": "ipython3",
   "version": "3.6.5"
  }
 },
 "nbformat": 4,
 "nbformat_minor": 2
}

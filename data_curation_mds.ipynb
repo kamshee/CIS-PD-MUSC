{
 "cells": [
  {
   "cell_type": "markdown",
   "metadata": {},
   "source": [
    "# Data curation: MDS part III scores"
   ]
  },
  {
   "cell_type": "markdown",
   "metadata": {},
   "source": [
    "Form 238v1: MDS-UPDRS Scoring Summary\n",
    "Form 508v1: MDS-UPDRS Part 3 Scoring Summary"
   ]
  },
  {
   "cell_type": "code",
   "execution_count": 100,
   "metadata": {},
   "outputs": [],
   "source": [
    "# import packages\n",
    "import os\n",
    "import platform # don't need\n",
    "import pandas as pd\n",
    "import re\n",
    "import h5py #save hdf5 but pandas has a function...\n",
    "import numpy as np"
   ]
  },
  {
   "cell_type": "code",
   "execution_count": 101,
   "metadata": {},
   "outputs": [],
   "source": [
    "filename = r'//FS2.smpp.local\\RTO\\CIS-PD MUSC\\codelist.sas7bdat'\n",
    "codelist = pd.read_sas(filename)\n",
    "codelist.columns = codelist.columns.str.replace('z', '')\n",
    "codelist = codelist.applymap(lambda x: x.decode() if isinstance(x, bytes) else x)\n",
    "filename = r'//FS2.smpp.local\\RTO\\CIS-PD MUSC\\datadictionary.sas7bdat'\n",
    "datadict = pd.read_sas(filename, format = 'sas7bdat', encoding='iso-8859-1')\n",
    "datadict.columns = datadict.columns.str.replace('z', '')"
   ]
  },
  {
   "cell_type": "code",
   "execution_count": 102,
   "metadata": {},
   "outputs": [],
   "source": [
    "# load decoded forms\n",
    "filename = r'//FS2.smpp.local\\RTO\\CIS-PD MUSC\\decoded_forms\\form238.h5'\n",
    "form238 = pd.read_hdf(filename)\n",
    "filename = r'//FS2.smpp.local\\RTO\\CIS-PD MUSC\\decoded_forms\\form508.h5'\n",
    "form508 = pd.read_hdf(filename)\n",
    "form238 = form238.rename(index=str, columns={'SubjectCode':'Subject ID',\n",
    "                                  'VisitNm':'Visit'})\n",
    "form508 = form508.rename(index=str, columns={'SubjectCode':'Subject ID',\n",
    "                                  'VisitNm':'Visit'})"
   ]
  },
  {
   "cell_type": "code",
   "execution_count": null,
   "metadata": {},
   "outputs": [],
   "source": [
    "codelist.head()"
   ]
  },
  {
   "cell_type": "code",
   "execution_count": null,
   "metadata": {},
   "outputs": [],
   "source": [
    "datadict.head()"
   ]
  },
  {
   "cell_type": "code",
   "execution_count": null,
   "metadata": {},
   "outputs": [],
   "source": [
    "datadict.loc[datadict.FormID == 238.0]"
   ]
  },
  {
   "cell_type": "markdown",
   "metadata": {},
   "source": [
    "# Check form 238 and 508 contents"
   ]
  },
  {
   "cell_type": "code",
   "execution_count": null,
   "metadata": {},
   "outputs": [],
   "source": [
    "form238.head(2)"
   ]
  },
  {
   "cell_type": "code",
   "execution_count": null,
   "metadata": {
    "scrolled": true
   },
   "outputs": [],
   "source": [
    "form508.head(2)"
   ]
  },
  {
   "cell_type": "markdown",
   "metadata": {},
   "source": [
    "# Modify forms 508 and 238"
   ]
  },
  {
   "cell_type": "markdown",
   "metadata": {},
   "source": [
    "# Keep Q29-32 on 238\n",
    "Form 508\n",
    "- Qa Data collected - N, Y\n",
    "- Qb Date of assessment\n",
    "- Q01 state\n",
    "- Q02 hours\n",
    "- Qc comments\n",
    "Form 238\n",
    "Q29 on medication\n",
    "Q30 critical state\n",
    "Q31 on Levadopa\n",
    "Q32 min"
   ]
  },
  {
   "cell_type": "code",
   "execution_count": null,
   "metadata": {},
   "outputs": [],
   "source": [
    "## Do not drop - \n",
    "\n",
    "# drop 508 columns\n",
    "form508 = form508.drop(columns=['Q02', 'Q01', 'DataCollected', 'Qb2_UTC', 'FormTime'])"
   ]
  },
  {
   "cell_type": "code",
   "execution_count": null,
   "metadata": {},
   "outputs": [],
   "source": [
    "# drop form238 columns\n",
    "\n",
    "# Did not drop Q29-32, so NaN values will be on Form 508 data\n",
    "\n",
    "# delete Q32 which is 3.C1 Minutes since last levodopa dose\n",
    "form238 = form238.drop(columns=['Q02', 'Q03', 'Q04', 'Q05',\n",
    "'Q06', 'Q07', 'Q09', 'Q10', 'Q11', 'Q12', 'Q13', 'Q14', 'Q15', 'Q16',\n",
    "'Q17', 'Q18', 'Q19', 'Q20', 'Q21', 'Q22', 'Q23', 'Q24', 'Q25', 'Q26',\n",
    "'Q27', 'Q28',\n",
    "'Q69', 'Q70', 'Q71', 'Q72',\n",
    "'Q73', 'Q74', 'DataCollected', 'Q01', 'Q08'])"
   ]
  },
  {
   "cell_type": "code",
   "execution_count": null,
   "metadata": {},
   "outputs": [],
   "source": [
    "# Part 1-2\n",
    "# Qa, Qb, Q01 - Q28\n",
    "# Part 4\n",
    "# Q69 - Q74, Qc"
   ]
  },
  {
   "cell_type": "code",
   "execution_count": null,
   "metadata": {},
   "outputs": [],
   "source": [
    "# concatenate forms 508 and 238 dataframes\n",
    "combo = pd.concat([form238, form508])"
   ]
  },
  {
   "cell_type": "code",
   "execution_count": null,
   "metadata": {},
   "outputs": [],
   "source": [
    "oldname = ['Q33', 'Q34', 'Q35', 'Q36', 'Q37', 'Q38', 'Q39', 'Q40', 'Q41', \n",
    "           'Q42', 'Q43', 'Q44', 'Q45', 'Q46', 'Q47', 'Q48', 'Q49', 'Q50', \n",
    "           'Q51', 'Q52', 'Q53', 'Q54', 'Q55', 'Q56', 'Q57', 'Q58', 'Q59', \n",
    "           'Q60', 'Q61', 'Q62', 'Q63', 'Q64', 'Q65', 'Q66', 'Q67', 'Q68']"
   ]
  },
  {
   "cell_type": "code",
   "execution_count": null,
   "metadata": {},
   "outputs": [],
   "source": [
    "# change column names for Q33-68 with 3.13 etc.\n",
    "newname = [# questions 33-34\n",
    "'3.1',\n",
    "'3.2',\n",
    "# questions 35-39\n",
    "'3.3 Neck',\n",
    "'3.3 Right Upper Extremity',\n",
    "'3.3 Left Upper Extremity',\n",
    "'3.3 Right Lower Extremity',\n",
    "'3.3 Left Lower Extremity',\n",
    "# questions 40-41\n",
    "'3.4 Right Hand',\n",
    "'3.4 Left Hand',\n",
    "# questions 42-43\n",
    "'3.5 Right Hand',\n",
    "'3.5 Left Hand',\n",
    "# questions 44-45\n",
    "'3.6 Right Hand',\n",
    "'3.6 Left Hand',\n",
    "# questions 46-47\n",
    "'3.7 Right Foot',\n",
    "'3.7 Left Foot',\n",
    "# questions 48-49\n",
    "'3.8 Right Leg',\n",
    "'3.8 Left Leg',\n",
    "# questions 50-55\n",
    "'3.9',\n",
    "'3.10',\n",
    "'3.11',\n",
    "'3.12',\n",
    "'3.13',\n",
    "'3.14',\n",
    "# questions 56-57\n",
    "'3.15 Right Hand',\n",
    "'3.15 Left Hand',\n",
    "# questions 58-59\n",
    "'3.16 Right Hand',\n",
    "'3.16 Left Hand',\n",
    "# questions 60-64\n",
    "'3.17 Right Upper Extremity',\n",
    "'3.17 Left Upper Extremity',\n",
    "'3.17 Right Lower Extremity',\n",
    "'3.17 Left Lower Extremity',\n",
    "'3.17 Lip-Jaw',\n",
    "# question 65\n",
    "'3.18',\n",
    "# questions 66-67\n",
    "'3.19A',\n",
    "'3.19B',\n",
    "# question 68\n",
    "'3.20']"
   ]
  },
  {
   "cell_type": "code",
   "execution_count": null,
   "metadata": {
    "scrolled": false
   },
   "outputs": [],
   "source": [
    "col_dict = dict(zip(oldname,newname))\n",
    "print(col_dict)"
   ]
  },
  {
   "cell_type": "code",
   "execution_count": null,
   "metadata": {},
   "outputs": [],
   "source": [
    "combo = combo.rename(index=str, columns=col_dict)"
   ]
  },
  {
   "cell_type": "code",
   "execution_count": null,
   "metadata": {},
   "outputs": [],
   "source": [
    "# get rid of decimals\n",
    "columns = ['Subject ID', 'SiteID']\n",
    "for col in columns:\n",
    "    combo[col] = combo[col].apply(lambda x: x if pd.isnull(x) else int(x))\n",
    "\n",
    "# keeps columns float but removes decimals\n",
    "pd.set_option('precision', 0)"
   ]
  },
  {
   "cell_type": "code",
   "execution_count": null,
   "metadata": {},
   "outputs": [],
   "source": [
    "combo.head(2)"
   ]
  },
  {
   "cell_type": "code",
   "execution_count": null,
   "metadata": {},
   "outputs": [],
   "source": [
    "# save file as updrs_part3.h5\n",
    "filename = r'//FS2.smpp.local\\RTO\\CIS-PD MUSC\\decoded_forms\\updrs_part3.h5'\n",
    "# save pd.read_hdf(filename)\n",
    "with open(filename,'wb') as f:\n",
    "    combo.to_hdf(filename, key='combo', mode='w')"
   ]
  },
  {
   "cell_type": "code",
   "execution_count": null,
   "metadata": {},
   "outputs": [],
   "source": [
    "# open file\n",
    "filename = r'//FS2.smpp.local\\RTO\\CIS-PD MUSC\\decoded_forms\\updrs_part3.h5'\n",
    "pd.read_hdf(filename, 'combo')"
   ]
  },
  {
   "cell_type": "code",
   "execution_count": null,
   "metadata": {},
   "outputs": [],
   "source": []
  },
  {
   "cell_type": "code",
   "execution_count": null,
   "metadata": {},
   "outputs": [],
   "source": []
  },
  {
   "cell_type": "code",
   "execution_count": null,
   "metadata": {},
   "outputs": [],
   "source": []
  },
  {
   "cell_type": "code",
   "execution_count": null,
   "metadata": {},
   "outputs": [],
   "source": []
  },
  {
   "cell_type": "markdown",
   "metadata": {},
   "source": [
    "# Create updrs_124\n",
    "- Use Form 238\n",
    "- Remove part 3\n",
    "- Keep parts 1, 2, 4"
   ]
  },
  {
   "cell_type": "markdown",
   "metadata": {},
   "source": [
    "Part 1-2\n",
    "Qa, Qb, Q01 - Q28\n",
    "Part 4\n",
    "Q69 - Q74, Qc"
   ]
  },
  {
   "cell_type": "code",
   "execution_count": 261,
   "metadata": {},
   "outputs": [],
   "source": [
    "filename = r'//FS2.smpp.local\\RTO\\CIS-PD MUSC\\decoded_forms\\form238.h5'\n",
    "f238 = pd.read_hdf(filename)\n",
    "f238 = f238.rename(index=str, columns={'SubjectCode':'Subject ID',\n",
    "                                  'VisitNm':'Visit'})"
   ]
  },
  {
   "cell_type": "code",
   "execution_count": 262,
   "metadata": {},
   "outputs": [
    {
     "data": {
      "text/plain": [
       "Index(['Subject ID', 'SiteID', 'Visit', 'FormDate', 'Q02', 'Q03', 'Q04', 'Q05',\n",
       "       'Q06', 'Q07', 'Q09', 'Q10', 'Q11', 'Q12', 'Q13', 'Q14', 'Q15', 'Q16',\n",
       "       'Q17', 'Q18', 'Q19', 'Q20', 'Q21', 'Q22', 'Q23', 'Q24', 'Q25', 'Q26',\n",
       "       'Q27', 'Q28', 'Q32', 'Q33', 'Q34', 'Q35', 'Q36', 'Q37', 'Q38', 'Q39',\n",
       "       'Q40', 'Q41', 'Q42', 'Q43', 'Q44', 'Q45', 'Q46', 'Q47', 'Q48', 'Q49',\n",
       "       'Q50', 'Q51', 'Q52', 'Q53', 'Q54', 'Q55', 'Q56', 'Q57', 'Q58', 'Q59',\n",
       "       'Q60', 'Q61', 'Q62', 'Q63', 'Q64', 'Q65', 'Q69', 'Q70', 'Q71', 'Q72',\n",
       "       'Q73', 'Q74', 'DataCollected', 'Q01', 'Q08', 'Q29', 'Q30', 'Q31', 'Q66',\n",
       "       'Q67', 'Q68'],\n",
       "      dtype='object')"
      ]
     },
     "execution_count": 262,
     "metadata": {},
     "output_type": "execute_result"
    }
   ],
   "source": [
    "f238.columns"
   ]
  },
  {
   "cell_type": "code",
   "execution_count": null,
   "metadata": {},
   "outputs": [],
   "source": [
    "for i, k in enumerate(f238.columns):\n",
    "    print(i, k)"
   ]
  },
  {
   "cell_type": "code",
   "execution_count": 263,
   "metadata": {},
   "outputs": [],
   "source": [
    "# remove columns Q29:31, Q32:Q65, Q66:Q68\n",
    "f238.drop(f238.columns[30:64], axis=1, inplace=True)\n",
    "f238 = f238.drop(columns=['Q29','Q30','Q31','Q66', 'Q67', 'Q68'])"
   ]
  },
  {
   "cell_type": "code",
   "execution_count": 264,
   "metadata": {},
   "outputs": [
    {
     "data": {
      "text/plain": [
       "Index(['Subject ID', 'SiteID', 'Visit', 'FormDate', 'Q02', 'Q03', 'Q04', 'Q05',\n",
       "       'Q06', 'Q07', 'Q09', 'Q10', 'Q11', 'Q12', 'Q13', 'Q14', 'Q15', 'Q16',\n",
       "       'Q17', 'Q18', 'Q19', 'Q20', 'Q21', 'Q22', 'Q23', 'Q24', 'Q25', 'Q26',\n",
       "       'Q27', 'Q28', 'Q69', 'Q70', 'Q71', 'Q72', 'Q73', 'Q74', 'DataCollected',\n",
       "       'Q01', 'Q08'],\n",
       "      dtype='object')"
      ]
     },
     "execution_count": 264,
     "metadata": {},
     "output_type": "execute_result"
    }
   ],
   "source": [
    "f238.columns"
   ]
  },
  {
   "cell_type": "code",
   "execution_count": 265,
   "metadata": {},
   "outputs": [],
   "source": [
    "f238 = f238[['Subject ID', 'SiteID', 'Visit', 'FormDate', 'Q01', 'Q02', 'Q03', 'Q04', 'Q05',\n",
    "       'Q06', 'Q07', 'Q08', 'Q09', 'Q10', 'Q11', 'Q12', 'Q13', 'Q14', 'Q15', 'Q16',\n",
    "       'Q17', 'Q18', 'Q19', 'Q20', 'Q21', 'Q22', 'Q23', 'Q24', 'Q25', 'Q26',\n",
    "       'Q27', 'Q28', 'Q69', 'Q70', 'Q71', 'Q72', 'Q73', 'Q74', 'DataCollected']]"
   ]
  },
  {
   "cell_type": "code",
   "execution_count": 284,
   "metadata": {},
   "outputs": [
    {
     "data": {
      "text/plain": [
       "Index(['Subject ID', 'SiteID', 'Visit', 'FormDate', 'Q01', 'Q02', 'Q03', 'Q04',\n",
       "       'Q05', 'Q06', 'Q07', 'Q08', 'Q09', 'Q10', 'Q11', 'Q12', 'Q13', 'Q14',\n",
       "       'Q15', 'Q16', 'Q17', 'Q18', 'Q19', 'Q20', 'Q21', 'Q22', 'Q23', 'Q24',\n",
       "       'Q25', 'Q26', 'Q27', 'Q28', 'Q69', 'Q70', 'Q71', 'Q72', 'Q73', 'Q74',\n",
       "       'DataCollected'],\n",
       "      dtype='object')"
      ]
     },
     "execution_count": 284,
     "metadata": {},
     "output_type": "execute_result"
    }
   ],
   "source": [
    "f238.columns"
   ]
  },
  {
   "cell_type": "code",
   "execution_count": 285,
   "metadata": {},
   "outputs": [
    {
     "data": {
      "text/plain": [
       "'Q01'"
      ]
     },
     "execution_count": 285,
     "metadata": {},
     "output_type": "execute_result"
    }
   ],
   "source": [
    "f238.columns[4]"
   ]
  },
  {
   "cell_type": "code",
   "execution_count": 272,
   "metadata": {},
   "outputs": [
    {
     "name": "stdout",
     "output_type": "stream",
     "text": [
      "0 Subject ID\n",
      "1 SiteID\n",
      "2 Visit\n",
      "3 FormDate\n",
      "4 Q01\n",
      "5 Q02\n",
      "6 Q03\n",
      "7 Q04\n",
      "8 Q05\n",
      "9 Q06\n",
      "10 Q07\n",
      "11 Q08\n",
      "12 Q09\n",
      "13 Q10\n",
      "14 Q11\n",
      "15 Q12\n",
      "16 Q13\n",
      "17 Q14\n",
      "18 Q15\n",
      "19 Q16\n",
      "20 Q17\n",
      "21 Q18\n",
      "22 Q19\n",
      "23 Q20\n",
      "24 Q21\n",
      "25 Q22\n",
      "26 Q23\n",
      "27 Q24\n",
      "28 Q25\n",
      "29 Q26\n",
      "30 Q27\n",
      "31 Q28\n",
      "32 Q69\n",
      "33 Q70\n",
      "34 Q71\n",
      "35 Q72\n",
      "36 Q73\n",
      "37 Q74\n",
      "38 DataCollected\n"
     ]
    }
   ],
   "source": [
    "for i, k in enumerate(f238.columns):\n",
    "    print(i, k)"
   ]
  },
  {
   "cell_type": "code",
   "execution_count": null,
   "metadata": {},
   "outputs": [],
   "source": [
    "f238.head(5)"
   ]
  },
  {
   "cell_type": "code",
   "execution_count": 143,
   "metadata": {},
   "outputs": [],
   "source": [
    "filename = r'//FS2.smpp.local\\RTO\\CIS-PD MUSC\\datadictionary.sas7bdat'\n",
    "datadict = pd.read_sas(filename, format = 'sas7bdat', encoding='iso-8859-1')\n",
    "datadict.columns = datadict.columns.str.replace('z', '')"
   ]
  },
  {
   "cell_type": "code",
   "execution_count": 279,
   "metadata": {},
   "outputs": [],
   "source": [
    "# get question names\n",
    "questions = datadict.loc[datadict.FormID == 238.0]\n",
    "questions = questions[['FieldNb','FieldNm']]\n",
    "questions = questions.reset_index(drop=True)"
   ]
  },
  {
   "cell_type": "code",
   "execution_count": 280,
   "metadata": {},
   "outputs": [],
   "source": [
    "questions = questions.drop(questions.index[30:70]).reset_index(drop=True)\n",
    "# remove z in FieldNb column\n",
    "questions.FieldNb = questions.FieldNb.str.replace('z', '')\n",
    "# change first 2 question names\n",
    "questions.FieldNm[0] = questions.FieldNb[0]\n",
    "questions.FieldNm[1] = questions.FieldNb[1]"
   ]
  },
  {
   "cell_type": "code",
   "execution_count": 251,
   "metadata": {},
   "outputs": [],
   "source": [
    "def keepleftstring(string, sep=' '):\n",
    "    \"\"\"Take a string and keep text before specified character.\n",
    "    Default character is ' '.\n",
    "    \"\"\"\n",
    "    new_string = string.split(sep, 1)[0]\n",
    "    return new_string"
   ]
  },
  {
   "cell_type": "code",
   "execution_count": 281,
   "metadata": {},
   "outputs": [],
   "source": [
    "# change question descriptions\n",
    "# skip indices: 0, 1, 2, 9, 36\n",
    "for i, k in enumerate(questions.FieldNm):\n",
    "    if not (i==0) | (i==1) | (i==2)| (i==9)| (i==36):\n",
    "        questions.FieldNm[i]=keepleftstring(k)"
   ]
  },
  {
   "cell_type": "code",
   "execution_count": 282,
   "metadata": {},
   "outputs": [],
   "source": [
    "# remove FieldNb rows: DataCollected, FormDate, and Notes\n",
    "questions = questions.drop(questions.index[0:2]).reset_index(drop=True)\n",
    "questions = questions.drop(questions.index[-1]).reset_index(drop=True)"
   ]
  },
  {
   "cell_type": "markdown",
   "metadata": {},
   "source": [
    "# Rename f238 column names then save"
   ]
  },
  {
   "cell_type": "code",
   "execution_count": 300,
   "metadata": {},
   "outputs": [
    {
     "data": {
      "text/plain": [
       "Index(['Subject ID', 'SiteID', 'Visit', 'FormDate', 'Q01', 'Q02', 'Q03', 'Q04',\n",
       "       'Q05', 'Q06', 'Q07', 'Q08', 'Q09', 'Q10', 'Q11', 'Q12', 'Q13', 'Q14',\n",
       "       'Q15', 'Q16', 'Q17', 'Q18', 'Q19', 'Q20', 'Q21', 'Q22', 'Q23', 'Q24',\n",
       "       'Q25', 'Q26', 'Q27', 'Q28', 'Q69', 'Q70', 'Q71', 'Q72', 'Q73', 'Q74',\n",
       "       'DataCollected'],\n",
       "      dtype='object')"
      ]
     },
     "execution_count": 300,
     "metadata": {},
     "output_type": "execute_result"
    }
   ],
   "source": [
    "f238.columns"
   ]
  },
  {
   "cell_type": "code",
   "execution_count": 303,
   "metadata": {},
   "outputs": [],
   "source": [
    "newcolnames = ['Subject ID', 'SiteID', 'Visit', 'FormDate',\n",
    "               'Primary source of information', '1.1', '1.2', '1.3', '1.4', '1.5',\n",
    "               '1.6', 'Who is filling out this questionnaire', '1.7', '1.8',\n",
    "               '1.9', '1.10', '1.11', '1.12', '1.13', '2.1', '2.2', '2.3', '2.4',\n",
    "               '2.5', '2.6', '2.7', '2.8', '2.9', '2.10', '2.11', '2.12', '2.13',\n",
    "               '4.1', '4.2', '4.3', '4.4', '4.5', '4.6', 'DataCollected']\n",
    "f238.columns = newcolnames"
   ]
  },
  {
   "cell_type": "code",
   "execution_count": 305,
   "metadata": {},
   "outputs": [],
   "source": [
    "f238.columns = newcolnames"
   ]
  },
  {
   "cell_type": "code",
   "execution_count": 306,
   "metadata": {},
   "outputs": [
    {
     "data": {
      "text/plain": [
       "Index(['Subject ID', 'SiteID', 'Visit', 'FormDate',\n",
       "       'Primary source of information', '1.1', '1.2', '1.3', '1.4', '1.5',\n",
       "       '1.6', 'Who is filling out this questionnaire', '1.7', '1.8', '1.9',\n",
       "       '1.10', '1.11', '1.12', '1.13', '2.1', '2.2', '2.3', '2.4', '2.5',\n",
       "       '2.6', '2.7', '2.8', '2.9', '2.10', '2.11', '2.12', '2.13', '4.1',\n",
       "       '4.2', '4.3', '4.4', '4.5', '4.6', 'DataCollected'],\n",
       "      dtype='object')"
      ]
     },
     "execution_count": 306,
     "metadata": {},
     "output_type": "execute_result"
    }
   ],
   "source": [
    "f238.columns"
   ]
  },
  {
   "cell_type": "code",
   "execution_count": 297,
   "metadata": {},
   "outputs": [
    {
     "data": {
      "text/plain": [
       "array(['Primary source of information', '1.1', '1.2', '1.3', '1.4', '1.5',\n",
       "       '1.6', 'Who is filling out this questionnaire', '1.7', '1.8',\n",
       "       '1.9', '1.10', '1.11', '1.12', '1.13', '2.1', '2.2', '2.3', '2.4',\n",
       "       '2.5', '2.6', '2.7', '2.8', '2.9', '2.10', '2.11', '2.12', '2.13',\n",
       "       '4.1', '4.2', '4.3', '4.4', '4.5', '4.6'], dtype=object)"
      ]
     },
     "execution_count": 297,
     "metadata": {},
     "output_type": "execute_result"
    }
   ],
   "source": [
    "questions.FieldNm.values"
   ]
  },
  {
   "cell_type": "code",
   "execution_count": null,
   "metadata": {},
   "outputs": [],
   "source": [
    "f238"
   ]
  },
  {
   "cell_type": "code",
   "execution_count": 308,
   "metadata": {},
   "outputs": [
    {
     "name": "stderr",
     "output_type": "stream",
     "text": [
      "C:\\ProgramData\\anaconda3\\lib\\site-packages\\pandas\\core\\generic.py:1993: PerformanceWarning: \n",
      "your performance may suffer as PyTables will pickle object types that it cannot\n",
      "map directly to c-types [inferred_type->mixed,key->block1_values] [items->['Visit', 'Primary source of information', 'Who is filling out this questionnaire', 'DataCollected']]\n",
      "\n",
      "  return pytables.to_hdf(path_or_buf, key, self, **kwargs)\n"
     ]
    }
   ],
   "source": [
    "# save file as updrs_124.h5\n",
    "filename = r'//FS2.smpp.local\\RTO\\CIS-PD MUSC\\decoded_forms\\updrs_124.h5'\n",
    "# save pd.read_hdf(filename)\n",
    "with open(filename,'wb') as f:\n",
    "    f238.to_hdf(filename, key='f238', mode='w')"
   ]
  },
  {
   "cell_type": "code",
   "execution_count": null,
   "metadata": {},
   "outputs": [],
   "source": [
    "filename = r'//FS2.smpp.local\\RTO\\CIS-PD MUSC\\decoded_forms\\updrs_124.h5'\n",
    "pd.read_hdf(filename, 'f238')"
   ]
  },
  {
   "cell_type": "code",
   "execution_count": null,
   "metadata": {},
   "outputs": [],
   "source": []
  },
  {
   "cell_type": "markdown",
   "metadata": {},
   "source": [
    "# Explore datadict for form 238"
   ]
  },
  {
   "cell_type": "code",
   "execution_count": 254,
   "metadata": {},
   "outputs": [],
   "source": [
    "temp = datadict.loc[datadict.FormID == 238.0]"
   ]
  },
  {
   "cell_type": "code",
   "execution_count": null,
   "metadata": {},
   "outputs": [],
   "source": [
    "temp.loc[50:60]"
   ]
  },
  {
   "cell_type": "code",
   "execution_count": null,
   "metadata": {},
   "outputs": [],
   "source": []
  },
  {
   "cell_type": "code",
   "execution_count": null,
   "metadata": {},
   "outputs": [],
   "source": []
  },
  {
   "cell_type": "code",
   "execution_count": null,
   "metadata": {},
   "outputs": [],
   "source": []
  },
  {
   "cell_type": "code",
   "execution_count": null,
   "metadata": {},
   "outputs": [],
   "source": []
  },
  {
   "cell_type": "code",
   "execution_count": null,
   "metadata": {},
   "outputs": [],
   "source": []
  }
 ],
 "metadata": {
  "kernelspec": {
   "display_name": "Python 3",
   "language": "python",
   "name": "python3"
  },
  "language_info": {
   "codemirror_mode": {
    "name": "ipython",
    "version": 3
   },
   "file_extension": ".py",
   "mimetype": "text/x-python",
   "name": "python",
   "nbconvert_exporter": "python",
   "pygments_lexer": "ipython3",
   "version": "3.6.5"
  }
 },
 "nbformat": 4,
 "nbformat_minor": 2
}
